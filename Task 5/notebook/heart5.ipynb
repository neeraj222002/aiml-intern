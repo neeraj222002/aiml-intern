{
  "nbformat": 4,
  "nbformat_minor": 0,
  "metadata": {
    "colab": {
      "provenance": []
    },
    "kernelspec": {
      "name": "python3",
      "display_name": "Python 3"
    },
    "language_info": {
      "name": "python"
    }
  },
  "cells": [
    {
      "cell_type": "code",
      "execution_count": 24,
      "metadata": {
        "id": "sO76Si9GL4Qs"
      },
      "outputs": [],
      "source": [
        "#import pandas as pd\n",
        "#from sklearn.model_selection import train_test_split\n",
        "#from sklearn.tree import DecisionTreeClassifier, export_graphviz\n",
        "#import graphviz\n",
        "#from sklearn.metrics import accuracy_score\n",
        "#import numpy as np\n",
        "#import matplotlib.pyplot as plt\n",
        "\n"
      ]
    },
    {
      "cell_type": "code",
      "source": [
        "import pandas as pd\n",
        "from sklearn.model_selection import train_test_split\n",
        "\n",
        "# Load dataset\n",
        "data = pd.read_csv('/content/heart.csv')\n",
        "data.head()\n",
        "\n",
        "# Split features and target\n",
        "X = data.drop(\"target\", axis=1)  # Features\n",
        "y = data[\"target\"]               # Target (0 = No disease, 1 = Disease)\n",
        "\n",
        "# Train-Test Split (80% train, 20% test)\n",
        "X_train, X_test, y_train, y_test = train_test_split( X, y, test_size=0.2, random_state=42)\n"
      ],
      "metadata": {
        "id": "dP2lUdb7MJGp"
      },
      "execution_count": 12,
      "outputs": []
    },
    {
      "cell_type": "markdown",
      "source": [
        "Train the Decision Tree Classifier\n"
      ],
      "metadata": {
        "id": "YeRkk-HFNkZA"
      }
    },
    {
      "cell_type": "code",
      "source": [
        "from sklearn.tree import DecisionTreeClassifier\n",
        "\n",
        "# Create Decision Tree model\n",
        "dt = DecisionTreeClassifier(random_state=42)\n",
        "\n",
        "# Train the model\n",
        "dt.fit(X_train, y_train)\n",
        "\n",
        "# Note: The size of the graph cannot be directly controlled through export_graphviz.\n",
        "# To adjust the size, you would need to modify the generated DOT data string or use a different visualization library."
      ],
      "metadata": {
        "colab": {
          "base_uri": "https://localhost:8080/",
          "height": 80
        },
        "id": "1HrdTGfIMTWq",
        "outputId": "109de7b4-3a93-41dd-eda8-7558551db1d9"
      },
      "execution_count": 13,
      "outputs": [
        {
          "output_type": "execute_result",
          "data": {
            "text/plain": [
              "DecisionTreeClassifier(random_state=42)"
            ],
            "text/html": [
              "<style>#sk-container-id-3 {\n",
              "  /* Definition of color scheme common for light and dark mode */\n",
              "  --sklearn-color-text: #000;\n",
              "  --sklearn-color-text-muted: #666;\n",
              "  --sklearn-color-line: gray;\n",
              "  /* Definition of color scheme for unfitted estimators */\n",
              "  --sklearn-color-unfitted-level-0: #fff5e6;\n",
              "  --sklearn-color-unfitted-level-1: #f6e4d2;\n",
              "  --sklearn-color-unfitted-level-2: #ffe0b3;\n",
              "  --sklearn-color-unfitted-level-3: chocolate;\n",
              "  /* Definition of color scheme for fitted estimators */\n",
              "  --sklearn-color-fitted-level-0: #f0f8ff;\n",
              "  --sklearn-color-fitted-level-1: #d4ebff;\n",
              "  --sklearn-color-fitted-level-2: #b3dbfd;\n",
              "  --sklearn-color-fitted-level-3: cornflowerblue;\n",
              "\n",
              "  /* Specific color for light theme */\n",
              "  --sklearn-color-text-on-default-background: var(--sg-text-color, var(--theme-code-foreground, var(--jp-content-font-color1, black)));\n",
              "  --sklearn-color-background: var(--sg-background-color, var(--theme-background, var(--jp-layout-color0, white)));\n",
              "  --sklearn-color-border-box: var(--sg-text-color, var(--theme-code-foreground, var(--jp-content-font-color1, black)));\n",
              "  --sklearn-color-icon: #696969;\n",
              "\n",
              "  @media (prefers-color-scheme: dark) {\n",
              "    /* Redefinition of color scheme for dark theme */\n",
              "    --sklearn-color-text-on-default-background: var(--sg-text-color, var(--theme-code-foreground, var(--jp-content-font-color1, white)));\n",
              "    --sklearn-color-background: var(--sg-background-color, var(--theme-background, var(--jp-layout-color0, #111)));\n",
              "    --sklearn-color-border-box: var(--sg-text-color, var(--theme-code-foreground, var(--jp-content-font-color1, white)));\n",
              "    --sklearn-color-icon: #878787;\n",
              "  }\n",
              "}\n",
              "\n",
              "#sk-container-id-3 {\n",
              "  color: var(--sklearn-color-text);\n",
              "}\n",
              "\n",
              "#sk-container-id-3 pre {\n",
              "  padding: 0;\n",
              "}\n",
              "\n",
              "#sk-container-id-3 input.sk-hidden--visually {\n",
              "  border: 0;\n",
              "  clip: rect(1px 1px 1px 1px);\n",
              "  clip: rect(1px, 1px, 1px, 1px);\n",
              "  height: 1px;\n",
              "  margin: -1px;\n",
              "  overflow: hidden;\n",
              "  padding: 0;\n",
              "  position: absolute;\n",
              "  width: 1px;\n",
              "}\n",
              "\n",
              "#sk-container-id-3 div.sk-dashed-wrapped {\n",
              "  border: 1px dashed var(--sklearn-color-line);\n",
              "  margin: 0 0.4em 0.5em 0.4em;\n",
              "  box-sizing: border-box;\n",
              "  padding-bottom: 0.4em;\n",
              "  background-color: var(--sklearn-color-background);\n",
              "}\n",
              "\n",
              "#sk-container-id-3 div.sk-container {\n",
              "  /* jupyter's `normalize.less` sets `[hidden] { display: none; }`\n",
              "     but bootstrap.min.css set `[hidden] { display: none !important; }`\n",
              "     so we also need the `!important` here to be able to override the\n",
              "     default hidden behavior on the sphinx rendered scikit-learn.org.\n",
              "     See: https://github.com/scikit-learn/scikit-learn/issues/21755 */\n",
              "  display: inline-block !important;\n",
              "  position: relative;\n",
              "}\n",
              "\n",
              "#sk-container-id-3 div.sk-text-repr-fallback {\n",
              "  display: none;\n",
              "}\n",
              "\n",
              "div.sk-parallel-item,\n",
              "div.sk-serial,\n",
              "div.sk-item {\n",
              "  /* draw centered vertical line to link estimators */\n",
              "  background-image: linear-gradient(var(--sklearn-color-text-on-default-background), var(--sklearn-color-text-on-default-background));\n",
              "  background-size: 2px 100%;\n",
              "  background-repeat: no-repeat;\n",
              "  background-position: center center;\n",
              "}\n",
              "\n",
              "/* Parallel-specific style estimator block */\n",
              "\n",
              "#sk-container-id-3 div.sk-parallel-item::after {\n",
              "  content: \"\";\n",
              "  width: 100%;\n",
              "  border-bottom: 2px solid var(--sklearn-color-text-on-default-background);\n",
              "  flex-grow: 1;\n",
              "}\n",
              "\n",
              "#sk-container-id-3 div.sk-parallel {\n",
              "  display: flex;\n",
              "  align-items: stretch;\n",
              "  justify-content: center;\n",
              "  background-color: var(--sklearn-color-background);\n",
              "  position: relative;\n",
              "}\n",
              "\n",
              "#sk-container-id-3 div.sk-parallel-item {\n",
              "  display: flex;\n",
              "  flex-direction: column;\n",
              "}\n",
              "\n",
              "#sk-container-id-3 div.sk-parallel-item:first-child::after {\n",
              "  align-self: flex-end;\n",
              "  width: 50%;\n",
              "}\n",
              "\n",
              "#sk-container-id-3 div.sk-parallel-item:last-child::after {\n",
              "  align-self: flex-start;\n",
              "  width: 50%;\n",
              "}\n",
              "\n",
              "#sk-container-id-3 div.sk-parallel-item:only-child::after {\n",
              "  width: 0;\n",
              "}\n",
              "\n",
              "/* Serial-specific style estimator block */\n",
              "\n",
              "#sk-container-id-3 div.sk-serial {\n",
              "  display: flex;\n",
              "  flex-direction: column;\n",
              "  align-items: center;\n",
              "  background-color: var(--sklearn-color-background);\n",
              "  padding-right: 1em;\n",
              "  padding-left: 1em;\n",
              "}\n",
              "\n",
              "\n",
              "/* Toggleable style: style used for estimator/Pipeline/ColumnTransformer box that is\n",
              "clickable and can be expanded/collapsed.\n",
              "- Pipeline and ColumnTransformer use this feature and define the default style\n",
              "- Estimators will overwrite some part of the style using the `sk-estimator` class\n",
              "*/\n",
              "\n",
              "/* Pipeline and ColumnTransformer style (default) */\n",
              "\n",
              "#sk-container-id-3 div.sk-toggleable {\n",
              "  /* Default theme specific background. It is overwritten whether we have a\n",
              "  specific estimator or a Pipeline/ColumnTransformer */\n",
              "  background-color: var(--sklearn-color-background);\n",
              "}\n",
              "\n",
              "/* Toggleable label */\n",
              "#sk-container-id-3 label.sk-toggleable__label {\n",
              "  cursor: pointer;\n",
              "  display: flex;\n",
              "  width: 100%;\n",
              "  margin-bottom: 0;\n",
              "  padding: 0.5em;\n",
              "  box-sizing: border-box;\n",
              "  text-align: center;\n",
              "  align-items: start;\n",
              "  justify-content: space-between;\n",
              "  gap: 0.5em;\n",
              "}\n",
              "\n",
              "#sk-container-id-3 label.sk-toggleable__label .caption {\n",
              "  font-size: 0.6rem;\n",
              "  font-weight: lighter;\n",
              "  color: var(--sklearn-color-text-muted);\n",
              "}\n",
              "\n",
              "#sk-container-id-3 label.sk-toggleable__label-arrow:before {\n",
              "  /* Arrow on the left of the label */\n",
              "  content: \"▸\";\n",
              "  float: left;\n",
              "  margin-right: 0.25em;\n",
              "  color: var(--sklearn-color-icon);\n",
              "}\n",
              "\n",
              "#sk-container-id-3 label.sk-toggleable__label-arrow:hover:before {\n",
              "  color: var(--sklearn-color-text);\n",
              "}\n",
              "\n",
              "/* Toggleable content - dropdown */\n",
              "\n",
              "#sk-container-id-3 div.sk-toggleable__content {\n",
              "  max-height: 0;\n",
              "  max-width: 0;\n",
              "  overflow: hidden;\n",
              "  text-align: left;\n",
              "  /* unfitted */\n",
              "  background-color: var(--sklearn-color-unfitted-level-0);\n",
              "}\n",
              "\n",
              "#sk-container-id-3 div.sk-toggleable__content.fitted {\n",
              "  /* fitted */\n",
              "  background-color: var(--sklearn-color-fitted-level-0);\n",
              "}\n",
              "\n",
              "#sk-container-id-3 div.sk-toggleable__content pre {\n",
              "  margin: 0.2em;\n",
              "  border-radius: 0.25em;\n",
              "  color: var(--sklearn-color-text);\n",
              "  /* unfitted */\n",
              "  background-color: var(--sklearn-color-unfitted-level-0);\n",
              "}\n",
              "\n",
              "#sk-container-id-3 div.sk-toggleable__content.fitted pre {\n",
              "  /* unfitted */\n",
              "  background-color: var(--sklearn-color-fitted-level-0);\n",
              "}\n",
              "\n",
              "#sk-container-id-3 input.sk-toggleable__control:checked~div.sk-toggleable__content {\n",
              "  /* Expand drop-down */\n",
              "  max-height: 200px;\n",
              "  max-width: 100%;\n",
              "  overflow: auto;\n",
              "}\n",
              "\n",
              "#sk-container-id-3 input.sk-toggleable__control:checked~label.sk-toggleable__label-arrow:before {\n",
              "  content: \"▾\";\n",
              "}\n",
              "\n",
              "/* Pipeline/ColumnTransformer-specific style */\n",
              "\n",
              "#sk-container-id-3 div.sk-label input.sk-toggleable__control:checked~label.sk-toggleable__label {\n",
              "  color: var(--sklearn-color-text);\n",
              "  background-color: var(--sklearn-color-unfitted-level-2);\n",
              "}\n",
              "\n",
              "#sk-container-id-3 div.sk-label.fitted input.sk-toggleable__control:checked~label.sk-toggleable__label {\n",
              "  background-color: var(--sklearn-color-fitted-level-2);\n",
              "}\n",
              "\n",
              "/* Estimator-specific style */\n",
              "\n",
              "/* Colorize estimator box */\n",
              "#sk-container-id-3 div.sk-estimator input.sk-toggleable__control:checked~label.sk-toggleable__label {\n",
              "  /* unfitted */\n",
              "  background-color: var(--sklearn-color-unfitted-level-2);\n",
              "}\n",
              "\n",
              "#sk-container-id-3 div.sk-estimator.fitted input.sk-toggleable__control:checked~label.sk-toggleable__label {\n",
              "  /* fitted */\n",
              "  background-color: var(--sklearn-color-fitted-level-2);\n",
              "}\n",
              "\n",
              "#sk-container-id-3 div.sk-label label.sk-toggleable__label,\n",
              "#sk-container-id-3 div.sk-label label {\n",
              "  /* The background is the default theme color */\n",
              "  color: var(--sklearn-color-text-on-default-background);\n",
              "}\n",
              "\n",
              "/* On hover, darken the color of the background */\n",
              "#sk-container-id-3 div.sk-label:hover label.sk-toggleable__label {\n",
              "  color: var(--sklearn-color-text);\n",
              "  background-color: var(--sklearn-color-unfitted-level-2);\n",
              "}\n",
              "\n",
              "/* Label box, darken color on hover, fitted */\n",
              "#sk-container-id-3 div.sk-label.fitted:hover label.sk-toggleable__label.fitted {\n",
              "  color: var(--sklearn-color-text);\n",
              "  background-color: var(--sklearn-color-fitted-level-2);\n",
              "}\n",
              "\n",
              "/* Estimator label */\n",
              "\n",
              "#sk-container-id-3 div.sk-label label {\n",
              "  font-family: monospace;\n",
              "  font-weight: bold;\n",
              "  display: inline-block;\n",
              "  line-height: 1.2em;\n",
              "}\n",
              "\n",
              "#sk-container-id-3 div.sk-label-container {\n",
              "  text-align: center;\n",
              "}\n",
              "\n",
              "/* Estimator-specific */\n",
              "#sk-container-id-3 div.sk-estimator {\n",
              "  font-family: monospace;\n",
              "  border: 1px dotted var(--sklearn-color-border-box);\n",
              "  border-radius: 0.25em;\n",
              "  box-sizing: border-box;\n",
              "  margin-bottom: 0.5em;\n",
              "  /* unfitted */\n",
              "  background-color: var(--sklearn-color-unfitted-level-0);\n",
              "}\n",
              "\n",
              "#sk-container-id-3 div.sk-estimator.fitted {\n",
              "  /* fitted */\n",
              "  background-color: var(--sklearn-color-fitted-level-0);\n",
              "}\n",
              "\n",
              "/* on hover */\n",
              "#sk-container-id-3 div.sk-estimator:hover {\n",
              "  /* unfitted */\n",
              "  background-color: var(--sklearn-color-unfitted-level-2);\n",
              "}\n",
              "\n",
              "#sk-container-id-3 div.sk-estimator.fitted:hover {\n",
              "  /* fitted */\n",
              "  background-color: var(--sklearn-color-fitted-level-2);\n",
              "}\n",
              "\n",
              "/* Specification for estimator info (e.g. \"i\" and \"?\") */\n",
              "\n",
              "/* Common style for \"i\" and \"?\" */\n",
              "\n",
              ".sk-estimator-doc-link,\n",
              "a:link.sk-estimator-doc-link,\n",
              "a:visited.sk-estimator-doc-link {\n",
              "  float: right;\n",
              "  font-size: smaller;\n",
              "  line-height: 1em;\n",
              "  font-family: monospace;\n",
              "  background-color: var(--sklearn-color-background);\n",
              "  border-radius: 1em;\n",
              "  height: 1em;\n",
              "  width: 1em;\n",
              "  text-decoration: none !important;\n",
              "  margin-left: 0.5em;\n",
              "  text-align: center;\n",
              "  /* unfitted */\n",
              "  border: var(--sklearn-color-unfitted-level-1) 1pt solid;\n",
              "  color: var(--sklearn-color-unfitted-level-1);\n",
              "}\n",
              "\n",
              ".sk-estimator-doc-link.fitted,\n",
              "a:link.sk-estimator-doc-link.fitted,\n",
              "a:visited.sk-estimator-doc-link.fitted {\n",
              "  /* fitted */\n",
              "  border: var(--sklearn-color-fitted-level-1) 1pt solid;\n",
              "  color: var(--sklearn-color-fitted-level-1);\n",
              "}\n",
              "\n",
              "/* On hover */\n",
              "div.sk-estimator:hover .sk-estimator-doc-link:hover,\n",
              ".sk-estimator-doc-link:hover,\n",
              "div.sk-label-container:hover .sk-estimator-doc-link:hover,\n",
              ".sk-estimator-doc-link:hover {\n",
              "  /* unfitted */\n",
              "  background-color: var(--sklearn-color-unfitted-level-3);\n",
              "  color: var(--sklearn-color-background);\n",
              "  text-decoration: none;\n",
              "}\n",
              "\n",
              "div.sk-estimator.fitted:hover .sk-estimator-doc-link.fitted:hover,\n",
              ".sk-estimator-doc-link.fitted:hover,\n",
              "div.sk-label-container:hover .sk-estimator-doc-link.fitted:hover,\n",
              ".sk-estimator-doc-link.fitted:hover {\n",
              "  /* fitted */\n",
              "  background-color: var(--sklearn-color-fitted-level-3);\n",
              "  color: var(--sklearn-color-background);\n",
              "  text-decoration: none;\n",
              "}\n",
              "\n",
              "/* Span, style for the box shown on hovering the info icon */\n",
              ".sk-estimator-doc-link span {\n",
              "  display: none;\n",
              "  z-index: 9999;\n",
              "  position: relative;\n",
              "  font-weight: normal;\n",
              "  right: .2ex;\n",
              "  padding: .5ex;\n",
              "  margin: .5ex;\n",
              "  width: min-content;\n",
              "  min-width: 20ex;\n",
              "  max-width: 50ex;\n",
              "  color: var(--sklearn-color-text);\n",
              "  box-shadow: 2pt 2pt 4pt #999;\n",
              "  /* unfitted */\n",
              "  background: var(--sklearn-color-unfitted-level-0);\n",
              "  border: .5pt solid var(--sklearn-color-unfitted-level-3);\n",
              "}\n",
              "\n",
              ".sk-estimator-doc-link.fitted span {\n",
              "  /* fitted */\n",
              "  background: var(--sklearn-color-fitted-level-0);\n",
              "  border: var(--sklearn-color-fitted-level-3);\n",
              "}\n",
              "\n",
              ".sk-estimator-doc-link:hover span {\n",
              "  display: block;\n",
              "}\n",
              "\n",
              "/* \"?\"-specific style due to the `<a>` HTML tag */\n",
              "\n",
              "#sk-container-id-3 a.estimator_doc_link {\n",
              "  float: right;\n",
              "  font-size: 1rem;\n",
              "  line-height: 1em;\n",
              "  font-family: monospace;\n",
              "  background-color: var(--sklearn-color-background);\n",
              "  border-radius: 1rem;\n",
              "  height: 1rem;\n",
              "  width: 1rem;\n",
              "  text-decoration: none;\n",
              "  /* unfitted */\n",
              "  color: var(--sklearn-color-unfitted-level-1);\n",
              "  border: var(--sklearn-color-unfitted-level-1) 1pt solid;\n",
              "}\n",
              "\n",
              "#sk-container-id-3 a.estimator_doc_link.fitted {\n",
              "  /* fitted */\n",
              "  border: var(--sklearn-color-fitted-level-1) 1pt solid;\n",
              "  color: var(--sklearn-color-fitted-level-1);\n",
              "}\n",
              "\n",
              "/* On hover */\n",
              "#sk-container-id-3 a.estimator_doc_link:hover {\n",
              "  /* unfitted */\n",
              "  background-color: var(--sklearn-color-unfitted-level-3);\n",
              "  color: var(--sklearn-color-background);\n",
              "  text-decoration: none;\n",
              "}\n",
              "\n",
              "#sk-container-id-3 a.estimator_doc_link.fitted:hover {\n",
              "  /* fitted */\n",
              "  background-color: var(--sklearn-color-fitted-level-3);\n",
              "}\n",
              "</style><div id=\"sk-container-id-3\" class=\"sk-top-container\"><div class=\"sk-text-repr-fallback\"><pre>DecisionTreeClassifier(random_state=42)</pre><b>In a Jupyter environment, please rerun this cell to show the HTML representation or trust the notebook. <br />On GitHub, the HTML representation is unable to render, please try loading this page with nbviewer.org.</b></div><div class=\"sk-container\" hidden><div class=\"sk-item\"><div class=\"sk-estimator fitted sk-toggleable\"><input class=\"sk-toggleable__control sk-hidden--visually\" id=\"sk-estimator-id-3\" type=\"checkbox\" checked><label for=\"sk-estimator-id-3\" class=\"sk-toggleable__label fitted sk-toggleable__label-arrow\"><div><div>DecisionTreeClassifier</div></div><div><a class=\"sk-estimator-doc-link fitted\" rel=\"noreferrer\" target=\"_blank\" href=\"https://scikit-learn.org/1.6/modules/generated/sklearn.tree.DecisionTreeClassifier.html\">?<span>Documentation for DecisionTreeClassifier</span></a><span class=\"sk-estimator-doc-link fitted\">i<span>Fitted</span></span></div></label><div class=\"sk-toggleable__content fitted\"><pre>DecisionTreeClassifier(random_state=42)</pre></div> </div></div></div></div>"
            ]
          },
          "metadata": {},
          "execution_count": 13
        }
      ]
    },
    {
      "cell_type": "markdown",
      "source": [
        " Visualize the Tree"
      ],
      "metadata": {
        "id": "mPf9KyoqNwfM"
      }
    },
    {
      "cell_type": "code",
      "source": [
        "from sklearn.tree import export_graphviz\n",
        "import graphviz\n",
        "\n",
        "# Export decision tree to DOT format\n",
        "dot_data = export_graphviz(\n",
        "    dt,\n",
        "    out_file=None,\n",
        "    feature_names=X.columns,\n",
        "    class_names=[\"No Disease\", \"Disease\"],\n",
        "    filled=True, rounded=True,\n",
        "    special_characters=True\n",
        ")\n",
        "\n",
        "# Visualize with Graphviz\n",
        "\n",
        "graph = graphviz.Source(dot_data)\n",
        "graph.render(\"decision_tree\", format=\"png\", cleanup=True)  # saves file\n",
        "graph\n"
      ],
      "metadata": {
        "colab": {
          "base_uri": "https://localhost:8080/",
          "height": 1000
        },
        "id": "PviZXeq2NrJS",
        "outputId": "abc25618-869b-4931-a104-fec800e98276"
      },
      "execution_count": 14,
      "outputs": [
        {
          "output_type": "execute_result",
          "data": {
            "image/svg+xml": "<?xml version=\"1.0\" encoding=\"UTF-8\" standalone=\"no\"?>\n<!DOCTYPE svg PUBLIC \"-//W3C//DTD SVG 1.1//EN\"\n \"http://www.w3.org/Graphics/SVG/1.1/DTD/svg11.dtd\">\n<!-- Generated by graphviz version 2.43.0 (0)\n -->\n<!-- Title: Tree Pages: 1 -->\n<svg width=\"3412pt\" height=\"1266pt\"\n viewBox=\"0.00 0.00 3411.50 1266.00\" xmlns=\"http://www.w3.org/2000/svg\" xmlns:xlink=\"http://www.w3.org/1999/xlink\">\n<g id=\"graph0\" class=\"graph\" transform=\"scale(1 1) rotate(0) translate(4 1262)\">\n<title>Tree</title>\n<polygon fill=\"white\" stroke=\"transparent\" points=\"-4,4 -4,-1262 3407.5,-1262 3407.5,4 -4,4\"/>\n<!-- 0 -->\n<g id=\"node1\" class=\"node\">\n<title>0</title>\n<path fill=\"#f3f9fd\" stroke=\"black\" d=\"M1926,-1258C1926,-1258 1825,-1258 1825,-1258 1819,-1258 1813,-1252 1813,-1246 1813,-1246 1813,-1187 1813,-1187 1813,-1181 1819,-1175 1825,-1175 1825,-1175 1926,-1175 1926,-1175 1932,-1175 1938,-1181 1938,-1187 1938,-1187 1938,-1246 1938,-1246 1938,-1252 1932,-1258 1926,-1258\"/>\n<text text-anchor=\"start\" x=\"1851\" y=\"-1242.8\" font-family=\"Helvetica,sans-Serif\" font-size=\"14.00\">cp ≤ 0.5</text>\n<text text-anchor=\"start\" x=\"1840\" y=\"-1227.8\" font-family=\"Helvetica,sans-Serif\" font-size=\"14.00\">gini = 0.499</text>\n<text text-anchor=\"start\" x=\"1830.5\" y=\"-1212.8\" font-family=\"Helvetica,sans-Serif\" font-size=\"14.00\">samples = 820</text>\n<text text-anchor=\"start\" x=\"1821\" y=\"-1197.8\" font-family=\"Helvetica,sans-Serif\" font-size=\"14.00\">value = [397, 423]</text>\n<text text-anchor=\"start\" x=\"1827.5\" y=\"-1182.8\" font-family=\"Helvetica,sans-Serif\" font-size=\"14.00\">class = Disease</text>\n</g>\n<!-- 1 -->\n<g id=\"node2\" class=\"node\">\n<title>1</title>\n<path fill=\"#edaa7a\" stroke=\"black\" d=\"M1485,-1139C1485,-1139 1376,-1139 1376,-1139 1370,-1139 1364,-1133 1364,-1127 1364,-1127 1364,-1068 1364,-1068 1364,-1062 1370,-1056 1376,-1056 1376,-1056 1485,-1056 1485,-1056 1491,-1056 1497,-1062 1497,-1068 1497,-1068 1497,-1127 1497,-1127 1497,-1133 1491,-1139 1485,-1139\"/>\n<text text-anchor=\"start\" x=\"1406\" y=\"-1123.8\" font-family=\"Helvetica,sans-Serif\" font-size=\"14.00\">ca ≤ 0.5</text>\n<text text-anchor=\"start\" x=\"1395\" y=\"-1108.8\" font-family=\"Helvetica,sans-Serif\" font-size=\"14.00\">gini = 0.371</text>\n<text text-anchor=\"start\" x=\"1385.5\" y=\"-1093.8\" font-family=\"Helvetica,sans-Serif\" font-size=\"14.00\">samples = 398</text>\n<text text-anchor=\"start\" x=\"1380\" y=\"-1078.8\" font-family=\"Helvetica,sans-Serif\" font-size=\"14.00\">value = [300, 98]</text>\n<text text-anchor=\"start\" x=\"1372\" y=\"-1063.8\" font-family=\"Helvetica,sans-Serif\" font-size=\"14.00\">class = No Disease</text>\n</g>\n<!-- 0&#45;&gt;1 -->\n<g id=\"edge1\" class=\"edge\">\n<title>0&#45;&gt;1</title>\n<path fill=\"none\" stroke=\"black\" d=\"M1812.69,-1198.98C1732.41,-1177.88 1593.51,-1141.36 1507.1,-1118.64\"/>\n<polygon fill=\"black\" stroke=\"black\" points=\"1507.92,-1115.24 1497.35,-1116.08 1506.14,-1122.01 1507.92,-1115.24\"/>\n<text text-anchor=\"middle\" x=\"1509.96\" y=\"-1133.97\" font-family=\"Helvetica,sans-Serif\" font-size=\"14.00\">True</text>\n</g>\n<!-- 38 -->\n<g id=\"node39\" class=\"node\">\n<title>38</title>\n<path fill=\"#74baed\" stroke=\"black\" d=\"M2212,-1139C2212,-1139 2119,-1139 2119,-1139 2113,-1139 2107,-1133 2107,-1127 2107,-1127 2107,-1068 2107,-1068 2107,-1062 2113,-1056 2119,-1056 2119,-1056 2212,-1056 2212,-1056 2218,-1056 2224,-1062 2224,-1068 2224,-1068 2224,-1127 2224,-1127 2224,-1133 2218,-1139 2212,-1139\"/>\n<text text-anchor=\"start\" x=\"2137.5\" y=\"-1123.8\" font-family=\"Helvetica,sans-Serif\" font-size=\"14.00\">thal ≤ 2.5</text>\n<text text-anchor=\"start\" x=\"2130\" y=\"-1108.8\" font-family=\"Helvetica,sans-Serif\" font-size=\"14.00\">gini = 0.354</text>\n<text text-anchor=\"start\" x=\"2120.5\" y=\"-1093.8\" font-family=\"Helvetica,sans-Serif\" font-size=\"14.00\">samples = 422</text>\n<text text-anchor=\"start\" x=\"2115\" y=\"-1078.8\" font-family=\"Helvetica,sans-Serif\" font-size=\"14.00\">value = [97, 325]</text>\n<text text-anchor=\"start\" x=\"2117.5\" y=\"-1063.8\" font-family=\"Helvetica,sans-Serif\" font-size=\"14.00\">class = Disease</text>\n</g>\n<!-- 0&#45;&gt;38 -->\n<g id=\"edge38\" class=\"edge\">\n<title>0&#45;&gt;38</title>\n<path fill=\"none\" stroke=\"black\" d=\"M1938.07,-1190.26C1985.06,-1171.3 2049.33,-1145.37 2097.57,-1125.91\"/>\n<polygon fill=\"black\" stroke=\"black\" points=\"2099.03,-1129.09 2106.99,-1122.1 2096.41,-1122.6 2099.03,-1129.09\"/>\n<text text-anchor=\"middle\" x=\"2097.22\" y=\"-1141.41\" font-family=\"Helvetica,sans-Serif\" font-size=\"14.00\">False</text>\n</g>\n<!-- 2 -->\n<g id=\"node3\" class=\"node\">\n<title>2</title>\n<path fill=\"#f8fcfe\" stroke=\"black\" d=\"M1041.5,-1020C1041.5,-1020 953.5,-1020 953.5,-1020 947.5,-1020 941.5,-1014 941.5,-1008 941.5,-1008 941.5,-949 941.5,-949 941.5,-943 947.5,-937 953.5,-937 953.5,-937 1041.5,-937 1041.5,-937 1047.5,-937 1053.5,-943 1053.5,-949 1053.5,-949 1053.5,-1008 1053.5,-1008 1053.5,-1014 1047.5,-1020 1041.5,-1020\"/>\n<text text-anchor=\"start\" x=\"969.5\" y=\"-1004.8\" font-family=\"Helvetica,sans-Serif\" font-size=\"14.00\">thal ≤ 2.5</text>\n<text text-anchor=\"start\" x=\"969.5\" y=\"-989.8\" font-family=\"Helvetica,sans-Serif\" font-size=\"14.00\">gini = 0.5</text>\n<text text-anchor=\"start\" x=\"952.5\" y=\"-974.8\" font-family=\"Helvetica,sans-Serif\" font-size=\"14.00\">samples = 177</text>\n<text text-anchor=\"start\" x=\"950.5\" y=\"-959.8\" font-family=\"Helvetica,sans-Serif\" font-size=\"14.00\">value = [87, 90]</text>\n<text text-anchor=\"start\" x=\"949.5\" y=\"-944.8\" font-family=\"Helvetica,sans-Serif\" font-size=\"14.00\">class = Disease</text>\n</g>\n<!-- 1&#45;&gt;2 -->\n<g id=\"edge2\" class=\"edge\">\n<title>1&#45;&gt;2</title>\n<path fill=\"none\" stroke=\"black\" d=\"M1363.79,-1078.48C1282.24,-1056.44 1145.05,-1019.37 1063.72,-997.39\"/>\n<polygon fill=\"black\" stroke=\"black\" points=\"1064.16,-993.89 1053.6,-994.66 1062.34,-1000.65 1064.16,-993.89\"/>\n</g>\n<!-- 27 -->\n<g id=\"node28\" class=\"node\">\n<title>27</title>\n<path fill=\"#e68640\" stroke=\"black\" d=\"M1485,-1020C1485,-1020 1376,-1020 1376,-1020 1370,-1020 1364,-1014 1364,-1008 1364,-1008 1364,-949 1364,-949 1364,-943 1370,-937 1376,-937 1376,-937 1485,-937 1485,-937 1491,-937 1497,-943 1497,-949 1497,-949 1497,-1008 1497,-1008 1497,-1014 1491,-1020 1485,-1020\"/>\n<text text-anchor=\"start\" x=\"1382\" y=\"-1004.8\" font-family=\"Helvetica,sans-Serif\" font-size=\"14.00\">trestbps ≤ 109.0</text>\n<text text-anchor=\"start\" x=\"1398.5\" y=\"-989.8\" font-family=\"Helvetica,sans-Serif\" font-size=\"14.00\">gini = 0.07</text>\n<text text-anchor=\"start\" x=\"1385.5\" y=\"-974.8\" font-family=\"Helvetica,sans-Serif\" font-size=\"14.00\">samples = 221</text>\n<text text-anchor=\"start\" x=\"1383.5\" y=\"-959.8\" font-family=\"Helvetica,sans-Serif\" font-size=\"14.00\">value = [213, 8]</text>\n<text text-anchor=\"start\" x=\"1372\" y=\"-944.8\" font-family=\"Helvetica,sans-Serif\" font-size=\"14.00\">class = No Disease</text>\n</g>\n<!-- 1&#45;&gt;27 -->\n<g id=\"edge27\" class=\"edge\">\n<title>1&#45;&gt;27</title>\n<path fill=\"none\" stroke=\"black\" d=\"M1430.5,-1055.91C1430.5,-1047.65 1430.5,-1038.86 1430.5,-1030.3\"/>\n<polygon fill=\"black\" stroke=\"black\" points=\"1434,-1030.02 1430.5,-1020.02 1427,-1030.02 1434,-1030.02\"/>\n</g>\n<!-- 3 -->\n<g id=\"node4\" class=\"node\">\n<title>3</title>\n<path fill=\"#74baed\" stroke=\"black\" d=\"M604.5,-901C604.5,-901 516.5,-901 516.5,-901 510.5,-901 504.5,-895 504.5,-889 504.5,-889 504.5,-830 504.5,-830 504.5,-824 510.5,-818 516.5,-818 516.5,-818 604.5,-818 604.5,-818 610.5,-818 616.5,-824 616.5,-830 616.5,-830 616.5,-889 616.5,-889 616.5,-895 610.5,-901 604.5,-901\"/>\n<text text-anchor=\"start\" x=\"525\" y=\"-885.8\" font-family=\"Helvetica,sans-Serif\" font-size=\"14.00\">exang ≤ 0.5</text>\n<text text-anchor=\"start\" x=\"525\" y=\"-870.8\" font-family=\"Helvetica,sans-Serif\" font-size=\"14.00\">gini = 0.354</text>\n<text text-anchor=\"start\" x=\"515.5\" y=\"-855.8\" font-family=\"Helvetica,sans-Serif\" font-size=\"14.00\">samples = 100</text>\n<text text-anchor=\"start\" x=\"513.5\" y=\"-840.8\" font-family=\"Helvetica,sans-Serif\" font-size=\"14.00\">value = [23, 77]</text>\n<text text-anchor=\"start\" x=\"512.5\" y=\"-825.8\" font-family=\"Helvetica,sans-Serif\" font-size=\"14.00\">class = Disease</text>\n</g>\n<!-- 2&#45;&gt;3 -->\n<g id=\"edge3\" class=\"edge\">\n<title>2&#45;&gt;3</title>\n<path fill=\"none\" stroke=\"black\" d=\"M941.26,-962.44C860.55,-940.83 712.16,-901.1 626.4,-878.14\"/>\n<polygon fill=\"black\" stroke=\"black\" points=\"627.08,-874.7 616.52,-875.5 625.27,-881.47 627.08,-874.7\"/>\n</g>\n<!-- 20 -->\n<g id=\"node21\" class=\"node\">\n<title>20</title>\n<path fill=\"#ea9b61\" stroke=\"black\" d=\"M1052,-901C1052,-901 943,-901 943,-901 937,-901 931,-895 931,-889 931,-889 931,-830 931,-830 931,-824 937,-818 943,-818 943,-818 1052,-818 1052,-818 1058,-818 1064,-824 1064,-830 1064,-830 1064,-889 1064,-889 1064,-895 1058,-901 1052,-901\"/>\n<text text-anchor=\"start\" x=\"953\" y=\"-885.8\" font-family=\"Helvetica,sans-Serif\" font-size=\"14.00\">oldpeak ≤ 0.65</text>\n<text text-anchor=\"start\" x=\"962\" y=\"-870.8\" font-family=\"Helvetica,sans-Serif\" font-size=\"14.00\">gini = 0.281</text>\n<text text-anchor=\"start\" x=\"956.5\" y=\"-855.8\" font-family=\"Helvetica,sans-Serif\" font-size=\"14.00\">samples = 77</text>\n<text text-anchor=\"start\" x=\"950.5\" y=\"-840.8\" font-family=\"Helvetica,sans-Serif\" font-size=\"14.00\">value = [64, 13]</text>\n<text text-anchor=\"start\" x=\"939\" y=\"-825.8\" font-family=\"Helvetica,sans-Serif\" font-size=\"14.00\">class = No Disease</text>\n</g>\n<!-- 2&#45;&gt;20 -->\n<g id=\"edge20\" class=\"edge\">\n<title>2&#45;&gt;20</title>\n<path fill=\"none\" stroke=\"black\" d=\"M997.5,-936.91C997.5,-928.65 997.5,-919.86 997.5,-911.3\"/>\n<polygon fill=\"black\" stroke=\"black\" points=\"1001,-911.02 997.5,-901.02 994,-911.02 1001,-911.02\"/>\n</g>\n<!-- 4 -->\n<g id=\"node5\" class=\"node\">\n<title>4</title>\n<path fill=\"#4aa5e7\" stroke=\"black\" d=\"M251.5,-782C251.5,-782 163.5,-782 163.5,-782 157.5,-782 151.5,-776 151.5,-770 151.5,-770 151.5,-711 151.5,-711 151.5,-705 157.5,-699 163.5,-699 163.5,-699 251.5,-699 251.5,-699 257.5,-699 263.5,-705 263.5,-711 263.5,-711 263.5,-770 263.5,-770 263.5,-776 257.5,-782 251.5,-782\"/>\n<text text-anchor=\"start\" x=\"165\" y=\"-766.8\" font-family=\"Helvetica,sans-Serif\" font-size=\"14.00\">thalach ≤ 96.5</text>\n<text text-anchor=\"start\" x=\"172\" y=\"-751.8\" font-family=\"Helvetica,sans-Serif\" font-size=\"14.00\">gini = 0.146</text>\n<text text-anchor=\"start\" x=\"166.5\" y=\"-736.8\" font-family=\"Helvetica,sans-Serif\" font-size=\"14.00\">samples = 63</text>\n<text text-anchor=\"start\" x=\"164.5\" y=\"-721.8\" font-family=\"Helvetica,sans-Serif\" font-size=\"14.00\">value = [5, 58]</text>\n<text text-anchor=\"start\" x=\"159.5\" y=\"-706.8\" font-family=\"Helvetica,sans-Serif\" font-size=\"14.00\">class = Disease</text>\n</g>\n<!-- 3&#45;&gt;4 -->\n<g id=\"edge4\" class=\"edge\">\n<title>3&#45;&gt;4</title>\n<path fill=\"none\" stroke=\"black\" d=\"M504.18,-839.83C441.28,-818.99 339.62,-785.29 273.16,-763.26\"/>\n<polygon fill=\"black\" stroke=\"black\" points=\"274.22,-759.93 263.62,-760.1 272.01,-766.57 274.22,-759.93\"/>\n</g>\n<!-- 11 -->\n<g id=\"node12\" class=\"node\">\n<title>11</title>\n<path fill=\"#f5fafe\" stroke=\"black\" d=\"M604.5,-782C604.5,-782 516.5,-782 516.5,-782 510.5,-782 504.5,-776 504.5,-770 504.5,-770 504.5,-711 504.5,-711 504.5,-705 510.5,-699 516.5,-699 516.5,-699 604.5,-699 604.5,-699 610.5,-699 616.5,-705 616.5,-711 616.5,-711 616.5,-770 616.5,-770 616.5,-776 610.5,-782 604.5,-782\"/>\n<text text-anchor=\"start\" x=\"514\" y=\"-766.8\" font-family=\"Helvetica,sans-Serif\" font-size=\"14.00\">thalach ≤ 146.0</text>\n<text text-anchor=\"start\" x=\"532.5\" y=\"-751.8\" font-family=\"Helvetica,sans-Serif\" font-size=\"14.00\">gini = 0.5</text>\n<text text-anchor=\"start\" x=\"519.5\" y=\"-736.8\" font-family=\"Helvetica,sans-Serif\" font-size=\"14.00\">samples = 37</text>\n<text text-anchor=\"start\" x=\"513.5\" y=\"-721.8\" font-family=\"Helvetica,sans-Serif\" font-size=\"14.00\">value = [18, 19]</text>\n<text text-anchor=\"start\" x=\"512.5\" y=\"-706.8\" font-family=\"Helvetica,sans-Serif\" font-size=\"14.00\">class = Disease</text>\n</g>\n<!-- 3&#45;&gt;11 -->\n<g id=\"edge11\" class=\"edge\">\n<title>3&#45;&gt;11</title>\n<path fill=\"none\" stroke=\"black\" d=\"M560.5,-817.91C560.5,-809.65 560.5,-800.86 560.5,-792.3\"/>\n<polygon fill=\"black\" stroke=\"black\" points=\"564,-792.02 560.5,-782.02 557,-792.02 564,-792.02\"/>\n</g>\n<!-- 5 -->\n<g id=\"node6\" class=\"node\">\n<title>5</title>\n<path fill=\"#e58139\" stroke=\"black\" d=\"M121,-655.5C121,-655.5 12,-655.5 12,-655.5 6,-655.5 0,-649.5 0,-643.5 0,-643.5 0,-599.5 0,-599.5 0,-593.5 6,-587.5 12,-587.5 12,-587.5 121,-587.5 121,-587.5 127,-587.5 133,-593.5 133,-599.5 133,-599.5 133,-643.5 133,-643.5 133,-649.5 127,-655.5 121,-655.5\"/>\n<text text-anchor=\"start\" x=\"38.5\" y=\"-640.3\" font-family=\"Helvetica,sans-Serif\" font-size=\"14.00\">gini = 0.0</text>\n<text text-anchor=\"start\" x=\"29\" y=\"-625.3\" font-family=\"Helvetica,sans-Serif\" font-size=\"14.00\">samples = 3</text>\n<text text-anchor=\"start\" x=\"27\" y=\"-610.3\" font-family=\"Helvetica,sans-Serif\" font-size=\"14.00\">value = [3, 0]</text>\n<text text-anchor=\"start\" x=\"8\" y=\"-595.3\" font-family=\"Helvetica,sans-Serif\" font-size=\"14.00\">class = No Disease</text>\n</g>\n<!-- 4&#45;&gt;5 -->\n<g id=\"edge5\" class=\"edge\">\n<title>4&#45;&gt;5</title>\n<path fill=\"none\" stroke=\"black\" d=\"M158.58,-698.91C144.22,-686.99 128.53,-673.98 114.25,-662.12\"/>\n<polygon fill=\"black\" stroke=\"black\" points=\"116.4,-659.36 106.47,-655.67 111.93,-664.75 116.4,-659.36\"/>\n</g>\n<!-- 6 -->\n<g id=\"node7\" class=\"node\">\n<title>6</title>\n<path fill=\"#40a0e6\" stroke=\"black\" d=\"M251.5,-663C251.5,-663 163.5,-663 163.5,-663 157.5,-663 151.5,-657 151.5,-651 151.5,-651 151.5,-592 151.5,-592 151.5,-586 157.5,-580 163.5,-580 163.5,-580 251.5,-580 251.5,-580 257.5,-580 263.5,-586 263.5,-592 263.5,-592 263.5,-651 263.5,-651 263.5,-657 257.5,-663 251.5,-663\"/>\n<text text-anchor=\"start\" x=\"170.5\" y=\"-647.8\" font-family=\"Helvetica,sans-Serif\" font-size=\"14.00\">chol ≤ 316.5</text>\n<text text-anchor=\"start\" x=\"172\" y=\"-632.8\" font-family=\"Helvetica,sans-Serif\" font-size=\"14.00\">gini = 0.064</text>\n<text text-anchor=\"start\" x=\"166.5\" y=\"-617.8\" font-family=\"Helvetica,sans-Serif\" font-size=\"14.00\">samples = 60</text>\n<text text-anchor=\"start\" x=\"164.5\" y=\"-602.8\" font-family=\"Helvetica,sans-Serif\" font-size=\"14.00\">value = [2, 58]</text>\n<text text-anchor=\"start\" x=\"159.5\" y=\"-587.8\" font-family=\"Helvetica,sans-Serif\" font-size=\"14.00\">class = Disease</text>\n</g>\n<!-- 4&#45;&gt;6 -->\n<g id=\"edge6\" class=\"edge\">\n<title>4&#45;&gt;6</title>\n<path fill=\"none\" stroke=\"black\" d=\"M207.5,-698.91C207.5,-690.65 207.5,-681.86 207.5,-673.3\"/>\n<polygon fill=\"black\" stroke=\"black\" points=\"211,-673.02 207.5,-663.02 204,-673.02 211,-673.02\"/>\n</g>\n<!-- 7 -->\n<g id=\"node8\" class=\"node\">\n<title>7</title>\n<path fill=\"#399de5\" stroke=\"black\" d=\"M110.5,-536.5C110.5,-536.5 22.5,-536.5 22.5,-536.5 16.5,-536.5 10.5,-530.5 10.5,-524.5 10.5,-524.5 10.5,-480.5 10.5,-480.5 10.5,-474.5 16.5,-468.5 22.5,-468.5 22.5,-468.5 110.5,-468.5 110.5,-468.5 116.5,-468.5 122.5,-474.5 122.5,-480.5 122.5,-480.5 122.5,-524.5 122.5,-524.5 122.5,-530.5 116.5,-536.5 110.5,-536.5\"/>\n<text text-anchor=\"start\" x=\"38.5\" y=\"-521.3\" font-family=\"Helvetica,sans-Serif\" font-size=\"14.00\">gini = 0.0</text>\n<text text-anchor=\"start\" x=\"25.5\" y=\"-506.3\" font-family=\"Helvetica,sans-Serif\" font-size=\"14.00\">samples = 56</text>\n<text text-anchor=\"start\" x=\"23.5\" y=\"-491.3\" font-family=\"Helvetica,sans-Serif\" font-size=\"14.00\">value = [0, 56]</text>\n<text text-anchor=\"start\" x=\"18.5\" y=\"-476.3\" font-family=\"Helvetica,sans-Serif\" font-size=\"14.00\">class = Disease</text>\n</g>\n<!-- 6&#45;&gt;7 -->\n<g id=\"edge7\" class=\"edge\">\n<title>6&#45;&gt;7</title>\n<path fill=\"none\" stroke=\"black\" d=\"M158.58,-579.91C144.22,-567.99 128.53,-554.98 114.25,-543.12\"/>\n<polygon fill=\"black\" stroke=\"black\" points=\"116.4,-540.36 106.47,-536.67 111.93,-545.75 116.4,-540.36\"/>\n</g>\n<!-- 8 -->\n<g id=\"node9\" class=\"node\">\n<title>8</title>\n<path fill=\"#ffffff\" stroke=\"black\" d=\"M262,-544C262,-544 153,-544 153,-544 147,-544 141,-538 141,-532 141,-532 141,-473 141,-473 141,-467 147,-461 153,-461 153,-461 262,-461 262,-461 268,-461 274,-467 274,-473 274,-473 274,-532 274,-532 274,-538 268,-544 262,-544\"/>\n<text text-anchor=\"start\" x=\"174\" y=\"-528.8\" font-family=\"Helvetica,sans-Serif\" font-size=\"14.00\">slope ≤ 1.5</text>\n<text text-anchor=\"start\" x=\"179.5\" y=\"-513.8\" font-family=\"Helvetica,sans-Serif\" font-size=\"14.00\">gini = 0.5</text>\n<text text-anchor=\"start\" x=\"170\" y=\"-498.8\" font-family=\"Helvetica,sans-Serif\" font-size=\"14.00\">samples = 4</text>\n<text text-anchor=\"start\" x=\"168\" y=\"-483.8\" font-family=\"Helvetica,sans-Serif\" font-size=\"14.00\">value = [2, 2]</text>\n<text text-anchor=\"start\" x=\"149\" y=\"-468.8\" font-family=\"Helvetica,sans-Serif\" font-size=\"14.00\">class = No Disease</text>\n</g>\n<!-- 6&#45;&gt;8 -->\n<g id=\"edge8\" class=\"edge\">\n<title>6&#45;&gt;8</title>\n<path fill=\"none\" stroke=\"black\" d=\"M207.5,-579.91C207.5,-571.65 207.5,-562.86 207.5,-554.3\"/>\n<polygon fill=\"black\" stroke=\"black\" points=\"211,-554.02 207.5,-544.02 204,-554.02 211,-554.02\"/>\n</g>\n<!-- 9 -->\n<g id=\"node10\" class=\"node\">\n<title>9</title>\n<path fill=\"#399de5\" stroke=\"black\" d=\"M180.5,-417.5C180.5,-417.5 92.5,-417.5 92.5,-417.5 86.5,-417.5 80.5,-411.5 80.5,-405.5 80.5,-405.5 80.5,-361.5 80.5,-361.5 80.5,-355.5 86.5,-349.5 92.5,-349.5 92.5,-349.5 180.5,-349.5 180.5,-349.5 186.5,-349.5 192.5,-355.5 192.5,-361.5 192.5,-361.5 192.5,-405.5 192.5,-405.5 192.5,-411.5 186.5,-417.5 180.5,-417.5\"/>\n<text text-anchor=\"start\" x=\"108.5\" y=\"-402.3\" font-family=\"Helvetica,sans-Serif\" font-size=\"14.00\">gini = 0.0</text>\n<text text-anchor=\"start\" x=\"99\" y=\"-387.3\" font-family=\"Helvetica,sans-Serif\" font-size=\"14.00\">samples = 2</text>\n<text text-anchor=\"start\" x=\"97\" y=\"-372.3\" font-family=\"Helvetica,sans-Serif\" font-size=\"14.00\">value = [0, 2]</text>\n<text text-anchor=\"start\" x=\"88.5\" y=\"-357.3\" font-family=\"Helvetica,sans-Serif\" font-size=\"14.00\">class = Disease</text>\n</g>\n<!-- 8&#45;&gt;9 -->\n<g id=\"edge9\" class=\"edge\">\n<title>8&#45;&gt;9</title>\n<path fill=\"none\" stroke=\"black\" d=\"M182.87,-460.91C176.1,-449.76 168.76,-437.66 161.95,-426.44\"/>\n<polygon fill=\"black\" stroke=\"black\" points=\"164.81,-424.4 156.63,-417.67 158.82,-428.03 164.81,-424.4\"/>\n</g>\n<!-- 10 -->\n<g id=\"node11\" class=\"node\">\n<title>10</title>\n<path fill=\"#e58139\" stroke=\"black\" d=\"M332,-417.5C332,-417.5 223,-417.5 223,-417.5 217,-417.5 211,-411.5 211,-405.5 211,-405.5 211,-361.5 211,-361.5 211,-355.5 217,-349.5 223,-349.5 223,-349.5 332,-349.5 332,-349.5 338,-349.5 344,-355.5 344,-361.5 344,-361.5 344,-405.5 344,-405.5 344,-411.5 338,-417.5 332,-417.5\"/>\n<text text-anchor=\"start\" x=\"249.5\" y=\"-402.3\" font-family=\"Helvetica,sans-Serif\" font-size=\"14.00\">gini = 0.0</text>\n<text text-anchor=\"start\" x=\"240\" y=\"-387.3\" font-family=\"Helvetica,sans-Serif\" font-size=\"14.00\">samples = 2</text>\n<text text-anchor=\"start\" x=\"238\" y=\"-372.3\" font-family=\"Helvetica,sans-Serif\" font-size=\"14.00\">value = [2, 0]</text>\n<text text-anchor=\"start\" x=\"219\" y=\"-357.3\" font-family=\"Helvetica,sans-Serif\" font-size=\"14.00\">class = No Disease</text>\n</g>\n<!-- 8&#45;&gt;10 -->\n<g id=\"edge10\" class=\"edge\">\n<title>8&#45;&gt;10</title>\n<path fill=\"none\" stroke=\"black\" d=\"M231.79,-460.91C238.45,-449.76 245.7,-437.66 252.41,-426.44\"/>\n<polygon fill=\"black\" stroke=\"black\" points=\"255.53,-428.05 257.66,-417.67 249.52,-424.45 255.53,-428.05\"/>\n</g>\n<!-- 12 -->\n<g id=\"node13\" class=\"node\">\n<title>12</title>\n<path fill=\"#eb9c63\" stroke=\"black\" d=\"M544,-663C544,-663 435,-663 435,-663 429,-663 423,-657 423,-651 423,-651 423,-592 423,-592 423,-586 429,-580 435,-580 435,-580 544,-580 544,-580 550,-580 556,-586 556,-592 556,-592 556,-651 556,-651 556,-657 550,-663 544,-663\"/>\n<text text-anchor=\"start\" x=\"441\" y=\"-647.8\" font-family=\"Helvetica,sans-Serif\" font-size=\"14.00\">trestbps ≤ 115.0</text>\n<text text-anchor=\"start\" x=\"454\" y=\"-632.8\" font-family=\"Helvetica,sans-Serif\" font-size=\"14.00\">gini = 0.291</text>\n<text text-anchor=\"start\" x=\"448.5\" y=\"-617.8\" font-family=\"Helvetica,sans-Serif\" font-size=\"14.00\">samples = 17</text>\n<text text-anchor=\"start\" x=\"446.5\" y=\"-602.8\" font-family=\"Helvetica,sans-Serif\" font-size=\"14.00\">value = [14, 3]</text>\n<text text-anchor=\"start\" x=\"431\" y=\"-587.8\" font-family=\"Helvetica,sans-Serif\" font-size=\"14.00\">class = No Disease</text>\n</g>\n<!-- 11&#45;&gt;12 -->\n<g id=\"edge12\" class=\"edge\">\n<title>11&#45;&gt;12</title>\n<path fill=\"none\" stroke=\"black\" d=\"M535.87,-698.91C530.53,-690.1 524.82,-680.7 519.3,-671.61\"/>\n<polygon fill=\"black\" stroke=\"black\" points=\"522.27,-669.75 514.09,-663.02 516.29,-673.39 522.27,-669.75\"/>\n</g>\n<!-- 15 -->\n<g id=\"node16\" class=\"node\">\n<title>15</title>\n<path fill=\"#6ab6ec\" stroke=\"black\" d=\"M674.5,-663C674.5,-663 586.5,-663 586.5,-663 580.5,-663 574.5,-657 574.5,-651 574.5,-651 574.5,-592 574.5,-592 574.5,-586 580.5,-580 586.5,-580 586.5,-580 674.5,-580 674.5,-580 680.5,-580 686.5,-586 686.5,-592 686.5,-592 686.5,-651 686.5,-651 686.5,-657 680.5,-663 674.5,-663\"/>\n<text text-anchor=\"start\" x=\"589.5\" y=\"-647.8\" font-family=\"Helvetica,sans-Serif\" font-size=\"14.00\">oldpeak ≤ 0.8</text>\n<text text-anchor=\"start\" x=\"598.5\" y=\"-632.8\" font-family=\"Helvetica,sans-Serif\" font-size=\"14.00\">gini = 0.32</text>\n<text text-anchor=\"start\" x=\"589.5\" y=\"-617.8\" font-family=\"Helvetica,sans-Serif\" font-size=\"14.00\">samples = 20</text>\n<text text-anchor=\"start\" x=\"587.5\" y=\"-602.8\" font-family=\"Helvetica,sans-Serif\" font-size=\"14.00\">value = [4, 16]</text>\n<text text-anchor=\"start\" x=\"582.5\" y=\"-587.8\" font-family=\"Helvetica,sans-Serif\" font-size=\"14.00\">class = Disease</text>\n</g>\n<!-- 11&#45;&gt;15 -->\n<g id=\"edge15\" class=\"edge\">\n<title>11&#45;&gt;15</title>\n<path fill=\"none\" stroke=\"black\" d=\"M584.79,-698.91C590.05,-690.1 595.68,-680.7 601.12,-671.61\"/>\n<polygon fill=\"black\" stroke=\"black\" points=\"604.13,-673.4 606.26,-663.02 598.12,-669.81 604.13,-673.4\"/>\n</g>\n<!-- 13 -->\n<g id=\"node14\" class=\"node\">\n<title>13</title>\n<path fill=\"#399de5\" stroke=\"black\" d=\"M392.5,-536.5C392.5,-536.5 304.5,-536.5 304.5,-536.5 298.5,-536.5 292.5,-530.5 292.5,-524.5 292.5,-524.5 292.5,-480.5 292.5,-480.5 292.5,-474.5 298.5,-468.5 304.5,-468.5 304.5,-468.5 392.5,-468.5 392.5,-468.5 398.5,-468.5 404.5,-474.5 404.5,-480.5 404.5,-480.5 404.5,-524.5 404.5,-524.5 404.5,-530.5 398.5,-536.5 392.5,-536.5\"/>\n<text text-anchor=\"start\" x=\"320.5\" y=\"-521.3\" font-family=\"Helvetica,sans-Serif\" font-size=\"14.00\">gini = 0.0</text>\n<text text-anchor=\"start\" x=\"311\" y=\"-506.3\" font-family=\"Helvetica,sans-Serif\" font-size=\"14.00\">samples = 3</text>\n<text text-anchor=\"start\" x=\"309\" y=\"-491.3\" font-family=\"Helvetica,sans-Serif\" font-size=\"14.00\">value = [0, 3]</text>\n<text text-anchor=\"start\" x=\"300.5\" y=\"-476.3\" font-family=\"Helvetica,sans-Serif\" font-size=\"14.00\">class = Disease</text>\n</g>\n<!-- 12&#45;&gt;13 -->\n<g id=\"edge13\" class=\"edge\">\n<title>12&#45;&gt;13</title>\n<path fill=\"none\" stroke=\"black\" d=\"M440.58,-579.91C426.22,-567.99 410.53,-554.98 396.25,-543.12\"/>\n<polygon fill=\"black\" stroke=\"black\" points=\"398.4,-540.36 388.47,-536.67 393.93,-545.75 398.4,-540.36\"/>\n</g>\n<!-- 14 -->\n<g id=\"node15\" class=\"node\">\n<title>14</title>\n<path fill=\"#e58139\" stroke=\"black\" d=\"M544,-536.5C544,-536.5 435,-536.5 435,-536.5 429,-536.5 423,-530.5 423,-524.5 423,-524.5 423,-480.5 423,-480.5 423,-474.5 429,-468.5 435,-468.5 435,-468.5 544,-468.5 544,-468.5 550,-468.5 556,-474.5 556,-480.5 556,-480.5 556,-524.5 556,-524.5 556,-530.5 550,-536.5 544,-536.5\"/>\n<text text-anchor=\"start\" x=\"461.5\" y=\"-521.3\" font-family=\"Helvetica,sans-Serif\" font-size=\"14.00\">gini = 0.0</text>\n<text text-anchor=\"start\" x=\"448.5\" y=\"-506.3\" font-family=\"Helvetica,sans-Serif\" font-size=\"14.00\">samples = 14</text>\n<text text-anchor=\"start\" x=\"446.5\" y=\"-491.3\" font-family=\"Helvetica,sans-Serif\" font-size=\"14.00\">value = [14, 0]</text>\n<text text-anchor=\"start\" x=\"431\" y=\"-476.3\" font-family=\"Helvetica,sans-Serif\" font-size=\"14.00\">class = No Disease</text>\n</g>\n<!-- 12&#45;&gt;14 -->\n<g id=\"edge14\" class=\"edge\">\n<title>12&#45;&gt;14</title>\n<path fill=\"none\" stroke=\"black\" d=\"M489.5,-579.91C489.5,-569.2 489.5,-557.62 489.5,-546.78\"/>\n<polygon fill=\"black\" stroke=\"black\" points=\"493,-546.67 489.5,-536.67 486,-546.67 493,-546.67\"/>\n</g>\n<!-- 16 -->\n<g id=\"node17\" class=\"node\">\n<title>16</title>\n<path fill=\"#399de5\" stroke=\"black\" d=\"M674.5,-536.5C674.5,-536.5 586.5,-536.5 586.5,-536.5 580.5,-536.5 574.5,-530.5 574.5,-524.5 574.5,-524.5 574.5,-480.5 574.5,-480.5 574.5,-474.5 580.5,-468.5 586.5,-468.5 586.5,-468.5 674.5,-468.5 674.5,-468.5 680.5,-468.5 686.5,-474.5 686.5,-480.5 686.5,-480.5 686.5,-524.5 686.5,-524.5 686.5,-530.5 680.5,-536.5 674.5,-536.5\"/>\n<text text-anchor=\"start\" x=\"602.5\" y=\"-521.3\" font-family=\"Helvetica,sans-Serif\" font-size=\"14.00\">gini = 0.0</text>\n<text text-anchor=\"start\" x=\"589.5\" y=\"-506.3\" font-family=\"Helvetica,sans-Serif\" font-size=\"14.00\">samples = 14</text>\n<text text-anchor=\"start\" x=\"587.5\" y=\"-491.3\" font-family=\"Helvetica,sans-Serif\" font-size=\"14.00\">value = [0, 14]</text>\n<text text-anchor=\"start\" x=\"582.5\" y=\"-476.3\" font-family=\"Helvetica,sans-Serif\" font-size=\"14.00\">class = Disease</text>\n</g>\n<!-- 15&#45;&gt;16 -->\n<g id=\"edge16\" class=\"edge\">\n<title>15&#45;&gt;16</title>\n<path fill=\"none\" stroke=\"black\" d=\"M630.5,-579.91C630.5,-569.2 630.5,-557.62 630.5,-546.78\"/>\n<polygon fill=\"black\" stroke=\"black\" points=\"634,-546.67 630.5,-536.67 627,-546.67 634,-546.67\"/>\n</g>\n<!-- 17 -->\n<g id=\"node18\" class=\"node\">\n<title>17</title>\n<path fill=\"#f2c09c\" stroke=\"black\" d=\"M826,-544C826,-544 717,-544 717,-544 711,-544 705,-538 705,-532 705,-532 705,-473 705,-473 705,-467 711,-461 717,-461 717,-461 826,-461 826,-461 832,-461 838,-467 838,-473 838,-473 838,-532 838,-532 838,-538 832,-544 826,-544\"/>\n<text text-anchor=\"start\" x=\"732\" y=\"-528.8\" font-family=\"Helvetica,sans-Serif\" font-size=\"14.00\">restecg ≤ 0.5</text>\n<text text-anchor=\"start\" x=\"736\" y=\"-513.8\" font-family=\"Helvetica,sans-Serif\" font-size=\"14.00\">gini = 0.444</text>\n<text text-anchor=\"start\" x=\"734\" y=\"-498.8\" font-family=\"Helvetica,sans-Serif\" font-size=\"14.00\">samples = 6</text>\n<text text-anchor=\"start\" x=\"732\" y=\"-483.8\" font-family=\"Helvetica,sans-Serif\" font-size=\"14.00\">value = [4, 2]</text>\n<text text-anchor=\"start\" x=\"713\" y=\"-468.8\" font-family=\"Helvetica,sans-Serif\" font-size=\"14.00\">class = No Disease</text>\n</g>\n<!-- 15&#45;&gt;17 -->\n<g id=\"edge17\" class=\"edge\">\n<title>15&#45;&gt;17</title>\n<path fill=\"none\" stroke=\"black\" d=\"M679.42,-579.91C690.79,-570.47 703,-560.34 714.68,-550.65\"/>\n<polygon fill=\"black\" stroke=\"black\" points=\"717.21,-553.1 722.67,-544.02 712.74,-547.71 717.21,-553.1\"/>\n</g>\n<!-- 18 -->\n<g id=\"node19\" class=\"node\">\n<title>18</title>\n<path fill=\"#399de5\" stroke=\"black\" d=\"M745.5,-417.5C745.5,-417.5 657.5,-417.5 657.5,-417.5 651.5,-417.5 645.5,-411.5 645.5,-405.5 645.5,-405.5 645.5,-361.5 645.5,-361.5 645.5,-355.5 651.5,-349.5 657.5,-349.5 657.5,-349.5 745.5,-349.5 745.5,-349.5 751.5,-349.5 757.5,-355.5 757.5,-361.5 757.5,-361.5 757.5,-405.5 757.5,-405.5 757.5,-411.5 751.5,-417.5 745.5,-417.5\"/>\n<text text-anchor=\"start\" x=\"673.5\" y=\"-402.3\" font-family=\"Helvetica,sans-Serif\" font-size=\"14.00\">gini = 0.0</text>\n<text text-anchor=\"start\" x=\"664\" y=\"-387.3\" font-family=\"Helvetica,sans-Serif\" font-size=\"14.00\">samples = 2</text>\n<text text-anchor=\"start\" x=\"662\" y=\"-372.3\" font-family=\"Helvetica,sans-Serif\" font-size=\"14.00\">value = [0, 2]</text>\n<text text-anchor=\"start\" x=\"653.5\" y=\"-357.3\" font-family=\"Helvetica,sans-Serif\" font-size=\"14.00\">class = Disease</text>\n</g>\n<!-- 17&#45;&gt;18 -->\n<g id=\"edge18\" class=\"edge\">\n<title>17&#45;&gt;18</title>\n<path fill=\"none\" stroke=\"black\" d=\"M747.21,-460.91C740.55,-449.76 733.3,-437.66 726.59,-426.44\"/>\n<polygon fill=\"black\" stroke=\"black\" points=\"729.48,-424.45 721.34,-417.67 723.47,-428.05 729.48,-424.45\"/>\n</g>\n<!-- 19 -->\n<g id=\"node20\" class=\"node\">\n<title>19</title>\n<path fill=\"#e58139\" stroke=\"black\" d=\"M897,-417.5C897,-417.5 788,-417.5 788,-417.5 782,-417.5 776,-411.5 776,-405.5 776,-405.5 776,-361.5 776,-361.5 776,-355.5 782,-349.5 788,-349.5 788,-349.5 897,-349.5 897,-349.5 903,-349.5 909,-355.5 909,-361.5 909,-361.5 909,-405.5 909,-405.5 909,-411.5 903,-417.5 897,-417.5\"/>\n<text text-anchor=\"start\" x=\"814.5\" y=\"-402.3\" font-family=\"Helvetica,sans-Serif\" font-size=\"14.00\">gini = 0.0</text>\n<text text-anchor=\"start\" x=\"805\" y=\"-387.3\" font-family=\"Helvetica,sans-Serif\" font-size=\"14.00\">samples = 4</text>\n<text text-anchor=\"start\" x=\"803\" y=\"-372.3\" font-family=\"Helvetica,sans-Serif\" font-size=\"14.00\">value = [4, 0]</text>\n<text text-anchor=\"start\" x=\"784\" y=\"-357.3\" font-family=\"Helvetica,sans-Serif\" font-size=\"14.00\">class = No Disease</text>\n</g>\n<!-- 17&#45;&gt;19 -->\n<g id=\"edge19\" class=\"edge\">\n<title>17&#45;&gt;19</title>\n<path fill=\"none\" stroke=\"black\" d=\"M796.13,-460.91C802.9,-449.76 810.24,-437.66 817.05,-426.44\"/>\n<polygon fill=\"black\" stroke=\"black\" points=\"820.18,-428.03 822.37,-417.67 814.19,-424.4 820.18,-428.03\"/>\n</g>\n<!-- 21 -->\n<g id=\"node22\" class=\"node\">\n<title>21</title>\n<path fill=\"#ffffff\" stroke=\"black\" d=\"M977,-782C977,-782 868,-782 868,-782 862,-782 856,-776 856,-770 856,-770 856,-711 856,-711 856,-705 862,-699 868,-699 868,-699 977,-699 977,-699 983,-699 989,-705 989,-711 989,-711 989,-770 989,-770 989,-776 983,-782 977,-782\"/>\n<text text-anchor=\"start\" x=\"885.5\" y=\"-766.8\" font-family=\"Helvetica,sans-Serif\" font-size=\"14.00\">chol ≤ 237.5</text>\n<text text-anchor=\"start\" x=\"894.5\" y=\"-751.8\" font-family=\"Helvetica,sans-Serif\" font-size=\"14.00\">gini = 0.5</text>\n<text text-anchor=\"start\" x=\"881.5\" y=\"-736.8\" font-family=\"Helvetica,sans-Serif\" font-size=\"14.00\">samples = 26</text>\n<text text-anchor=\"start\" x=\"875.5\" y=\"-721.8\" font-family=\"Helvetica,sans-Serif\" font-size=\"14.00\">value = [13, 13]</text>\n<text text-anchor=\"start\" x=\"864\" y=\"-706.8\" font-family=\"Helvetica,sans-Serif\" font-size=\"14.00\">class = No Disease</text>\n</g>\n<!-- 20&#45;&gt;21 -->\n<g id=\"edge21\" class=\"edge\">\n<title>20&#45;&gt;21</title>\n<path fill=\"none\" stroke=\"black\" d=\"M971.48,-817.91C965.84,-809.1 959.81,-799.7 953.98,-790.61\"/>\n<polygon fill=\"black\" stroke=\"black\" points=\"956.82,-788.55 948.47,-782.02 950.93,-792.33 956.82,-788.55\"/>\n</g>\n<!-- 26 -->\n<g id=\"node27\" class=\"node\">\n<title>26</title>\n<path fill=\"#e58139\" stroke=\"black\" d=\"M1128,-774.5C1128,-774.5 1019,-774.5 1019,-774.5 1013,-774.5 1007,-768.5 1007,-762.5 1007,-762.5 1007,-718.5 1007,-718.5 1007,-712.5 1013,-706.5 1019,-706.5 1019,-706.5 1128,-706.5 1128,-706.5 1134,-706.5 1140,-712.5 1140,-718.5 1140,-718.5 1140,-762.5 1140,-762.5 1140,-768.5 1134,-774.5 1128,-774.5\"/>\n<text text-anchor=\"start\" x=\"1045.5\" y=\"-759.3\" font-family=\"Helvetica,sans-Serif\" font-size=\"14.00\">gini = 0.0</text>\n<text text-anchor=\"start\" x=\"1032.5\" y=\"-744.3\" font-family=\"Helvetica,sans-Serif\" font-size=\"14.00\">samples = 51</text>\n<text text-anchor=\"start\" x=\"1030.5\" y=\"-729.3\" font-family=\"Helvetica,sans-Serif\" font-size=\"14.00\">value = [51, 0]</text>\n<text text-anchor=\"start\" x=\"1015\" y=\"-714.3\" font-family=\"Helvetica,sans-Serif\" font-size=\"14.00\">class = No Disease</text>\n</g>\n<!-- 20&#45;&gt;26 -->\n<g id=\"edge26\" class=\"edge\">\n<title>20&#45;&gt;26</title>\n<path fill=\"none\" stroke=\"black\" d=\"M1023.87,-817.91C1031.18,-806.65 1039.13,-794.42 1046.47,-783.11\"/>\n<polygon fill=\"black\" stroke=\"black\" points=\"1049.44,-784.96 1051.96,-774.67 1043.57,-781.15 1049.44,-784.96\"/>\n</g>\n<!-- 22 -->\n<g id=\"node23\" class=\"node\">\n<title>22</title>\n<path fill=\"#76bbed\" stroke=\"black\" d=\"M966.5,-663C966.5,-663 878.5,-663 878.5,-663 872.5,-663 866.5,-657 866.5,-651 866.5,-651 866.5,-592 866.5,-592 866.5,-586 872.5,-580 878.5,-580 878.5,-580 966.5,-580 966.5,-580 972.5,-580 978.5,-586 978.5,-592 978.5,-592 978.5,-651 978.5,-651 978.5,-657 972.5,-663 966.5,-663\"/>\n<text text-anchor=\"start\" x=\"890.5\" y=\"-647.8\" font-family=\"Helvetica,sans-Serif\" font-size=\"14.00\">age ≤ 42.0</text>\n<text text-anchor=\"start\" x=\"890.5\" y=\"-632.8\" font-family=\"Helvetica,sans-Serif\" font-size=\"14.00\">gini = 0.36</text>\n<text text-anchor=\"start\" x=\"881.5\" y=\"-617.8\" font-family=\"Helvetica,sans-Serif\" font-size=\"14.00\">samples = 17</text>\n<text text-anchor=\"start\" x=\"879.5\" y=\"-602.8\" font-family=\"Helvetica,sans-Serif\" font-size=\"14.00\">value = [4, 13]</text>\n<text text-anchor=\"start\" x=\"874.5\" y=\"-587.8\" font-family=\"Helvetica,sans-Serif\" font-size=\"14.00\">class = Disease</text>\n</g>\n<!-- 21&#45;&gt;22 -->\n<g id=\"edge22\" class=\"edge\">\n<title>21&#45;&gt;22</title>\n<path fill=\"none\" stroke=\"black\" d=\"M922.5,-698.91C922.5,-690.65 922.5,-681.86 922.5,-673.3\"/>\n<polygon fill=\"black\" stroke=\"black\" points=\"926,-673.02 922.5,-663.02 919,-673.02 926,-673.02\"/>\n</g>\n<!-- 25 -->\n<g id=\"node26\" class=\"node\">\n<title>25</title>\n<path fill=\"#e58139\" stroke=\"black\" d=\"M1118,-655.5C1118,-655.5 1009,-655.5 1009,-655.5 1003,-655.5 997,-649.5 997,-643.5 997,-643.5 997,-599.5 997,-599.5 997,-593.5 1003,-587.5 1009,-587.5 1009,-587.5 1118,-587.5 1118,-587.5 1124,-587.5 1130,-593.5 1130,-599.5 1130,-599.5 1130,-643.5 1130,-643.5 1130,-649.5 1124,-655.5 1118,-655.5\"/>\n<text text-anchor=\"start\" x=\"1035.5\" y=\"-640.3\" font-family=\"Helvetica,sans-Serif\" font-size=\"14.00\">gini = 0.0</text>\n<text text-anchor=\"start\" x=\"1026\" y=\"-625.3\" font-family=\"Helvetica,sans-Serif\" font-size=\"14.00\">samples = 9</text>\n<text text-anchor=\"start\" x=\"1024\" y=\"-610.3\" font-family=\"Helvetica,sans-Serif\" font-size=\"14.00\">value = [9, 0]</text>\n<text text-anchor=\"start\" x=\"1005\" y=\"-595.3\" font-family=\"Helvetica,sans-Serif\" font-size=\"14.00\">class = No Disease</text>\n</g>\n<!-- 21&#45;&gt;25 -->\n<g id=\"edge25\" class=\"edge\">\n<title>21&#45;&gt;25</title>\n<path fill=\"none\" stroke=\"black\" d=\"M971.42,-698.91C985.78,-686.99 1001.47,-673.98 1015.75,-662.12\"/>\n<polygon fill=\"black\" stroke=\"black\" points=\"1018.07,-664.75 1023.53,-655.67 1013.6,-659.36 1018.07,-664.75\"/>\n</g>\n<!-- 23 -->\n<g id=\"node24\" class=\"node\">\n<title>23</title>\n<path fill=\"#e58139\" stroke=\"black\" d=\"M977,-536.5C977,-536.5 868,-536.5 868,-536.5 862,-536.5 856,-530.5 856,-524.5 856,-524.5 856,-480.5 856,-480.5 856,-474.5 862,-468.5 868,-468.5 868,-468.5 977,-468.5 977,-468.5 983,-468.5 989,-474.5 989,-480.5 989,-480.5 989,-524.5 989,-524.5 989,-530.5 983,-536.5 977,-536.5\"/>\n<text text-anchor=\"start\" x=\"894.5\" y=\"-521.3\" font-family=\"Helvetica,sans-Serif\" font-size=\"14.00\">gini = 0.0</text>\n<text text-anchor=\"start\" x=\"885\" y=\"-506.3\" font-family=\"Helvetica,sans-Serif\" font-size=\"14.00\">samples = 4</text>\n<text text-anchor=\"start\" x=\"883\" y=\"-491.3\" font-family=\"Helvetica,sans-Serif\" font-size=\"14.00\">value = [4, 0]</text>\n<text text-anchor=\"start\" x=\"864\" y=\"-476.3\" font-family=\"Helvetica,sans-Serif\" font-size=\"14.00\">class = No Disease</text>\n</g>\n<!-- 22&#45;&gt;23 -->\n<g id=\"edge23\" class=\"edge\">\n<title>22&#45;&gt;23</title>\n<path fill=\"none\" stroke=\"black\" d=\"M922.5,-579.91C922.5,-569.2 922.5,-557.62 922.5,-546.78\"/>\n<polygon fill=\"black\" stroke=\"black\" points=\"926,-546.67 922.5,-536.67 919,-546.67 926,-546.67\"/>\n</g>\n<!-- 24 -->\n<g id=\"node25\" class=\"node\">\n<title>24</title>\n<path fill=\"#399de5\" stroke=\"black\" d=\"M1107.5,-536.5C1107.5,-536.5 1019.5,-536.5 1019.5,-536.5 1013.5,-536.5 1007.5,-530.5 1007.5,-524.5 1007.5,-524.5 1007.5,-480.5 1007.5,-480.5 1007.5,-474.5 1013.5,-468.5 1019.5,-468.5 1019.5,-468.5 1107.5,-468.5 1107.5,-468.5 1113.5,-468.5 1119.5,-474.5 1119.5,-480.5 1119.5,-480.5 1119.5,-524.5 1119.5,-524.5 1119.5,-530.5 1113.5,-536.5 1107.5,-536.5\"/>\n<text text-anchor=\"start\" x=\"1035.5\" y=\"-521.3\" font-family=\"Helvetica,sans-Serif\" font-size=\"14.00\">gini = 0.0</text>\n<text text-anchor=\"start\" x=\"1022.5\" y=\"-506.3\" font-family=\"Helvetica,sans-Serif\" font-size=\"14.00\">samples = 13</text>\n<text text-anchor=\"start\" x=\"1020.5\" y=\"-491.3\" font-family=\"Helvetica,sans-Serif\" font-size=\"14.00\">value = [0, 13]</text>\n<text text-anchor=\"start\" x=\"1015.5\" y=\"-476.3\" font-family=\"Helvetica,sans-Serif\" font-size=\"14.00\">class = Disease</text>\n</g>\n<!-- 22&#45;&gt;24 -->\n<g id=\"edge24\" class=\"edge\">\n<title>22&#45;&gt;24</title>\n<path fill=\"none\" stroke=\"black\" d=\"M971.42,-579.91C985.78,-567.99 1001.47,-554.98 1015.75,-543.12\"/>\n<polygon fill=\"black\" stroke=\"black\" points=\"1018.07,-545.75 1023.53,-536.67 1013.6,-540.36 1018.07,-545.75\"/>\n</g>\n<!-- 28 -->\n<g id=\"node29\" class=\"node\">\n<title>28</title>\n<path fill=\"#f1b991\" stroke=\"black\" d=\"M1410,-901C1410,-901 1301,-901 1301,-901 1295,-901 1289,-895 1289,-889 1289,-889 1289,-830 1289,-830 1289,-824 1295,-818 1301,-818 1301,-818 1410,-818 1410,-818 1416,-818 1422,-824 1422,-830 1422,-830 1422,-889 1422,-889 1422,-895 1416,-901 1410,-901\"/>\n<text text-anchor=\"start\" x=\"1318.5\" y=\"-885.8\" font-family=\"Helvetica,sans-Serif\" font-size=\"14.00\">chol ≤ 233.5</text>\n<text text-anchor=\"start\" x=\"1320\" y=\"-870.8\" font-family=\"Helvetica,sans-Serif\" font-size=\"14.00\">gini = 0.426</text>\n<text text-anchor=\"start\" x=\"1314.5\" y=\"-855.8\" font-family=\"Helvetica,sans-Serif\" font-size=\"14.00\">samples = 13</text>\n<text text-anchor=\"start\" x=\"1316\" y=\"-840.8\" font-family=\"Helvetica,sans-Serif\" font-size=\"14.00\">value = [9, 4]</text>\n<text text-anchor=\"start\" x=\"1297\" y=\"-825.8\" font-family=\"Helvetica,sans-Serif\" font-size=\"14.00\">class = No Disease</text>\n</g>\n<!-- 27&#45;&gt;28 -->\n<g id=\"edge28\" class=\"edge\">\n<title>27&#45;&gt;28</title>\n<path fill=\"none\" stroke=\"black\" d=\"M1404.48,-936.91C1398.84,-928.1 1392.81,-918.7 1386.98,-909.61\"/>\n<polygon fill=\"black\" stroke=\"black\" points=\"1389.82,-907.55 1381.47,-901.02 1383.93,-911.33 1389.82,-907.55\"/>\n</g>\n<!-- 31 -->\n<g id=\"node32\" class=\"node\">\n<title>31</title>\n<path fill=\"#e6833d\" stroke=\"black\" d=\"M1561,-901C1561,-901 1452,-901 1452,-901 1446,-901 1440,-895 1440,-889 1440,-889 1440,-830 1440,-830 1440,-824 1446,-818 1452,-818 1452,-818 1561,-818 1561,-818 1567,-818 1573,-824 1573,-830 1573,-830 1573,-889 1573,-889 1573,-895 1567,-901 1561,-901\"/>\n<text text-anchor=\"start\" x=\"1474.5\" y=\"-885.8\" font-family=\"Helvetica,sans-Serif\" font-size=\"14.00\">age ≤ 63.5</text>\n<text text-anchor=\"start\" x=\"1471\" y=\"-870.8\" font-family=\"Helvetica,sans-Serif\" font-size=\"14.00\">gini = 0.038</text>\n<text text-anchor=\"start\" x=\"1461.5\" y=\"-855.8\" font-family=\"Helvetica,sans-Serif\" font-size=\"14.00\">samples = 208</text>\n<text text-anchor=\"start\" x=\"1459.5\" y=\"-840.8\" font-family=\"Helvetica,sans-Serif\" font-size=\"14.00\">value = [204, 4]</text>\n<text text-anchor=\"start\" x=\"1448\" y=\"-825.8\" font-family=\"Helvetica,sans-Serif\" font-size=\"14.00\">class = No Disease</text>\n</g>\n<!-- 27&#45;&gt;31 -->\n<g id=\"edge31\" class=\"edge\">\n<title>27&#45;&gt;31</title>\n<path fill=\"none\" stroke=\"black\" d=\"M1456.87,-936.91C1462.59,-928.1 1468.69,-918.7 1474.6,-909.61\"/>\n<polygon fill=\"black\" stroke=\"black\" points=\"1477.67,-911.31 1480.18,-901.02 1471.8,-907.5 1477.67,-911.31\"/>\n</g>\n<!-- 29 -->\n<g id=\"node30\" class=\"node\">\n<title>29</title>\n<path fill=\"#399de5\" stroke=\"black\" d=\"M1258.5,-774.5C1258.5,-774.5 1170.5,-774.5 1170.5,-774.5 1164.5,-774.5 1158.5,-768.5 1158.5,-762.5 1158.5,-762.5 1158.5,-718.5 1158.5,-718.5 1158.5,-712.5 1164.5,-706.5 1170.5,-706.5 1170.5,-706.5 1258.5,-706.5 1258.5,-706.5 1264.5,-706.5 1270.5,-712.5 1270.5,-718.5 1270.5,-718.5 1270.5,-762.5 1270.5,-762.5 1270.5,-768.5 1264.5,-774.5 1258.5,-774.5\"/>\n<text text-anchor=\"start\" x=\"1186.5\" y=\"-759.3\" font-family=\"Helvetica,sans-Serif\" font-size=\"14.00\">gini = 0.0</text>\n<text text-anchor=\"start\" x=\"1177\" y=\"-744.3\" font-family=\"Helvetica,sans-Serif\" font-size=\"14.00\">samples = 4</text>\n<text text-anchor=\"start\" x=\"1175\" y=\"-729.3\" font-family=\"Helvetica,sans-Serif\" font-size=\"14.00\">value = [0, 4]</text>\n<text text-anchor=\"start\" x=\"1166.5\" y=\"-714.3\" font-family=\"Helvetica,sans-Serif\" font-size=\"14.00\">class = Disease</text>\n</g>\n<!-- 28&#45;&gt;29 -->\n<g id=\"edge29\" class=\"edge\">\n<title>28&#45;&gt;29</title>\n<path fill=\"none\" stroke=\"black\" d=\"M1306.58,-817.91C1292.22,-805.99 1276.53,-792.98 1262.25,-781.12\"/>\n<polygon fill=\"black\" stroke=\"black\" points=\"1264.4,-778.36 1254.47,-774.67 1259.93,-783.75 1264.4,-778.36\"/>\n</g>\n<!-- 30 -->\n<g id=\"node31\" class=\"node\">\n<title>30</title>\n<path fill=\"#e58139\" stroke=\"black\" d=\"M1410,-774.5C1410,-774.5 1301,-774.5 1301,-774.5 1295,-774.5 1289,-768.5 1289,-762.5 1289,-762.5 1289,-718.5 1289,-718.5 1289,-712.5 1295,-706.5 1301,-706.5 1301,-706.5 1410,-706.5 1410,-706.5 1416,-706.5 1422,-712.5 1422,-718.5 1422,-718.5 1422,-762.5 1422,-762.5 1422,-768.5 1416,-774.5 1410,-774.5\"/>\n<text text-anchor=\"start\" x=\"1327.5\" y=\"-759.3\" font-family=\"Helvetica,sans-Serif\" font-size=\"14.00\">gini = 0.0</text>\n<text text-anchor=\"start\" x=\"1318\" y=\"-744.3\" font-family=\"Helvetica,sans-Serif\" font-size=\"14.00\">samples = 9</text>\n<text text-anchor=\"start\" x=\"1316\" y=\"-729.3\" font-family=\"Helvetica,sans-Serif\" font-size=\"14.00\">value = [9, 0]</text>\n<text text-anchor=\"start\" x=\"1297\" y=\"-714.3\" font-family=\"Helvetica,sans-Serif\" font-size=\"14.00\">class = No Disease</text>\n</g>\n<!-- 28&#45;&gt;30 -->\n<g id=\"edge30\" class=\"edge\">\n<title>28&#45;&gt;30</title>\n<path fill=\"none\" stroke=\"black\" d=\"M1355.5,-817.91C1355.5,-807.2 1355.5,-795.62 1355.5,-784.78\"/>\n<polygon fill=\"black\" stroke=\"black\" points=\"1359,-784.67 1355.5,-774.67 1352,-784.67 1359,-784.67\"/>\n</g>\n<!-- 32 -->\n<g id=\"node33\" class=\"node\">\n<title>32</title>\n<path fill=\"#e58139\" stroke=\"black\" d=\"M1561,-774.5C1561,-774.5 1452,-774.5 1452,-774.5 1446,-774.5 1440,-768.5 1440,-762.5 1440,-762.5 1440,-718.5 1440,-718.5 1440,-712.5 1446,-706.5 1452,-706.5 1452,-706.5 1561,-706.5 1561,-706.5 1567,-706.5 1573,-712.5 1573,-718.5 1573,-718.5 1573,-762.5 1573,-762.5 1573,-768.5 1567,-774.5 1561,-774.5\"/>\n<text text-anchor=\"start\" x=\"1478.5\" y=\"-759.3\" font-family=\"Helvetica,sans-Serif\" font-size=\"14.00\">gini = 0.0</text>\n<text text-anchor=\"start\" x=\"1461.5\" y=\"-744.3\" font-family=\"Helvetica,sans-Serif\" font-size=\"14.00\">samples = 162</text>\n<text text-anchor=\"start\" x=\"1459.5\" y=\"-729.3\" font-family=\"Helvetica,sans-Serif\" font-size=\"14.00\">value = [162, 0]</text>\n<text text-anchor=\"start\" x=\"1448\" y=\"-714.3\" font-family=\"Helvetica,sans-Serif\" font-size=\"14.00\">class = No Disease</text>\n</g>\n<!-- 31&#45;&gt;32 -->\n<g id=\"edge32\" class=\"edge\">\n<title>31&#45;&gt;32</title>\n<path fill=\"none\" stroke=\"black\" d=\"M1506.5,-817.91C1506.5,-807.2 1506.5,-795.62 1506.5,-784.78\"/>\n<polygon fill=\"black\" stroke=\"black\" points=\"1510,-784.67 1506.5,-774.67 1503,-784.67 1510,-784.67\"/>\n</g>\n<!-- 33 -->\n<g id=\"node34\" class=\"node\">\n<title>33</title>\n<path fill=\"#e78d4c\" stroke=\"black\" d=\"M1712,-782C1712,-782 1603,-782 1603,-782 1597,-782 1591,-776 1591,-770 1591,-770 1591,-711 1591,-711 1591,-705 1597,-699 1603,-699 1603,-699 1712,-699 1712,-699 1718,-699 1724,-705 1724,-711 1724,-711 1724,-770 1724,-770 1724,-776 1718,-782 1712,-782\"/>\n<text text-anchor=\"start\" x=\"1625.5\" y=\"-766.8\" font-family=\"Helvetica,sans-Serif\" font-size=\"14.00\">age ≤ 64.5</text>\n<text text-anchor=\"start\" x=\"1622\" y=\"-751.8\" font-family=\"Helvetica,sans-Serif\" font-size=\"14.00\">gini = 0.159</text>\n<text text-anchor=\"start\" x=\"1616.5\" y=\"-736.8\" font-family=\"Helvetica,sans-Serif\" font-size=\"14.00\">samples = 46</text>\n<text text-anchor=\"start\" x=\"1614.5\" y=\"-721.8\" font-family=\"Helvetica,sans-Serif\" font-size=\"14.00\">value = [42, 4]</text>\n<text text-anchor=\"start\" x=\"1599\" y=\"-706.8\" font-family=\"Helvetica,sans-Serif\" font-size=\"14.00\">class = No Disease</text>\n</g>\n<!-- 31&#45;&gt;33 -->\n<g id=\"edge33\" class=\"edge\">\n<title>31&#45;&gt;33</title>\n<path fill=\"none\" stroke=\"black\" d=\"M1558.89,-817.91C1571.19,-808.38 1584.39,-798.15 1597.01,-788.37\"/>\n<polygon fill=\"black\" stroke=\"black\" points=\"1599.44,-790.91 1605.2,-782.02 1595.16,-785.38 1599.44,-790.91\"/>\n</g>\n<!-- 34 -->\n<g id=\"node35\" class=\"node\">\n<title>34</title>\n<path fill=\"#ffffff\" stroke=\"black\" d=\"M1561,-663C1561,-663 1452,-663 1452,-663 1446,-663 1440,-657 1440,-651 1440,-651 1440,-592 1440,-592 1440,-586 1446,-580 1452,-580 1452,-580 1561,-580 1561,-580 1567,-580 1573,-586 1573,-592 1573,-592 1573,-651 1573,-651 1573,-657 1567,-663 1561,-663\"/>\n<text text-anchor=\"start\" x=\"1469.5\" y=\"-647.8\" font-family=\"Helvetica,sans-Serif\" font-size=\"14.00\">chol ≤ 254.5</text>\n<text text-anchor=\"start\" x=\"1478.5\" y=\"-632.8\" font-family=\"Helvetica,sans-Serif\" font-size=\"14.00\">gini = 0.5</text>\n<text text-anchor=\"start\" x=\"1469\" y=\"-617.8\" font-family=\"Helvetica,sans-Serif\" font-size=\"14.00\">samples = 8</text>\n<text text-anchor=\"start\" x=\"1467\" y=\"-602.8\" font-family=\"Helvetica,sans-Serif\" font-size=\"14.00\">value = [4, 4]</text>\n<text text-anchor=\"start\" x=\"1448\" y=\"-587.8\" font-family=\"Helvetica,sans-Serif\" font-size=\"14.00\">class = No Disease</text>\n</g>\n<!-- 33&#45;&gt;34 -->\n<g id=\"edge34\" class=\"edge\">\n<title>33&#45;&gt;34</title>\n<path fill=\"none\" stroke=\"black\" d=\"M1605.11,-698.91C1592.81,-689.38 1579.61,-679.15 1566.99,-669.37\"/>\n<polygon fill=\"black\" stroke=\"black\" points=\"1568.84,-666.38 1558.8,-663.02 1564.56,-671.91 1568.84,-666.38\"/>\n</g>\n<!-- 37 -->\n<g id=\"node38\" class=\"node\">\n<title>37</title>\n<path fill=\"#e58139\" stroke=\"black\" d=\"M1712,-655.5C1712,-655.5 1603,-655.5 1603,-655.5 1597,-655.5 1591,-649.5 1591,-643.5 1591,-643.5 1591,-599.5 1591,-599.5 1591,-593.5 1597,-587.5 1603,-587.5 1603,-587.5 1712,-587.5 1712,-587.5 1718,-587.5 1724,-593.5 1724,-599.5 1724,-599.5 1724,-643.5 1724,-643.5 1724,-649.5 1718,-655.5 1712,-655.5\"/>\n<text text-anchor=\"start\" x=\"1629.5\" y=\"-640.3\" font-family=\"Helvetica,sans-Serif\" font-size=\"14.00\">gini = 0.0</text>\n<text text-anchor=\"start\" x=\"1616.5\" y=\"-625.3\" font-family=\"Helvetica,sans-Serif\" font-size=\"14.00\">samples = 38</text>\n<text text-anchor=\"start\" x=\"1614.5\" y=\"-610.3\" font-family=\"Helvetica,sans-Serif\" font-size=\"14.00\">value = [38, 0]</text>\n<text text-anchor=\"start\" x=\"1599\" y=\"-595.3\" font-family=\"Helvetica,sans-Serif\" font-size=\"14.00\">class = No Disease</text>\n</g>\n<!-- 33&#45;&gt;37 -->\n<g id=\"edge37\" class=\"edge\">\n<title>33&#45;&gt;37</title>\n<path fill=\"none\" stroke=\"black\" d=\"M1657.5,-698.91C1657.5,-688.2 1657.5,-676.62 1657.5,-665.78\"/>\n<polygon fill=\"black\" stroke=\"black\" points=\"1661,-665.67 1657.5,-655.67 1654,-665.67 1661,-665.67\"/>\n</g>\n<!-- 35 -->\n<g id=\"node36\" class=\"node\">\n<title>35</title>\n<path fill=\"#e58139\" stroke=\"black\" d=\"M1430,-536.5C1430,-536.5 1321,-536.5 1321,-536.5 1315,-536.5 1309,-530.5 1309,-524.5 1309,-524.5 1309,-480.5 1309,-480.5 1309,-474.5 1315,-468.5 1321,-468.5 1321,-468.5 1430,-468.5 1430,-468.5 1436,-468.5 1442,-474.5 1442,-480.5 1442,-480.5 1442,-524.5 1442,-524.5 1442,-530.5 1436,-536.5 1430,-536.5\"/>\n<text text-anchor=\"start\" x=\"1347.5\" y=\"-521.3\" font-family=\"Helvetica,sans-Serif\" font-size=\"14.00\">gini = 0.0</text>\n<text text-anchor=\"start\" x=\"1338\" y=\"-506.3\" font-family=\"Helvetica,sans-Serif\" font-size=\"14.00\">samples = 4</text>\n<text text-anchor=\"start\" x=\"1336\" y=\"-491.3\" font-family=\"Helvetica,sans-Serif\" font-size=\"14.00\">value = [4, 0]</text>\n<text text-anchor=\"start\" x=\"1317\" y=\"-476.3\" font-family=\"Helvetica,sans-Serif\" font-size=\"14.00\">class = No Disease</text>\n</g>\n<!-- 34&#45;&gt;35 -->\n<g id=\"edge35\" class=\"edge\">\n<title>34&#45;&gt;35</title>\n<path fill=\"none\" stroke=\"black\" d=\"M1461.05,-579.91C1447.83,-568.1 1433.4,-555.22 1420.23,-543.45\"/>\n<polygon fill=\"black\" stroke=\"black\" points=\"1422.43,-540.72 1412.64,-536.67 1417.76,-545.94 1422.43,-540.72\"/>\n</g>\n<!-- 36 -->\n<g id=\"node37\" class=\"node\">\n<title>36</title>\n<path fill=\"#399de5\" stroke=\"black\" d=\"M1560.5,-536.5C1560.5,-536.5 1472.5,-536.5 1472.5,-536.5 1466.5,-536.5 1460.5,-530.5 1460.5,-524.5 1460.5,-524.5 1460.5,-480.5 1460.5,-480.5 1460.5,-474.5 1466.5,-468.5 1472.5,-468.5 1472.5,-468.5 1560.5,-468.5 1560.5,-468.5 1566.5,-468.5 1572.5,-474.5 1572.5,-480.5 1572.5,-480.5 1572.5,-524.5 1572.5,-524.5 1572.5,-530.5 1566.5,-536.5 1560.5,-536.5\"/>\n<text text-anchor=\"start\" x=\"1488.5\" y=\"-521.3\" font-family=\"Helvetica,sans-Serif\" font-size=\"14.00\">gini = 0.0</text>\n<text text-anchor=\"start\" x=\"1479\" y=\"-506.3\" font-family=\"Helvetica,sans-Serif\" font-size=\"14.00\">samples = 4</text>\n<text text-anchor=\"start\" x=\"1477\" y=\"-491.3\" font-family=\"Helvetica,sans-Serif\" font-size=\"14.00\">value = [0, 4]</text>\n<text text-anchor=\"start\" x=\"1468.5\" y=\"-476.3\" font-family=\"Helvetica,sans-Serif\" font-size=\"14.00\">class = Disease</text>\n</g>\n<!-- 34&#45;&gt;36 -->\n<g id=\"edge36\" class=\"edge\">\n<title>34&#45;&gt;36</title>\n<path fill=\"none\" stroke=\"black\" d=\"M1509.97,-579.91C1510.88,-569.2 1511.87,-557.62 1512.8,-546.78\"/>\n<polygon fill=\"black\" stroke=\"black\" points=\"1516.3,-546.93 1513.67,-536.67 1509.33,-546.33 1516.3,-546.93\"/>\n</g>\n<!-- 39 -->\n<g id=\"node40\" class=\"node\">\n<title>39</title>\n<path fill=\"#58ace9\" stroke=\"black\" d=\"M2212,-1020C2212,-1020 2119,-1020 2119,-1020 2113,-1020 2107,-1014 2107,-1008 2107,-1008 2107,-949 2107,-949 2107,-943 2113,-937 2119,-937 2119,-937 2212,-937 2212,-937 2218,-937 2224,-943 2224,-949 2224,-949 2224,-1008 2224,-1008 2224,-1014 2218,-1020 2212,-1020\"/>\n<text text-anchor=\"start\" x=\"2124.5\" y=\"-1004.8\" font-family=\"Helvetica,sans-Serif\" font-size=\"14.00\">oldpeak ≤ 2.1</text>\n<text text-anchor=\"start\" x=\"2130\" y=\"-989.8\" font-family=\"Helvetica,sans-Serif\" font-size=\"14.00\">gini = 0.234</text>\n<text text-anchor=\"start\" x=\"2120.5\" y=\"-974.8\" font-family=\"Helvetica,sans-Serif\" font-size=\"14.00\">samples = 317</text>\n<text text-anchor=\"start\" x=\"2115\" y=\"-959.8\" font-family=\"Helvetica,sans-Serif\" font-size=\"14.00\">value = [43, 274]</text>\n<text text-anchor=\"start\" x=\"2117.5\" y=\"-944.8\" font-family=\"Helvetica,sans-Serif\" font-size=\"14.00\">class = Disease</text>\n</g>\n<!-- 38&#45;&gt;39 -->\n<g id=\"edge39\" class=\"edge\">\n<title>38&#45;&gt;39</title>\n<path fill=\"none\" stroke=\"black\" d=\"M2165.5,-1055.91C2165.5,-1047.65 2165.5,-1038.86 2165.5,-1030.3\"/>\n<polygon fill=\"black\" stroke=\"black\" points=\"2169,-1030.02 2165.5,-1020.02 2162,-1030.02 2169,-1030.02\"/>\n</g>\n<!-- 72 -->\n<g id=\"node73\" class=\"node\">\n<title>72</title>\n<path fill=\"#fef8f4\" stroke=\"black\" d=\"M2606,-1020C2606,-1020 2497,-1020 2497,-1020 2491,-1020 2485,-1014 2485,-1008 2485,-1008 2485,-949 2485,-949 2485,-943 2491,-937 2497,-937 2497,-937 2606,-937 2606,-937 2612,-937 2618,-943 2618,-949 2618,-949 2618,-1008 2618,-1008 2618,-1014 2612,-1020 2606,-1020\"/>\n<text text-anchor=\"start\" x=\"2505\" y=\"-1004.8\" font-family=\"Helvetica,sans-Serif\" font-size=\"14.00\">thalach ≤ 132.5</text>\n<text text-anchor=\"start\" x=\"2523.5\" y=\"-989.8\" font-family=\"Helvetica,sans-Serif\" font-size=\"14.00\">gini = 0.5</text>\n<text text-anchor=\"start\" x=\"2506.5\" y=\"-974.8\" font-family=\"Helvetica,sans-Serif\" font-size=\"14.00\">samples = 105</text>\n<text text-anchor=\"start\" x=\"2493.5\" y=\"-959.8\" font-family=\"Helvetica,sans-Serif\" font-size=\"14.00\">value = [54.0, 51.0]</text>\n<text text-anchor=\"start\" x=\"2493\" y=\"-944.8\" font-family=\"Helvetica,sans-Serif\" font-size=\"14.00\">class = No Disease</text>\n</g>\n<!-- 38&#45;&gt;72 -->\n<g id=\"edge72\" class=\"edge\">\n<title>38&#45;&gt;72</title>\n<path fill=\"none\" stroke=\"black\" d=\"M2224.13,-1078.73C2291.24,-1058.39 2401.38,-1025 2475.15,-1002.64\"/>\n<polygon fill=\"black\" stroke=\"black\" points=\"2476.3,-1005.95 2484.86,-999.7 2474.27,-999.25 2476.3,-1005.95\"/>\n</g>\n<!-- 40 -->\n<g id=\"node41\" class=\"node\">\n<title>40</title>\n<path fill=\"#4fa8e8\" stroke=\"black\" d=\"M2145.5,-901C2145.5,-901 2029.5,-901 2029.5,-901 2023.5,-901 2017.5,-895 2017.5,-889 2017.5,-889 2017.5,-830 2017.5,-830 2017.5,-824 2023.5,-818 2029.5,-818 2029.5,-818 2145.5,-818 2145.5,-818 2151.5,-818 2157.5,-824 2157.5,-830 2157.5,-830 2157.5,-889 2157.5,-889 2157.5,-895 2151.5,-901 2145.5,-901\"/>\n<text text-anchor=\"start\" x=\"2055.5\" y=\"-885.8\" font-family=\"Helvetica,sans-Serif\" font-size=\"14.00\">age ≤ 55.5</text>\n<text text-anchor=\"start\" x=\"2052\" y=\"-870.8\" font-family=\"Helvetica,sans-Serif\" font-size=\"14.00\">gini = 0.183</text>\n<text text-anchor=\"start\" x=\"2042.5\" y=\"-855.8\" font-family=\"Helvetica,sans-Serif\" font-size=\"14.00\">samples = 295</text>\n<text text-anchor=\"start\" x=\"2025.5\" y=\"-840.8\" font-family=\"Helvetica,sans-Serif\" font-size=\"14.00\">value = [30.0, 265.0]</text>\n<text text-anchor=\"start\" x=\"2039.5\" y=\"-825.8\" font-family=\"Helvetica,sans-Serif\" font-size=\"14.00\">class = Disease</text>\n</g>\n<!-- 39&#45;&gt;40 -->\n<g id=\"edge40\" class=\"edge\">\n<title>39&#45;&gt;40</title>\n<path fill=\"none\" stroke=\"black\" d=\"M2138.44,-936.91C2132.57,-928.1 2126.3,-918.7 2120.24,-909.61\"/>\n<polygon fill=\"black\" stroke=\"black\" points=\"2122.97,-907.4 2114.51,-901.02 2117.15,-911.28 2122.97,-907.4\"/>\n</g>\n<!-- 67 -->\n<g id=\"node68\" class=\"node\">\n<title>67</title>\n<path fill=\"#f7d8c2\" stroke=\"black\" d=\"M2297,-901C2297,-901 2188,-901 2188,-901 2182,-901 2176,-895 2176,-889 2176,-889 2176,-830 2176,-830 2176,-824 2182,-818 2188,-818 2188,-818 2297,-818 2297,-818 2303,-818 2309,-824 2309,-830 2309,-830 2309,-889 2309,-889 2309,-895 2303,-901 2297,-901\"/>\n<text text-anchor=\"start\" x=\"2209\" y=\"-885.8\" font-family=\"Helvetica,sans-Serif\" font-size=\"14.00\">slope ≤ 0.5</text>\n<text text-anchor=\"start\" x=\"2207\" y=\"-870.8\" font-family=\"Helvetica,sans-Serif\" font-size=\"14.00\">gini = 0.483</text>\n<text text-anchor=\"start\" x=\"2201.5\" y=\"-855.8\" font-family=\"Helvetica,sans-Serif\" font-size=\"14.00\">samples = 22</text>\n<text text-anchor=\"start\" x=\"2199.5\" y=\"-840.8\" font-family=\"Helvetica,sans-Serif\" font-size=\"14.00\">value = [13, 9]</text>\n<text text-anchor=\"start\" x=\"2184\" y=\"-825.8\" font-family=\"Helvetica,sans-Serif\" font-size=\"14.00\">class = No Disease</text>\n</g>\n<!-- 39&#45;&gt;67 -->\n<g id=\"edge67\" class=\"edge\">\n<title>39&#45;&gt;67</title>\n<path fill=\"none\" stroke=\"black\" d=\"M2192.21,-936.91C2198.01,-928.1 2204.2,-918.7 2210.18,-909.61\"/>\n<polygon fill=\"black\" stroke=\"black\" points=\"2213.26,-911.3 2215.83,-901.02 2207.41,-907.45 2213.26,-911.3\"/>\n</g>\n<!-- 41 -->\n<g id=\"node42\" class=\"node\">\n<title>41</title>\n<path fill=\"#40a1e6\" stroke=\"black\" d=\"M1993.5,-782C1993.5,-782 1905.5,-782 1905.5,-782 1899.5,-782 1893.5,-776 1893.5,-770 1893.5,-770 1893.5,-711 1893.5,-711 1893.5,-705 1899.5,-699 1905.5,-699 1905.5,-699 1993.5,-699 1993.5,-699 1999.5,-699 2005.5,-705 2005.5,-711 2005.5,-711 2005.5,-770 2005.5,-770 2005.5,-776 1999.5,-782 1993.5,-782\"/>\n<text text-anchor=\"start\" x=\"1912.5\" y=\"-766.8\" font-family=\"Helvetica,sans-Serif\" font-size=\"14.00\">chol ≤ 153.0</text>\n<text text-anchor=\"start\" x=\"1914\" y=\"-751.8\" font-family=\"Helvetica,sans-Serif\" font-size=\"14.00\">gini = 0.069</text>\n<text text-anchor=\"start\" x=\"1904.5\" y=\"-736.8\" font-family=\"Helvetica,sans-Serif\" font-size=\"14.00\">samples = 196</text>\n<text text-anchor=\"start\" x=\"1902.5\" y=\"-721.8\" font-family=\"Helvetica,sans-Serif\" font-size=\"14.00\">value = [7, 189]</text>\n<text text-anchor=\"start\" x=\"1901.5\" y=\"-706.8\" font-family=\"Helvetica,sans-Serif\" font-size=\"14.00\">class = Disease</text>\n</g>\n<!-- 40&#45;&gt;41 -->\n<g id=\"edge41\" class=\"edge\">\n<title>40&#45;&gt;41</title>\n<path fill=\"none\" stroke=\"black\" d=\"M2039.62,-817.91C2028.49,-808.47 2016.55,-798.34 2005.11,-788.65\"/>\n<polygon fill=\"black\" stroke=\"black\" points=\"2007.18,-785.82 1997.29,-782.02 2002.66,-791.16 2007.18,-785.82\"/>\n</g>\n<!-- 52 -->\n<g id=\"node53\" class=\"node\">\n<title>52</title>\n<path fill=\"#75bbed\" stroke=\"black\" d=\"M2134.5,-782C2134.5,-782 2046.5,-782 2046.5,-782 2040.5,-782 2034.5,-776 2034.5,-770 2034.5,-770 2034.5,-711 2034.5,-711 2034.5,-705 2040.5,-699 2046.5,-699 2046.5,-699 2134.5,-699 2134.5,-699 2140.5,-699 2146.5,-705 2146.5,-711 2146.5,-711 2146.5,-770 2146.5,-770 2146.5,-776 2140.5,-782 2134.5,-782\"/>\n<text text-anchor=\"start\" x=\"2062.5\" y=\"-766.8\" font-family=\"Helvetica,sans-Serif\" font-size=\"14.00\">thal ≤ 1.5</text>\n<text text-anchor=\"start\" x=\"2055\" y=\"-751.8\" font-family=\"Helvetica,sans-Serif\" font-size=\"14.00\">gini = 0.357</text>\n<text text-anchor=\"start\" x=\"2049.5\" y=\"-736.8\" font-family=\"Helvetica,sans-Serif\" font-size=\"14.00\">samples = 99</text>\n<text text-anchor=\"start\" x=\"2043.5\" y=\"-721.8\" font-family=\"Helvetica,sans-Serif\" font-size=\"14.00\">value = [23, 76]</text>\n<text text-anchor=\"start\" x=\"2042.5\" y=\"-706.8\" font-family=\"Helvetica,sans-Serif\" font-size=\"14.00\">class = Disease</text>\n</g>\n<!-- 40&#45;&gt;52 -->\n<g id=\"edge52\" class=\"edge\">\n<title>40&#45;&gt;52</title>\n<path fill=\"none\" stroke=\"black\" d=\"M2088.54,-817.91C2088.75,-809.56 2088.98,-800.67 2089.2,-792.02\"/>\n<polygon fill=\"black\" stroke=\"black\" points=\"2092.7,-792.11 2089.46,-782.02 2085.71,-791.93 2092.7,-792.11\"/>\n</g>\n<!-- 42 -->\n<g id=\"node43\" class=\"node\">\n<title>42</title>\n<path fill=\"#f8e0ce\" stroke=\"black\" d=\"M1863,-663C1863,-663 1754,-663 1754,-663 1748,-663 1742,-657 1742,-651 1742,-651 1742,-592 1742,-592 1742,-586 1748,-580 1754,-580 1754,-580 1863,-580 1863,-580 1869,-580 1875,-586 1875,-592 1875,-592 1875,-651 1875,-651 1875,-657 1869,-663 1863,-663\"/>\n<text text-anchor=\"start\" x=\"1769\" y=\"-647.8\" font-family=\"Helvetica,sans-Serif\" font-size=\"14.00\">restecg ≤ 0.5</text>\n<text text-anchor=\"start\" x=\"1776.5\" y=\"-632.8\" font-family=\"Helvetica,sans-Serif\" font-size=\"14.00\">gini = 0.49</text>\n<text text-anchor=\"start\" x=\"1771\" y=\"-617.8\" font-family=\"Helvetica,sans-Serif\" font-size=\"14.00\">samples = 7</text>\n<text text-anchor=\"start\" x=\"1769\" y=\"-602.8\" font-family=\"Helvetica,sans-Serif\" font-size=\"14.00\">value = [4, 3]</text>\n<text text-anchor=\"start\" x=\"1750\" y=\"-587.8\" font-family=\"Helvetica,sans-Serif\" font-size=\"14.00\">class = No Disease</text>\n</g>\n<!-- 41&#45;&gt;42 -->\n<g id=\"edge42\" class=\"edge\">\n<title>41&#45;&gt;42</title>\n<path fill=\"none\" stroke=\"black\" d=\"M1900.58,-698.91C1889.21,-689.47 1877,-679.34 1865.32,-669.65\"/>\n<polygon fill=\"black\" stroke=\"black\" points=\"1867.26,-666.71 1857.33,-663.02 1862.79,-672.1 1867.26,-666.71\"/>\n</g>\n<!-- 45 -->\n<g id=\"node46\" class=\"node\">\n<title>45</title>\n<path fill=\"#3c9fe5\" stroke=\"black\" d=\"M1994,-663C1994,-663 1905,-663 1905,-663 1899,-663 1893,-657 1893,-651 1893,-651 1893,-592 1893,-592 1893,-586 1899,-580 1905,-580 1905,-580 1994,-580 1994,-580 2000,-580 2006,-586 2006,-592 2006,-592 2006,-651 2006,-651 2006,-657 2000,-663 1994,-663\"/>\n<text text-anchor=\"start\" x=\"1901\" y=\"-647.8\" font-family=\"Helvetica,sans-Serif\" font-size=\"14.00\">trestbps ≤ 109.0</text>\n<text text-anchor=\"start\" x=\"1914\" y=\"-632.8\" font-family=\"Helvetica,sans-Serif\" font-size=\"14.00\">gini = 0.031</text>\n<text text-anchor=\"start\" x=\"1904.5\" y=\"-617.8\" font-family=\"Helvetica,sans-Serif\" font-size=\"14.00\">samples = 189</text>\n<text text-anchor=\"start\" x=\"1902.5\" y=\"-602.8\" font-family=\"Helvetica,sans-Serif\" font-size=\"14.00\">value = [3, 186]</text>\n<text text-anchor=\"start\" x=\"1901.5\" y=\"-587.8\" font-family=\"Helvetica,sans-Serif\" font-size=\"14.00\">class = Disease</text>\n</g>\n<!-- 41&#45;&gt;45 -->\n<g id=\"edge45\" class=\"edge\">\n<title>41&#45;&gt;45</title>\n<path fill=\"none\" stroke=\"black\" d=\"M1949.5,-698.91C1949.5,-690.65 1949.5,-681.86 1949.5,-673.3\"/>\n<polygon fill=\"black\" stroke=\"black\" points=\"1953,-673.02 1949.5,-663.02 1946,-673.02 1953,-673.02\"/>\n</g>\n<!-- 43 -->\n<g id=\"node44\" class=\"node\">\n<title>43</title>\n<path fill=\"#e58139\" stroke=\"black\" d=\"M1722,-536.5C1722,-536.5 1613,-536.5 1613,-536.5 1607,-536.5 1601,-530.5 1601,-524.5 1601,-524.5 1601,-480.5 1601,-480.5 1601,-474.5 1607,-468.5 1613,-468.5 1613,-468.5 1722,-468.5 1722,-468.5 1728,-468.5 1734,-474.5 1734,-480.5 1734,-480.5 1734,-524.5 1734,-524.5 1734,-530.5 1728,-536.5 1722,-536.5\"/>\n<text text-anchor=\"start\" x=\"1639.5\" y=\"-521.3\" font-family=\"Helvetica,sans-Serif\" font-size=\"14.00\">gini = 0.0</text>\n<text text-anchor=\"start\" x=\"1630\" y=\"-506.3\" font-family=\"Helvetica,sans-Serif\" font-size=\"14.00\">samples = 4</text>\n<text text-anchor=\"start\" x=\"1628\" y=\"-491.3\" font-family=\"Helvetica,sans-Serif\" font-size=\"14.00\">value = [4, 0]</text>\n<text text-anchor=\"start\" x=\"1609\" y=\"-476.3\" font-family=\"Helvetica,sans-Serif\" font-size=\"14.00\">class = No Disease</text>\n</g>\n<!-- 42&#45;&gt;43 -->\n<g id=\"edge43\" class=\"edge\">\n<title>42&#45;&gt;43</title>\n<path fill=\"none\" stroke=\"black\" d=\"M1759.58,-579.91C1745.22,-567.99 1729.53,-554.98 1715.25,-543.12\"/>\n<polygon fill=\"black\" stroke=\"black\" points=\"1717.4,-540.36 1707.47,-536.67 1712.93,-545.75 1717.4,-540.36\"/>\n</g>\n<!-- 44 -->\n<g id=\"node45\" class=\"node\">\n<title>44</title>\n<path fill=\"#399de5\" stroke=\"black\" d=\"M1852.5,-536.5C1852.5,-536.5 1764.5,-536.5 1764.5,-536.5 1758.5,-536.5 1752.5,-530.5 1752.5,-524.5 1752.5,-524.5 1752.5,-480.5 1752.5,-480.5 1752.5,-474.5 1758.5,-468.5 1764.5,-468.5 1764.5,-468.5 1852.5,-468.5 1852.5,-468.5 1858.5,-468.5 1864.5,-474.5 1864.5,-480.5 1864.5,-480.5 1864.5,-524.5 1864.5,-524.5 1864.5,-530.5 1858.5,-536.5 1852.5,-536.5\"/>\n<text text-anchor=\"start\" x=\"1780.5\" y=\"-521.3\" font-family=\"Helvetica,sans-Serif\" font-size=\"14.00\">gini = 0.0</text>\n<text text-anchor=\"start\" x=\"1771\" y=\"-506.3\" font-family=\"Helvetica,sans-Serif\" font-size=\"14.00\">samples = 3</text>\n<text text-anchor=\"start\" x=\"1769\" y=\"-491.3\" font-family=\"Helvetica,sans-Serif\" font-size=\"14.00\">value = [0, 3]</text>\n<text text-anchor=\"start\" x=\"1760.5\" y=\"-476.3\" font-family=\"Helvetica,sans-Serif\" font-size=\"14.00\">class = Disease</text>\n</g>\n<!-- 42&#45;&gt;44 -->\n<g id=\"edge44\" class=\"edge\">\n<title>42&#45;&gt;44</title>\n<path fill=\"none\" stroke=\"black\" d=\"M1808.5,-579.91C1808.5,-569.2 1808.5,-557.62 1808.5,-546.78\"/>\n<polygon fill=\"black\" stroke=\"black\" points=\"1812,-546.67 1808.5,-536.67 1805,-546.67 1812,-546.67\"/>\n</g>\n<!-- 46 -->\n<g id=\"node47\" class=\"node\">\n<title>46</title>\n<path fill=\"#67b4eb\" stroke=\"black\" d=\"M1982.5,-544C1982.5,-544 1894.5,-544 1894.5,-544 1888.5,-544 1882.5,-538 1882.5,-532 1882.5,-532 1882.5,-473 1882.5,-473 1882.5,-467 1888.5,-461 1894.5,-461 1894.5,-461 1982.5,-461 1982.5,-461 1988.5,-461 1994.5,-467 1994.5,-473 1994.5,-473 1994.5,-532 1994.5,-532 1994.5,-538 1988.5,-544 1982.5,-544\"/>\n<text text-anchor=\"start\" x=\"1901.5\" y=\"-528.8\" font-family=\"Helvetica,sans-Serif\" font-size=\"14.00\">chol ≤ 232.5</text>\n<text text-anchor=\"start\" x=\"1903\" y=\"-513.8\" font-family=\"Helvetica,sans-Serif\" font-size=\"14.00\">gini = 0.305</text>\n<text text-anchor=\"start\" x=\"1897.5\" y=\"-498.8\" font-family=\"Helvetica,sans-Serif\" font-size=\"14.00\">samples = 16</text>\n<text text-anchor=\"start\" x=\"1895.5\" y=\"-483.8\" font-family=\"Helvetica,sans-Serif\" font-size=\"14.00\">value = [3, 13]</text>\n<text text-anchor=\"start\" x=\"1890.5\" y=\"-468.8\" font-family=\"Helvetica,sans-Serif\" font-size=\"14.00\">class = Disease</text>\n</g>\n<!-- 45&#45;&gt;46 -->\n<g id=\"edge46\" class=\"edge\">\n<title>45&#45;&gt;46</title>\n<path fill=\"none\" stroke=\"black\" d=\"M1945.68,-579.91C1944.9,-571.56 1944.06,-562.67 1943.25,-554.02\"/>\n<polygon fill=\"black\" stroke=\"black\" points=\"1946.73,-553.65 1942.31,-544.02 1939.76,-554.3 1946.73,-553.65\"/>\n</g>\n<!-- 51 -->\n<g id=\"node52\" class=\"node\">\n<title>51</title>\n<path fill=\"#399de5\" stroke=\"black\" d=\"M2112.5,-536.5C2112.5,-536.5 2024.5,-536.5 2024.5,-536.5 2018.5,-536.5 2012.5,-530.5 2012.5,-524.5 2012.5,-524.5 2012.5,-480.5 2012.5,-480.5 2012.5,-474.5 2018.5,-468.5 2024.5,-468.5 2024.5,-468.5 2112.5,-468.5 2112.5,-468.5 2118.5,-468.5 2124.5,-474.5 2124.5,-480.5 2124.5,-480.5 2124.5,-524.5 2124.5,-524.5 2124.5,-530.5 2118.5,-536.5 2112.5,-536.5\"/>\n<text text-anchor=\"start\" x=\"2040.5\" y=\"-521.3\" font-family=\"Helvetica,sans-Serif\" font-size=\"14.00\">gini = 0.0</text>\n<text text-anchor=\"start\" x=\"2023.5\" y=\"-506.3\" font-family=\"Helvetica,sans-Serif\" font-size=\"14.00\">samples = 173</text>\n<text text-anchor=\"start\" x=\"2021.5\" y=\"-491.3\" font-family=\"Helvetica,sans-Serif\" font-size=\"14.00\">value = [0, 173]</text>\n<text text-anchor=\"start\" x=\"2020.5\" y=\"-476.3\" font-family=\"Helvetica,sans-Serif\" font-size=\"14.00\">class = Disease</text>\n</g>\n<!-- 45&#45;&gt;51 -->\n<g id=\"edge51\" class=\"edge\">\n<title>45&#45;&gt;51</title>\n<path fill=\"none\" stroke=\"black\" d=\"M1990.79,-579.91C2002.68,-568.21 2015.65,-555.46 2027.53,-543.78\"/>\n<polygon fill=\"black\" stroke=\"black\" points=\"2030.09,-546.17 2034.77,-536.67 2025.18,-541.18 2030.09,-546.17\"/>\n</g>\n<!-- 47 -->\n<g id=\"node48\" class=\"node\">\n<title>47</title>\n<path fill=\"#399de5\" stroke=\"black\" d=\"M1841.5,-417.5C1841.5,-417.5 1753.5,-417.5 1753.5,-417.5 1747.5,-417.5 1741.5,-411.5 1741.5,-405.5 1741.5,-405.5 1741.5,-361.5 1741.5,-361.5 1741.5,-355.5 1747.5,-349.5 1753.5,-349.5 1753.5,-349.5 1841.5,-349.5 1841.5,-349.5 1847.5,-349.5 1853.5,-355.5 1853.5,-361.5 1853.5,-361.5 1853.5,-405.5 1853.5,-405.5 1853.5,-411.5 1847.5,-417.5 1841.5,-417.5\"/>\n<text text-anchor=\"start\" x=\"1769.5\" y=\"-402.3\" font-family=\"Helvetica,sans-Serif\" font-size=\"14.00\">gini = 0.0</text>\n<text text-anchor=\"start\" x=\"1756.5\" y=\"-387.3\" font-family=\"Helvetica,sans-Serif\" font-size=\"14.00\">samples = 10</text>\n<text text-anchor=\"start\" x=\"1754.5\" y=\"-372.3\" font-family=\"Helvetica,sans-Serif\" font-size=\"14.00\">value = [0, 10]</text>\n<text text-anchor=\"start\" x=\"1749.5\" y=\"-357.3\" font-family=\"Helvetica,sans-Serif\" font-size=\"14.00\">class = Disease</text>\n</g>\n<!-- 46&#45;&gt;47 -->\n<g id=\"edge47\" class=\"edge\">\n<title>46&#45;&gt;47</title>\n<path fill=\"none\" stroke=\"black\" d=\"M1889.58,-460.91C1875.22,-448.99 1859.53,-435.98 1845.25,-424.12\"/>\n<polygon fill=\"black\" stroke=\"black\" points=\"1847.4,-421.36 1837.47,-417.67 1842.93,-426.75 1847.4,-421.36\"/>\n</g>\n<!-- 48 -->\n<g id=\"node49\" class=\"node\">\n<title>48</title>\n<path fill=\"#ffffff\" stroke=\"black\" d=\"M1993,-425C1993,-425 1884,-425 1884,-425 1878,-425 1872,-419 1872,-413 1872,-413 1872,-354 1872,-354 1872,-348 1878,-342 1884,-342 1884,-342 1993,-342 1993,-342 1999,-342 2005,-348 2005,-354 2005,-354 2005,-413 2005,-413 2005,-419 1999,-425 1993,-425\"/>\n<text text-anchor=\"start\" x=\"1901.5\" y=\"-409.8\" font-family=\"Helvetica,sans-Serif\" font-size=\"14.00\">chol ≤ 255.0</text>\n<text text-anchor=\"start\" x=\"1910.5\" y=\"-394.8\" font-family=\"Helvetica,sans-Serif\" font-size=\"14.00\">gini = 0.5</text>\n<text text-anchor=\"start\" x=\"1901\" y=\"-379.8\" font-family=\"Helvetica,sans-Serif\" font-size=\"14.00\">samples = 6</text>\n<text text-anchor=\"start\" x=\"1899\" y=\"-364.8\" font-family=\"Helvetica,sans-Serif\" font-size=\"14.00\">value = [3, 3]</text>\n<text text-anchor=\"start\" x=\"1880\" y=\"-349.8\" font-family=\"Helvetica,sans-Serif\" font-size=\"14.00\">class = No Disease</text>\n</g>\n<!-- 46&#45;&gt;48 -->\n<g id=\"edge48\" class=\"edge\">\n<title>46&#45;&gt;48</title>\n<path fill=\"none\" stroke=\"black\" d=\"M1938.5,-460.91C1938.5,-452.65 1938.5,-443.86 1938.5,-435.3\"/>\n<polygon fill=\"black\" stroke=\"black\" points=\"1942,-435.02 1938.5,-425.02 1935,-435.02 1942,-435.02\"/>\n</g>\n<!-- 49 -->\n<g id=\"node50\" class=\"node\">\n<title>49</title>\n<path fill=\"#e58139\" stroke=\"black\" d=\"M1852,-298.5C1852,-298.5 1743,-298.5 1743,-298.5 1737,-298.5 1731,-292.5 1731,-286.5 1731,-286.5 1731,-242.5 1731,-242.5 1731,-236.5 1737,-230.5 1743,-230.5 1743,-230.5 1852,-230.5 1852,-230.5 1858,-230.5 1864,-236.5 1864,-242.5 1864,-242.5 1864,-286.5 1864,-286.5 1864,-292.5 1858,-298.5 1852,-298.5\"/>\n<text text-anchor=\"start\" x=\"1769.5\" y=\"-283.3\" font-family=\"Helvetica,sans-Serif\" font-size=\"14.00\">gini = 0.0</text>\n<text text-anchor=\"start\" x=\"1760\" y=\"-268.3\" font-family=\"Helvetica,sans-Serif\" font-size=\"14.00\">samples = 3</text>\n<text text-anchor=\"start\" x=\"1758\" y=\"-253.3\" font-family=\"Helvetica,sans-Serif\" font-size=\"14.00\">value = [3, 0]</text>\n<text text-anchor=\"start\" x=\"1739\" y=\"-238.3\" font-family=\"Helvetica,sans-Serif\" font-size=\"14.00\">class = No Disease</text>\n</g>\n<!-- 48&#45;&gt;49 -->\n<g id=\"edge49\" class=\"edge\">\n<title>48&#45;&gt;49</title>\n<path fill=\"none\" stroke=\"black\" d=\"M1889.58,-341.91C1875.22,-329.99 1859.53,-316.98 1845.25,-305.12\"/>\n<polygon fill=\"black\" stroke=\"black\" points=\"1847.4,-302.36 1837.47,-298.67 1842.93,-307.75 1847.4,-302.36\"/>\n</g>\n<!-- 50 -->\n<g id=\"node51\" class=\"node\">\n<title>50</title>\n<path fill=\"#399de5\" stroke=\"black\" d=\"M1982.5,-298.5C1982.5,-298.5 1894.5,-298.5 1894.5,-298.5 1888.5,-298.5 1882.5,-292.5 1882.5,-286.5 1882.5,-286.5 1882.5,-242.5 1882.5,-242.5 1882.5,-236.5 1888.5,-230.5 1894.5,-230.5 1894.5,-230.5 1982.5,-230.5 1982.5,-230.5 1988.5,-230.5 1994.5,-236.5 1994.5,-242.5 1994.5,-242.5 1994.5,-286.5 1994.5,-286.5 1994.5,-292.5 1988.5,-298.5 1982.5,-298.5\"/>\n<text text-anchor=\"start\" x=\"1910.5\" y=\"-283.3\" font-family=\"Helvetica,sans-Serif\" font-size=\"14.00\">gini = 0.0</text>\n<text text-anchor=\"start\" x=\"1901\" y=\"-268.3\" font-family=\"Helvetica,sans-Serif\" font-size=\"14.00\">samples = 3</text>\n<text text-anchor=\"start\" x=\"1899\" y=\"-253.3\" font-family=\"Helvetica,sans-Serif\" font-size=\"14.00\">value = [0, 3]</text>\n<text text-anchor=\"start\" x=\"1890.5\" y=\"-238.3\" font-family=\"Helvetica,sans-Serif\" font-size=\"14.00\">class = Disease</text>\n</g>\n<!-- 48&#45;&gt;50 -->\n<g id=\"edge50\" class=\"edge\">\n<title>48&#45;&gt;50</title>\n<path fill=\"none\" stroke=\"black\" d=\"M1938.5,-341.91C1938.5,-331.2 1938.5,-319.62 1938.5,-308.78\"/>\n<polygon fill=\"black\" stroke=\"black\" points=\"1942,-308.67 1938.5,-298.67 1935,-308.67 1942,-308.67\"/>\n</g>\n<!-- 53 -->\n<g id=\"node54\" class=\"node\">\n<title>53</title>\n<path fill=\"#e58139\" stroke=\"black\" d=\"M2145,-655.5C2145,-655.5 2036,-655.5 2036,-655.5 2030,-655.5 2024,-649.5 2024,-643.5 2024,-643.5 2024,-599.5 2024,-599.5 2024,-593.5 2030,-587.5 2036,-587.5 2036,-587.5 2145,-587.5 2145,-587.5 2151,-587.5 2157,-593.5 2157,-599.5 2157,-599.5 2157,-643.5 2157,-643.5 2157,-649.5 2151,-655.5 2145,-655.5\"/>\n<text text-anchor=\"start\" x=\"2062.5\" y=\"-640.3\" font-family=\"Helvetica,sans-Serif\" font-size=\"14.00\">gini = 0.0</text>\n<text text-anchor=\"start\" x=\"2053\" y=\"-625.3\" font-family=\"Helvetica,sans-Serif\" font-size=\"14.00\">samples = 5</text>\n<text text-anchor=\"start\" x=\"2051\" y=\"-610.3\" font-family=\"Helvetica,sans-Serif\" font-size=\"14.00\">value = [5, 0]</text>\n<text text-anchor=\"start\" x=\"2032\" y=\"-595.3\" font-family=\"Helvetica,sans-Serif\" font-size=\"14.00\">class = No Disease</text>\n</g>\n<!-- 52&#45;&gt;53 -->\n<g id=\"edge53\" class=\"edge\">\n<title>52&#45;&gt;53</title>\n<path fill=\"none\" stroke=\"black\" d=\"M2090.5,-698.91C2090.5,-688.2 2090.5,-676.62 2090.5,-665.78\"/>\n<polygon fill=\"black\" stroke=\"black\" points=\"2094,-665.67 2090.5,-655.67 2087,-665.67 2094,-665.67\"/>\n</g>\n<!-- 54 -->\n<g id=\"node55\" class=\"node\">\n<title>54</title>\n<path fill=\"#68b4eb\" stroke=\"black\" d=\"M2275.5,-663C2275.5,-663 2187.5,-663 2187.5,-663 2181.5,-663 2175.5,-657 2175.5,-651 2175.5,-651 2175.5,-592 2175.5,-592 2175.5,-586 2181.5,-580 2187.5,-580 2187.5,-580 2275.5,-580 2275.5,-580 2281.5,-580 2287.5,-586 2287.5,-592 2287.5,-592 2287.5,-651 2287.5,-651 2287.5,-657 2281.5,-663 2275.5,-663\"/>\n<text text-anchor=\"start\" x=\"2194.5\" y=\"-647.8\" font-family=\"Helvetica,sans-Serif\" font-size=\"14.00\">chol ≤ 271.0</text>\n<text text-anchor=\"start\" x=\"2199.5\" y=\"-632.8\" font-family=\"Helvetica,sans-Serif\" font-size=\"14.00\">gini = 0.31</text>\n<text text-anchor=\"start\" x=\"2190.5\" y=\"-617.8\" font-family=\"Helvetica,sans-Serif\" font-size=\"14.00\">samples = 94</text>\n<text text-anchor=\"start\" x=\"2184.5\" y=\"-602.8\" font-family=\"Helvetica,sans-Serif\" font-size=\"14.00\">value = [18, 76]</text>\n<text text-anchor=\"start\" x=\"2183.5\" y=\"-587.8\" font-family=\"Helvetica,sans-Serif\" font-size=\"14.00\">class = Disease</text>\n</g>\n<!-- 52&#45;&gt;54 -->\n<g id=\"edge54\" class=\"edge\">\n<title>52&#45;&gt;54</title>\n<path fill=\"none\" stroke=\"black\" d=\"M2139.42,-698.91C2150.79,-689.47 2163,-679.34 2174.68,-669.65\"/>\n<polygon fill=\"black\" stroke=\"black\" points=\"2177.21,-672.1 2182.67,-663.02 2172.74,-666.71 2177.21,-672.1\"/>\n</g>\n<!-- 55 -->\n<g id=\"node56\" class=\"node\">\n<title>55</title>\n<path fill=\"#48a5e7\" stroke=\"black\" d=\"M2264.5,-544C2264.5,-544 2176.5,-544 2176.5,-544 2170.5,-544 2164.5,-538 2164.5,-532 2164.5,-532 2164.5,-473 2164.5,-473 2164.5,-467 2170.5,-461 2176.5,-461 2176.5,-461 2264.5,-461 2264.5,-461 2270.5,-461 2276.5,-467 2276.5,-473 2276.5,-473 2276.5,-532 2276.5,-532 2276.5,-538 2270.5,-544 2264.5,-544\"/>\n<text text-anchor=\"start\" x=\"2196\" y=\"-528.8\" font-family=\"Helvetica,sans-Serif\" font-size=\"14.00\">ca ≤ 0.5</text>\n<text text-anchor=\"start\" x=\"2185\" y=\"-513.8\" font-family=\"Helvetica,sans-Serif\" font-size=\"14.00\">gini = 0.133</text>\n<text text-anchor=\"start\" x=\"2179.5\" y=\"-498.8\" font-family=\"Helvetica,sans-Serif\" font-size=\"14.00\">samples = 56</text>\n<text text-anchor=\"start\" x=\"2177.5\" y=\"-483.8\" font-family=\"Helvetica,sans-Serif\" font-size=\"14.00\">value = [4, 52]</text>\n<text text-anchor=\"start\" x=\"2172.5\" y=\"-468.8\" font-family=\"Helvetica,sans-Serif\" font-size=\"14.00\">class = Disease</text>\n</g>\n<!-- 54&#45;&gt;55 -->\n<g id=\"edge55\" class=\"edge\">\n<title>54&#45;&gt;55</title>\n<path fill=\"none\" stroke=\"black\" d=\"M2227.68,-579.91C2226.9,-571.56 2226.06,-562.67 2225.25,-554.02\"/>\n<polygon fill=\"black\" stroke=\"black\" points=\"2228.73,-553.65 2224.31,-544.02 2221.76,-554.3 2228.73,-553.65\"/>\n</g>\n<!-- 60 -->\n<g id=\"node61\" class=\"node\">\n<title>60</title>\n<path fill=\"#acd6f4\" stroke=\"black\" d=\"M2394.5,-544C2394.5,-544 2306.5,-544 2306.5,-544 2300.5,-544 2294.5,-538 2294.5,-532 2294.5,-532 2294.5,-473 2294.5,-473 2294.5,-467 2300.5,-461 2306.5,-461 2306.5,-461 2394.5,-461 2394.5,-461 2400.5,-461 2406.5,-467 2406.5,-473 2406.5,-473 2406.5,-532 2406.5,-532 2406.5,-538 2400.5,-544 2394.5,-544\"/>\n<text text-anchor=\"start\" x=\"2323\" y=\"-528.8\" font-family=\"Helvetica,sans-Serif\" font-size=\"14.00\">sex ≤ 0.5</text>\n<text text-anchor=\"start\" x=\"2315\" y=\"-513.8\" font-family=\"Helvetica,sans-Serif\" font-size=\"14.00\">gini = 0.465</text>\n<text text-anchor=\"start\" x=\"2309.5\" y=\"-498.8\" font-family=\"Helvetica,sans-Serif\" font-size=\"14.00\">samples = 38</text>\n<text text-anchor=\"start\" x=\"2303.5\" y=\"-483.8\" font-family=\"Helvetica,sans-Serif\" font-size=\"14.00\">value = [14, 24]</text>\n<text text-anchor=\"start\" x=\"2302.5\" y=\"-468.8\" font-family=\"Helvetica,sans-Serif\" font-size=\"14.00\">class = Disease</text>\n</g>\n<!-- 54&#45;&gt;60 -->\n<g id=\"edge60\" class=\"edge\">\n<title>54&#45;&gt;60</title>\n<path fill=\"none\" stroke=\"black\" d=\"M2272.79,-579.91C2282.2,-570.65 2292.29,-560.73 2301.98,-551.21\"/>\n<polygon fill=\"black\" stroke=\"black\" points=\"2304.61,-553.53 2309.29,-544.02 2299.7,-548.54 2304.61,-553.53\"/>\n</g>\n<!-- 56 -->\n<g id=\"node57\" class=\"node\">\n<title>56</title>\n<path fill=\"#399de5\" stroke=\"black\" d=\"M2134.5,-417.5C2134.5,-417.5 2046.5,-417.5 2046.5,-417.5 2040.5,-417.5 2034.5,-411.5 2034.5,-405.5 2034.5,-405.5 2034.5,-361.5 2034.5,-361.5 2034.5,-355.5 2040.5,-349.5 2046.5,-349.5 2046.5,-349.5 2134.5,-349.5 2134.5,-349.5 2140.5,-349.5 2146.5,-355.5 2146.5,-361.5 2146.5,-361.5 2146.5,-405.5 2146.5,-405.5 2146.5,-411.5 2140.5,-417.5 2134.5,-417.5\"/>\n<text text-anchor=\"start\" x=\"2062.5\" y=\"-402.3\" font-family=\"Helvetica,sans-Serif\" font-size=\"14.00\">gini = 0.0</text>\n<text text-anchor=\"start\" x=\"2049.5\" y=\"-387.3\" font-family=\"Helvetica,sans-Serif\" font-size=\"14.00\">samples = 40</text>\n<text text-anchor=\"start\" x=\"2047.5\" y=\"-372.3\" font-family=\"Helvetica,sans-Serif\" font-size=\"14.00\">value = [0, 40]</text>\n<text text-anchor=\"start\" x=\"2042.5\" y=\"-357.3\" font-family=\"Helvetica,sans-Serif\" font-size=\"14.00\">class = Disease</text>\n</g>\n<!-- 55&#45;&gt;56 -->\n<g id=\"edge56\" class=\"edge\">\n<title>55&#45;&gt;56</title>\n<path fill=\"none\" stroke=\"black\" d=\"M2175.4,-460.91C2162.28,-449.1 2147.96,-436.22 2134.89,-424.45\"/>\n<polygon fill=\"black\" stroke=\"black\" points=\"2137.13,-421.76 2127.35,-417.67 2132.44,-426.96 2137.13,-421.76\"/>\n</g>\n<!-- 57 -->\n<g id=\"node58\" class=\"node\">\n<title>57</title>\n<path fill=\"#7bbeee\" stroke=\"black\" d=\"M2264.5,-425C2264.5,-425 2176.5,-425 2176.5,-425 2170.5,-425 2164.5,-419 2164.5,-413 2164.5,-413 2164.5,-354 2164.5,-354 2164.5,-348 2170.5,-342 2176.5,-342 2176.5,-342 2264.5,-342 2264.5,-342 2270.5,-342 2276.5,-348 2276.5,-354 2276.5,-354 2276.5,-413 2276.5,-413 2276.5,-419 2270.5,-425 2264.5,-425\"/>\n<text text-anchor=\"start\" x=\"2188.5\" y=\"-409.8\" font-family=\"Helvetica,sans-Serif\" font-size=\"14.00\">age ≤ 61.0</text>\n<text text-anchor=\"start\" x=\"2185\" y=\"-394.8\" font-family=\"Helvetica,sans-Serif\" font-size=\"14.00\">gini = 0.375</text>\n<text text-anchor=\"start\" x=\"2179.5\" y=\"-379.8\" font-family=\"Helvetica,sans-Serif\" font-size=\"14.00\">samples = 16</text>\n<text text-anchor=\"start\" x=\"2177.5\" y=\"-364.8\" font-family=\"Helvetica,sans-Serif\" font-size=\"14.00\">value = [4, 12]</text>\n<text text-anchor=\"start\" x=\"2172.5\" y=\"-349.8\" font-family=\"Helvetica,sans-Serif\" font-size=\"14.00\">class = Disease</text>\n</g>\n<!-- 55&#45;&gt;57 -->\n<g id=\"edge57\" class=\"edge\">\n<title>55&#45;&gt;57</title>\n<path fill=\"none\" stroke=\"black\" d=\"M2220.5,-460.91C2220.5,-452.65 2220.5,-443.86 2220.5,-435.3\"/>\n<polygon fill=\"black\" stroke=\"black\" points=\"2224,-435.02 2220.5,-425.02 2217,-435.02 2224,-435.02\"/>\n</g>\n<!-- 58 -->\n<g id=\"node59\" class=\"node\">\n<title>58</title>\n<path fill=\"#e58139\" stroke=\"black\" d=\"M2134,-298.5C2134,-298.5 2025,-298.5 2025,-298.5 2019,-298.5 2013,-292.5 2013,-286.5 2013,-286.5 2013,-242.5 2013,-242.5 2013,-236.5 2019,-230.5 2025,-230.5 2025,-230.5 2134,-230.5 2134,-230.5 2140,-230.5 2146,-236.5 2146,-242.5 2146,-242.5 2146,-286.5 2146,-286.5 2146,-292.5 2140,-298.5 2134,-298.5\"/>\n<text text-anchor=\"start\" x=\"2051.5\" y=\"-283.3\" font-family=\"Helvetica,sans-Serif\" font-size=\"14.00\">gini = 0.0</text>\n<text text-anchor=\"start\" x=\"2042\" y=\"-268.3\" font-family=\"Helvetica,sans-Serif\" font-size=\"14.00\">samples = 4</text>\n<text text-anchor=\"start\" x=\"2040\" y=\"-253.3\" font-family=\"Helvetica,sans-Serif\" font-size=\"14.00\">value = [4, 0]</text>\n<text text-anchor=\"start\" x=\"2021\" y=\"-238.3\" font-family=\"Helvetica,sans-Serif\" font-size=\"14.00\">class = No Disease</text>\n</g>\n<!-- 57&#45;&gt;58 -->\n<g id=\"edge58\" class=\"edge\">\n<title>57&#45;&gt;58</title>\n<path fill=\"none\" stroke=\"black\" d=\"M2171.58,-341.91C2157.22,-329.99 2141.53,-316.98 2127.25,-305.12\"/>\n<polygon fill=\"black\" stroke=\"black\" points=\"2129.4,-302.36 2119.47,-298.67 2124.93,-307.75 2129.4,-302.36\"/>\n</g>\n<!-- 59 -->\n<g id=\"node60\" class=\"node\">\n<title>59</title>\n<path fill=\"#399de5\" stroke=\"black\" d=\"M2264.5,-298.5C2264.5,-298.5 2176.5,-298.5 2176.5,-298.5 2170.5,-298.5 2164.5,-292.5 2164.5,-286.5 2164.5,-286.5 2164.5,-242.5 2164.5,-242.5 2164.5,-236.5 2170.5,-230.5 2176.5,-230.5 2176.5,-230.5 2264.5,-230.5 2264.5,-230.5 2270.5,-230.5 2276.5,-236.5 2276.5,-242.5 2276.5,-242.5 2276.5,-286.5 2276.5,-286.5 2276.5,-292.5 2270.5,-298.5 2264.5,-298.5\"/>\n<text text-anchor=\"start\" x=\"2192.5\" y=\"-283.3\" font-family=\"Helvetica,sans-Serif\" font-size=\"14.00\">gini = 0.0</text>\n<text text-anchor=\"start\" x=\"2179.5\" y=\"-268.3\" font-family=\"Helvetica,sans-Serif\" font-size=\"14.00\">samples = 12</text>\n<text text-anchor=\"start\" x=\"2177.5\" y=\"-253.3\" font-family=\"Helvetica,sans-Serif\" font-size=\"14.00\">value = [0, 12]</text>\n<text text-anchor=\"start\" x=\"2172.5\" y=\"-238.3\" font-family=\"Helvetica,sans-Serif\" font-size=\"14.00\">class = Disease</text>\n</g>\n<!-- 57&#45;&gt;59 -->\n<g id=\"edge59\" class=\"edge\">\n<title>57&#45;&gt;59</title>\n<path fill=\"none\" stroke=\"black\" d=\"M2220.5,-341.91C2220.5,-331.2 2220.5,-319.62 2220.5,-308.78\"/>\n<polygon fill=\"black\" stroke=\"black\" points=\"2224,-308.67 2220.5,-298.67 2217,-308.67 2224,-308.67\"/>\n</g>\n<!-- 61 -->\n<g id=\"node62\" class=\"node\">\n<title>61</title>\n<path fill=\"#5aade9\" stroke=\"black\" d=\"M2394.5,-425C2394.5,-425 2306.5,-425 2306.5,-425 2300.5,-425 2294.5,-419 2294.5,-413 2294.5,-413 2294.5,-354 2294.5,-354 2294.5,-348 2300.5,-342 2306.5,-342 2306.5,-342 2394.5,-342 2394.5,-342 2400.5,-342 2406.5,-348 2406.5,-354 2406.5,-354 2406.5,-413 2406.5,-413 2406.5,-419 2400.5,-425 2394.5,-425\"/>\n<text text-anchor=\"start\" x=\"2326\" y=\"-409.8\" font-family=\"Helvetica,sans-Serif\" font-size=\"14.00\">ca ≤ 1.5</text>\n<text text-anchor=\"start\" x=\"2315\" y=\"-394.8\" font-family=\"Helvetica,sans-Serif\" font-size=\"14.00\">gini = 0.245</text>\n<text text-anchor=\"start\" x=\"2309.5\" y=\"-379.8\" font-family=\"Helvetica,sans-Serif\" font-size=\"14.00\">samples = 28</text>\n<text text-anchor=\"start\" x=\"2307.5\" y=\"-364.8\" font-family=\"Helvetica,sans-Serif\" font-size=\"14.00\">value = [4, 24]</text>\n<text text-anchor=\"start\" x=\"2302.5\" y=\"-349.8\" font-family=\"Helvetica,sans-Serif\" font-size=\"14.00\">class = Disease</text>\n</g>\n<!-- 60&#45;&gt;61 -->\n<g id=\"edge61\" class=\"edge\">\n<title>60&#45;&gt;61</title>\n<path fill=\"none\" stroke=\"black\" d=\"M2350.5,-460.91C2350.5,-452.65 2350.5,-443.86 2350.5,-435.3\"/>\n<polygon fill=\"black\" stroke=\"black\" points=\"2354,-435.02 2350.5,-425.02 2347,-435.02 2354,-435.02\"/>\n</g>\n<!-- 66 -->\n<g id=\"node67\" class=\"node\">\n<title>66</title>\n<path fill=\"#e58139\" stroke=\"black\" d=\"M2546,-417.5C2546,-417.5 2437,-417.5 2437,-417.5 2431,-417.5 2425,-411.5 2425,-405.5 2425,-405.5 2425,-361.5 2425,-361.5 2425,-355.5 2431,-349.5 2437,-349.5 2437,-349.5 2546,-349.5 2546,-349.5 2552,-349.5 2558,-355.5 2558,-361.5 2558,-361.5 2558,-405.5 2558,-405.5 2558,-411.5 2552,-417.5 2546,-417.5\"/>\n<text text-anchor=\"start\" x=\"2463.5\" y=\"-402.3\" font-family=\"Helvetica,sans-Serif\" font-size=\"14.00\">gini = 0.0</text>\n<text text-anchor=\"start\" x=\"2450.5\" y=\"-387.3\" font-family=\"Helvetica,sans-Serif\" font-size=\"14.00\">samples = 10</text>\n<text text-anchor=\"start\" x=\"2448.5\" y=\"-372.3\" font-family=\"Helvetica,sans-Serif\" font-size=\"14.00\">value = [10, 0]</text>\n<text text-anchor=\"start\" x=\"2433\" y=\"-357.3\" font-family=\"Helvetica,sans-Serif\" font-size=\"14.00\">class = No Disease</text>\n</g>\n<!-- 60&#45;&gt;66 -->\n<g id=\"edge66\" class=\"edge\">\n<title>60&#45;&gt;66</title>\n<path fill=\"none\" stroke=\"black\" d=\"M2399.42,-460.91C2413.78,-448.99 2429.47,-435.98 2443.75,-424.12\"/>\n<polygon fill=\"black\" stroke=\"black\" points=\"2446.07,-426.75 2451.53,-417.67 2441.6,-421.36 2446.07,-426.75\"/>\n</g>\n<!-- 62 -->\n<g id=\"node63\" class=\"node\">\n<title>62</title>\n<path fill=\"#399de5\" stroke=\"black\" d=\"M2394.5,-298.5C2394.5,-298.5 2306.5,-298.5 2306.5,-298.5 2300.5,-298.5 2294.5,-292.5 2294.5,-286.5 2294.5,-286.5 2294.5,-242.5 2294.5,-242.5 2294.5,-236.5 2300.5,-230.5 2306.5,-230.5 2306.5,-230.5 2394.5,-230.5 2394.5,-230.5 2400.5,-230.5 2406.5,-236.5 2406.5,-242.5 2406.5,-242.5 2406.5,-286.5 2406.5,-286.5 2406.5,-292.5 2400.5,-298.5 2394.5,-298.5\"/>\n<text text-anchor=\"start\" x=\"2322.5\" y=\"-283.3\" font-family=\"Helvetica,sans-Serif\" font-size=\"14.00\">gini = 0.0</text>\n<text text-anchor=\"start\" x=\"2309.5\" y=\"-268.3\" font-family=\"Helvetica,sans-Serif\" font-size=\"14.00\">samples = 21</text>\n<text text-anchor=\"start\" x=\"2307.5\" y=\"-253.3\" font-family=\"Helvetica,sans-Serif\" font-size=\"14.00\">value = [0, 21]</text>\n<text text-anchor=\"start\" x=\"2302.5\" y=\"-238.3\" font-family=\"Helvetica,sans-Serif\" font-size=\"14.00\">class = Disease</text>\n</g>\n<!-- 61&#45;&gt;62 -->\n<g id=\"edge62\" class=\"edge\">\n<title>61&#45;&gt;62</title>\n<path fill=\"none\" stroke=\"black\" d=\"M2350.5,-341.91C2350.5,-331.2 2350.5,-319.62 2350.5,-308.78\"/>\n<polygon fill=\"black\" stroke=\"black\" points=\"2354,-308.67 2350.5,-298.67 2347,-308.67 2354,-308.67\"/>\n</g>\n<!-- 63 -->\n<g id=\"node64\" class=\"node\">\n<title>63</title>\n<path fill=\"#f8e0ce\" stroke=\"black\" d=\"M2546,-306C2546,-306 2437,-306 2437,-306 2431,-306 2425,-300 2425,-294 2425,-294 2425,-235 2425,-235 2425,-229 2431,-223 2437,-223 2437,-223 2546,-223 2546,-223 2552,-223 2558,-229 2558,-235 2558,-235 2558,-294 2558,-294 2558,-300 2552,-306 2546,-306\"/>\n<text text-anchor=\"start\" x=\"2465.5\" y=\"-290.8\" font-family=\"Helvetica,sans-Serif\" font-size=\"14.00\">fbs ≤ 0.5</text>\n<text text-anchor=\"start\" x=\"2459.5\" y=\"-275.8\" font-family=\"Helvetica,sans-Serif\" font-size=\"14.00\">gini = 0.49</text>\n<text text-anchor=\"start\" x=\"2454\" y=\"-260.8\" font-family=\"Helvetica,sans-Serif\" font-size=\"14.00\">samples = 7</text>\n<text text-anchor=\"start\" x=\"2452\" y=\"-245.8\" font-family=\"Helvetica,sans-Serif\" font-size=\"14.00\">value = [4, 3]</text>\n<text text-anchor=\"start\" x=\"2433\" y=\"-230.8\" font-family=\"Helvetica,sans-Serif\" font-size=\"14.00\">class = No Disease</text>\n</g>\n<!-- 61&#45;&gt;63 -->\n<g id=\"edge63\" class=\"edge\">\n<title>61&#45;&gt;63</title>\n<path fill=\"none\" stroke=\"black\" d=\"M2399.42,-341.91C2410.79,-332.47 2423,-322.34 2434.68,-312.65\"/>\n<polygon fill=\"black\" stroke=\"black\" points=\"2437.21,-315.1 2442.67,-306.02 2432.74,-309.71 2437.21,-315.1\"/>\n</g>\n<!-- 64 -->\n<g id=\"node65\" class=\"node\">\n<title>64</title>\n<path fill=\"#399de5\" stroke=\"black\" d=\"M2394.5,-179.5C2394.5,-179.5 2306.5,-179.5 2306.5,-179.5 2300.5,-179.5 2294.5,-173.5 2294.5,-167.5 2294.5,-167.5 2294.5,-123.5 2294.5,-123.5 2294.5,-117.5 2300.5,-111.5 2306.5,-111.5 2306.5,-111.5 2394.5,-111.5 2394.5,-111.5 2400.5,-111.5 2406.5,-117.5 2406.5,-123.5 2406.5,-123.5 2406.5,-167.5 2406.5,-167.5 2406.5,-173.5 2400.5,-179.5 2394.5,-179.5\"/>\n<text text-anchor=\"start\" x=\"2322.5\" y=\"-164.3\" font-family=\"Helvetica,sans-Serif\" font-size=\"14.00\">gini = 0.0</text>\n<text text-anchor=\"start\" x=\"2313\" y=\"-149.3\" font-family=\"Helvetica,sans-Serif\" font-size=\"14.00\">samples = 3</text>\n<text text-anchor=\"start\" x=\"2311\" y=\"-134.3\" font-family=\"Helvetica,sans-Serif\" font-size=\"14.00\">value = [0, 3]</text>\n<text text-anchor=\"start\" x=\"2302.5\" y=\"-119.3\" font-family=\"Helvetica,sans-Serif\" font-size=\"14.00\">class = Disease</text>\n</g>\n<!-- 63&#45;&gt;64 -->\n<g id=\"edge64\" class=\"edge\">\n<title>63&#45;&gt;64</title>\n<path fill=\"none\" stroke=\"black\" d=\"M2442.58,-222.91C2428.22,-210.99 2412.53,-197.98 2398.25,-186.12\"/>\n<polygon fill=\"black\" stroke=\"black\" points=\"2400.4,-183.36 2390.47,-179.67 2395.93,-188.75 2400.4,-183.36\"/>\n</g>\n<!-- 65 -->\n<g id=\"node66\" class=\"node\">\n<title>65</title>\n<path fill=\"#e58139\" stroke=\"black\" d=\"M2546,-179.5C2546,-179.5 2437,-179.5 2437,-179.5 2431,-179.5 2425,-173.5 2425,-167.5 2425,-167.5 2425,-123.5 2425,-123.5 2425,-117.5 2431,-111.5 2437,-111.5 2437,-111.5 2546,-111.5 2546,-111.5 2552,-111.5 2558,-117.5 2558,-123.5 2558,-123.5 2558,-167.5 2558,-167.5 2558,-173.5 2552,-179.5 2546,-179.5\"/>\n<text text-anchor=\"start\" x=\"2463.5\" y=\"-164.3\" font-family=\"Helvetica,sans-Serif\" font-size=\"14.00\">gini = 0.0</text>\n<text text-anchor=\"start\" x=\"2454\" y=\"-149.3\" font-family=\"Helvetica,sans-Serif\" font-size=\"14.00\">samples = 4</text>\n<text text-anchor=\"start\" x=\"2452\" y=\"-134.3\" font-family=\"Helvetica,sans-Serif\" font-size=\"14.00\">value = [4, 0]</text>\n<text text-anchor=\"start\" x=\"2433\" y=\"-119.3\" font-family=\"Helvetica,sans-Serif\" font-size=\"14.00\">class = No Disease</text>\n</g>\n<!-- 63&#45;&gt;65 -->\n<g id=\"edge65\" class=\"edge\">\n<title>63&#45;&gt;65</title>\n<path fill=\"none\" stroke=\"black\" d=\"M2491.5,-222.91C2491.5,-212.2 2491.5,-200.62 2491.5,-189.78\"/>\n<polygon fill=\"black\" stroke=\"black\" points=\"2495,-189.67 2491.5,-179.67 2488,-189.67 2495,-189.67\"/>\n</g>\n<!-- 68 -->\n<g id=\"node69\" class=\"node\">\n<title>68</title>\n<path fill=\"#399de5\" stroke=\"black\" d=\"M2279.5,-774.5C2279.5,-774.5 2191.5,-774.5 2191.5,-774.5 2185.5,-774.5 2179.5,-768.5 2179.5,-762.5 2179.5,-762.5 2179.5,-718.5 2179.5,-718.5 2179.5,-712.5 2185.5,-706.5 2191.5,-706.5 2191.5,-706.5 2279.5,-706.5 2279.5,-706.5 2285.5,-706.5 2291.5,-712.5 2291.5,-718.5 2291.5,-718.5 2291.5,-762.5 2291.5,-762.5 2291.5,-768.5 2285.5,-774.5 2279.5,-774.5\"/>\n<text text-anchor=\"start\" x=\"2207.5\" y=\"-759.3\" font-family=\"Helvetica,sans-Serif\" font-size=\"14.00\">gini = 0.0</text>\n<text text-anchor=\"start\" x=\"2198\" y=\"-744.3\" font-family=\"Helvetica,sans-Serif\" font-size=\"14.00\">samples = 8</text>\n<text text-anchor=\"start\" x=\"2196\" y=\"-729.3\" font-family=\"Helvetica,sans-Serif\" font-size=\"14.00\">value = [0, 8]</text>\n<text text-anchor=\"start\" x=\"2187.5\" y=\"-714.3\" font-family=\"Helvetica,sans-Serif\" font-size=\"14.00\">class = Disease</text>\n</g>\n<!-- 67&#45;&gt;68 -->\n<g id=\"edge68\" class=\"edge\">\n<title>67&#45;&gt;68</title>\n<path fill=\"none\" stroke=\"black\" d=\"M2240.07,-817.91C2239.43,-807.2 2238.74,-795.62 2238.09,-784.78\"/>\n<polygon fill=\"black\" stroke=\"black\" points=\"2241.58,-784.44 2237.48,-774.67 2234.59,-784.86 2241.58,-784.44\"/>\n</g>\n<!-- 69 -->\n<g id=\"node70\" class=\"node\">\n<title>69</title>\n<path fill=\"#e78b48\" stroke=\"black\" d=\"M2431,-782C2431,-782 2322,-782 2322,-782 2316,-782 2310,-776 2310,-770 2310,-770 2310,-711 2310,-711 2310,-705 2316,-699 2322,-699 2322,-699 2431,-699 2431,-699 2437,-699 2443,-705 2443,-711 2443,-711 2443,-770 2443,-770 2443,-776 2437,-782 2431,-782\"/>\n<text text-anchor=\"start\" x=\"2339.5\" y=\"-766.8\" font-family=\"Helvetica,sans-Serif\" font-size=\"14.00\">chol ≤ 239.5</text>\n<text text-anchor=\"start\" x=\"2341\" y=\"-751.8\" font-family=\"Helvetica,sans-Serif\" font-size=\"14.00\">gini = 0.133</text>\n<text text-anchor=\"start\" x=\"2335.5\" y=\"-736.8\" font-family=\"Helvetica,sans-Serif\" font-size=\"14.00\">samples = 14</text>\n<text text-anchor=\"start\" x=\"2333.5\" y=\"-721.8\" font-family=\"Helvetica,sans-Serif\" font-size=\"14.00\">value = [13, 1]</text>\n<text text-anchor=\"start\" x=\"2318\" y=\"-706.8\" font-family=\"Helvetica,sans-Serif\" font-size=\"14.00\">class = No Disease</text>\n</g>\n<!-- 67&#45;&gt;69 -->\n<g id=\"edge69\" class=\"edge\">\n<title>67&#45;&gt;69</title>\n<path fill=\"none\" stroke=\"black\" d=\"M2288.99,-817.91C2299.8,-808.47 2311.4,-798.34 2322.5,-788.65\"/>\n<polygon fill=\"black\" stroke=\"black\" points=\"2324.86,-791.23 2330.09,-782.02 2320.26,-785.96 2324.86,-791.23\"/>\n</g>\n<!-- 70 -->\n<g id=\"node71\" class=\"node\">\n<title>70</title>\n<path fill=\"#e58139\" stroke=\"black\" d=\"M2429,-655.5C2429,-655.5 2320,-655.5 2320,-655.5 2314,-655.5 2308,-649.5 2308,-643.5 2308,-643.5 2308,-599.5 2308,-599.5 2308,-593.5 2314,-587.5 2320,-587.5 2320,-587.5 2429,-587.5 2429,-587.5 2435,-587.5 2441,-593.5 2441,-599.5 2441,-599.5 2441,-643.5 2441,-643.5 2441,-649.5 2435,-655.5 2429,-655.5\"/>\n<text text-anchor=\"start\" x=\"2346.5\" y=\"-640.3\" font-family=\"Helvetica,sans-Serif\" font-size=\"14.00\">gini = 0.0</text>\n<text text-anchor=\"start\" x=\"2333.5\" y=\"-625.3\" font-family=\"Helvetica,sans-Serif\" font-size=\"14.00\">samples = 13</text>\n<text text-anchor=\"start\" x=\"2331.5\" y=\"-610.3\" font-family=\"Helvetica,sans-Serif\" font-size=\"14.00\">value = [13, 0]</text>\n<text text-anchor=\"start\" x=\"2316\" y=\"-595.3\" font-family=\"Helvetica,sans-Serif\" font-size=\"14.00\">class = No Disease</text>\n</g>\n<!-- 69&#45;&gt;70 -->\n<g id=\"edge70\" class=\"edge\">\n<title>69&#45;&gt;70</title>\n<path fill=\"none\" stroke=\"black\" d=\"M2375.81,-698.91C2375.62,-688.2 2375.43,-676.62 2375.24,-665.78\"/>\n<polygon fill=\"black\" stroke=\"black\" points=\"2378.74,-665.61 2375.07,-655.67 2371.74,-665.73 2378.74,-665.61\"/>\n</g>\n<!-- 71 -->\n<g id=\"node72\" class=\"node\">\n<title>71</title>\n<path fill=\"#399de5\" stroke=\"black\" d=\"M2559.5,-655.5C2559.5,-655.5 2471.5,-655.5 2471.5,-655.5 2465.5,-655.5 2459.5,-649.5 2459.5,-643.5 2459.5,-643.5 2459.5,-599.5 2459.5,-599.5 2459.5,-593.5 2465.5,-587.5 2471.5,-587.5 2471.5,-587.5 2559.5,-587.5 2559.5,-587.5 2565.5,-587.5 2571.5,-593.5 2571.5,-599.5 2571.5,-599.5 2571.5,-643.5 2571.5,-643.5 2571.5,-649.5 2565.5,-655.5 2559.5,-655.5\"/>\n<text text-anchor=\"start\" x=\"2487.5\" y=\"-640.3\" font-family=\"Helvetica,sans-Serif\" font-size=\"14.00\">gini = 0.0</text>\n<text text-anchor=\"start\" x=\"2478\" y=\"-625.3\" font-family=\"Helvetica,sans-Serif\" font-size=\"14.00\">samples = 1</text>\n<text text-anchor=\"start\" x=\"2476\" y=\"-610.3\" font-family=\"Helvetica,sans-Serif\" font-size=\"14.00\">value = [0, 1]</text>\n<text text-anchor=\"start\" x=\"2467.5\" y=\"-595.3\" font-family=\"Helvetica,sans-Serif\" font-size=\"14.00\">class = Disease</text>\n</g>\n<!-- 69&#45;&gt;71 -->\n<g id=\"edge71\" class=\"edge\">\n<title>69&#45;&gt;71</title>\n<path fill=\"none\" stroke=\"black\" d=\"M2424.73,-698.91C2438.88,-686.99 2454.35,-673.98 2468.43,-662.12\"/>\n<polygon fill=\"black\" stroke=\"black\" points=\"2470.7,-664.78 2476.1,-655.67 2466.19,-659.43 2470.7,-664.78\"/>\n</g>\n<!-- 73 -->\n<g id=\"node74\" class=\"node\">\n<title>73</title>\n<path fill=\"#e58139\" stroke=\"black\" d=\"M2606,-893.5C2606,-893.5 2497,-893.5 2497,-893.5 2491,-893.5 2485,-887.5 2485,-881.5 2485,-881.5 2485,-837.5 2485,-837.5 2485,-831.5 2491,-825.5 2497,-825.5 2497,-825.5 2606,-825.5 2606,-825.5 2612,-825.5 2618,-831.5 2618,-837.5 2618,-837.5 2618,-881.5 2618,-881.5 2618,-887.5 2612,-893.5 2606,-893.5\"/>\n<text text-anchor=\"start\" x=\"2523.5\" y=\"-878.3\" font-family=\"Helvetica,sans-Serif\" font-size=\"14.00\">gini = 0.0</text>\n<text text-anchor=\"start\" x=\"2510.5\" y=\"-863.3\" font-family=\"Helvetica,sans-Serif\" font-size=\"14.00\">samples = 15</text>\n<text text-anchor=\"start\" x=\"2508.5\" y=\"-848.3\" font-family=\"Helvetica,sans-Serif\" font-size=\"14.00\">value = [15, 0]</text>\n<text text-anchor=\"start\" x=\"2493\" y=\"-833.3\" font-family=\"Helvetica,sans-Serif\" font-size=\"14.00\">class = No Disease</text>\n</g>\n<!-- 72&#45;&gt;73 -->\n<g id=\"edge73\" class=\"edge\">\n<title>72&#45;&gt;73</title>\n<path fill=\"none\" stroke=\"black\" d=\"M2551.5,-936.91C2551.5,-926.2 2551.5,-914.62 2551.5,-903.78\"/>\n<polygon fill=\"black\" stroke=\"black\" points=\"2555,-903.67 2551.5,-893.67 2548,-903.67 2555,-903.67\"/>\n</g>\n<!-- 74 -->\n<g id=\"node75\" class=\"node\">\n<title>74</title>\n<path fill=\"#d0e8f9\" stroke=\"black\" d=\"M2967.5,-901C2967.5,-901 2879.5,-901 2879.5,-901 2873.5,-901 2867.5,-895 2867.5,-889 2867.5,-889 2867.5,-830 2867.5,-830 2867.5,-824 2873.5,-818 2879.5,-818 2879.5,-818 2967.5,-818 2967.5,-818 2973.5,-818 2979.5,-824 2979.5,-830 2979.5,-830 2979.5,-889 2979.5,-889 2979.5,-895 2973.5,-901 2967.5,-901\"/>\n<text text-anchor=\"start\" x=\"2879\" y=\"-885.8\" font-family=\"Helvetica,sans-Serif\" font-size=\"14.00\">oldpeak ≤ 1.95</text>\n<text text-anchor=\"start\" x=\"2888\" y=\"-870.8\" font-family=\"Helvetica,sans-Serif\" font-size=\"14.00\">gini = 0.491</text>\n<text text-anchor=\"start\" x=\"2882.5\" y=\"-855.8\" font-family=\"Helvetica,sans-Serif\" font-size=\"14.00\">samples = 90</text>\n<text text-anchor=\"start\" x=\"2876.5\" y=\"-840.8\" font-family=\"Helvetica,sans-Serif\" font-size=\"14.00\">value = [39, 51]</text>\n<text text-anchor=\"start\" x=\"2875.5\" y=\"-825.8\" font-family=\"Helvetica,sans-Serif\" font-size=\"14.00\">class = Disease</text>\n</g>\n<!-- 72&#45;&gt;74 -->\n<g id=\"edge74\" class=\"edge\">\n<title>72&#45;&gt;74</title>\n<path fill=\"none\" stroke=\"black\" d=\"M2618.01,-956.58C2685.73,-935.28 2790.11,-902.45 2857.61,-881.22\"/>\n<polygon fill=\"black\" stroke=\"black\" points=\"2858.8,-884.52 2867.29,-878.18 2856.7,-877.84 2858.8,-884.52\"/>\n</g>\n<!-- 75 -->\n<g id=\"node76\" class=\"node\">\n<title>75</title>\n<path fill=\"#96cbf1\" stroke=\"black\" d=\"M2968,-782C2968,-782 2879,-782 2879,-782 2873,-782 2867,-776 2867,-770 2867,-770 2867,-711 2867,-711 2867,-705 2873,-699 2879,-699 2879,-699 2968,-699 2968,-699 2974,-699 2980,-705 2980,-711 2980,-711 2980,-770 2980,-770 2980,-776 2974,-782 2968,-782\"/>\n<text text-anchor=\"start\" x=\"2875\" y=\"-766.8\" font-family=\"Helvetica,sans-Serif\" font-size=\"14.00\">trestbps ≤ 176.0</text>\n<text text-anchor=\"start\" x=\"2888\" y=\"-751.8\" font-family=\"Helvetica,sans-Serif\" font-size=\"14.00\">gini = 0.435</text>\n<text text-anchor=\"start\" x=\"2882.5\" y=\"-736.8\" font-family=\"Helvetica,sans-Serif\" font-size=\"14.00\">samples = 72</text>\n<text text-anchor=\"start\" x=\"2876.5\" y=\"-721.8\" font-family=\"Helvetica,sans-Serif\" font-size=\"14.00\">value = [23, 49]</text>\n<text text-anchor=\"start\" x=\"2875.5\" y=\"-706.8\" font-family=\"Helvetica,sans-Serif\" font-size=\"14.00\">class = Disease</text>\n</g>\n<!-- 74&#45;&gt;75 -->\n<g id=\"edge75\" class=\"edge\">\n<title>74&#45;&gt;75</title>\n<path fill=\"none\" stroke=\"black\" d=\"M2923.5,-817.91C2923.5,-809.65 2923.5,-800.86 2923.5,-792.3\"/>\n<polygon fill=\"black\" stroke=\"black\" points=\"2927,-792.02 2923.5,-782.02 2920,-792.02 2927,-792.02\"/>\n</g>\n<!-- 96 -->\n<g id=\"node97\" class=\"node\">\n<title>96</title>\n<path fill=\"#e89152\" stroke=\"black\" d=\"M3190,-782C3190,-782 3081,-782 3081,-782 3075,-782 3069,-776 3069,-770 3069,-770 3069,-711 3069,-711 3069,-705 3075,-699 3081,-699 3081,-699 3190,-699 3190,-699 3196,-699 3202,-705 3202,-711 3202,-711 3202,-770 3202,-770 3202,-776 3196,-782 3190,-782\"/>\n<text text-anchor=\"start\" x=\"3102\" y=\"-766.8\" font-family=\"Helvetica,sans-Serif\" font-size=\"14.00\">slope ≤ 0.5</text>\n<text text-anchor=\"start\" x=\"3100\" y=\"-751.8\" font-family=\"Helvetica,sans-Serif\" font-size=\"14.00\">gini = 0.198</text>\n<text text-anchor=\"start\" x=\"3094.5\" y=\"-736.8\" font-family=\"Helvetica,sans-Serif\" font-size=\"14.00\">samples = 18</text>\n<text text-anchor=\"start\" x=\"3092.5\" y=\"-721.8\" font-family=\"Helvetica,sans-Serif\" font-size=\"14.00\">value = [16, 2]</text>\n<text text-anchor=\"start\" x=\"3077\" y=\"-706.8\" font-family=\"Helvetica,sans-Serif\" font-size=\"14.00\">class = No Disease</text>\n</g>\n<!-- 74&#45;&gt;96 -->\n<g id=\"edge96\" class=\"edge\">\n<title>74&#45;&gt;96</title>\n<path fill=\"none\" stroke=\"black\" d=\"M2979.76,-827.45C3004.33,-813.89 3033.52,-797.78 3059.95,-783.19\"/>\n<polygon fill=\"black\" stroke=\"black\" points=\"3061.74,-786.21 3068.8,-778.31 3058.35,-780.08 3061.74,-786.21\"/>\n</g>\n<!-- 76 -->\n<g id=\"node77\" class=\"node\">\n<title>76</title>\n<path fill=\"#7ebfee\" stroke=\"black\" d=\"M2897.5,-663C2897.5,-663 2809.5,-663 2809.5,-663 2803.5,-663 2797.5,-657 2797.5,-651 2797.5,-651 2797.5,-592 2797.5,-592 2797.5,-586 2803.5,-580 2809.5,-580 2809.5,-580 2897.5,-580 2897.5,-580 2903.5,-580 2909.5,-586 2909.5,-592 2909.5,-592 2909.5,-651 2909.5,-651 2909.5,-657 2903.5,-663 2897.5,-663\"/>\n<text text-anchor=\"start\" x=\"2820\" y=\"-647.8\" font-family=\"Helvetica,sans-Serif\" font-size=\"14.00\">slope ≤ 1.5</text>\n<text text-anchor=\"start\" x=\"2818\" y=\"-632.8\" font-family=\"Helvetica,sans-Serif\" font-size=\"14.00\">gini = 0.382</text>\n<text text-anchor=\"start\" x=\"2812.5\" y=\"-617.8\" font-family=\"Helvetica,sans-Serif\" font-size=\"14.00\">samples = 66</text>\n<text text-anchor=\"start\" x=\"2806.5\" y=\"-602.8\" font-family=\"Helvetica,sans-Serif\" font-size=\"14.00\">value = [17, 49]</text>\n<text text-anchor=\"start\" x=\"2805.5\" y=\"-587.8\" font-family=\"Helvetica,sans-Serif\" font-size=\"14.00\">class = Disease</text>\n</g>\n<!-- 75&#45;&gt;76 -->\n<g id=\"edge76\" class=\"edge\">\n<title>75&#45;&gt;76</title>\n<path fill=\"none\" stroke=\"black\" d=\"M2899.21,-698.91C2893.95,-690.1 2888.32,-680.7 2882.88,-671.61\"/>\n<polygon fill=\"black\" stroke=\"black\" points=\"2885.88,-669.81 2877.74,-663.02 2879.87,-673.4 2885.88,-669.81\"/>\n</g>\n<!-- 95 -->\n<g id=\"node96\" class=\"node\">\n<title>95</title>\n<path fill=\"#e58139\" stroke=\"black\" d=\"M3049,-655.5C3049,-655.5 2940,-655.5 2940,-655.5 2934,-655.5 2928,-649.5 2928,-643.5 2928,-643.5 2928,-599.5 2928,-599.5 2928,-593.5 2934,-587.5 2940,-587.5 2940,-587.5 3049,-587.5 3049,-587.5 3055,-587.5 3061,-593.5 3061,-599.5 3061,-599.5 3061,-643.5 3061,-643.5 3061,-649.5 3055,-655.5 3049,-655.5\"/>\n<text text-anchor=\"start\" x=\"2966.5\" y=\"-640.3\" font-family=\"Helvetica,sans-Serif\" font-size=\"14.00\">gini = 0.0</text>\n<text text-anchor=\"start\" x=\"2957\" y=\"-625.3\" font-family=\"Helvetica,sans-Serif\" font-size=\"14.00\">samples = 6</text>\n<text text-anchor=\"start\" x=\"2955\" y=\"-610.3\" font-family=\"Helvetica,sans-Serif\" font-size=\"14.00\">value = [6, 0]</text>\n<text text-anchor=\"start\" x=\"2936\" y=\"-595.3\" font-family=\"Helvetica,sans-Serif\" font-size=\"14.00\">class = No Disease</text>\n</g>\n<!-- 75&#45;&gt;95 -->\n<g id=\"edge95\" class=\"edge\">\n<title>75&#45;&gt;95</title>\n<path fill=\"none\" stroke=\"black\" d=\"M2948.13,-698.91C2954.9,-687.76 2962.24,-675.66 2969.05,-664.44\"/>\n<polygon fill=\"black\" stroke=\"black\" points=\"2972.18,-666.03 2974.37,-655.67 2966.19,-662.4 2972.18,-666.03\"/>\n</g>\n<!-- 77 -->\n<g id=\"node78\" class=\"node\">\n<title>77</title>\n<path fill=\"#c0e0f7\" stroke=\"black\" d=\"M2898,-544C2898,-544 2809,-544 2809,-544 2803,-544 2797,-538 2797,-532 2797,-532 2797,-473 2797,-473 2797,-467 2803,-461 2809,-461 2809,-461 2898,-461 2898,-461 2904,-461 2910,-467 2910,-473 2910,-473 2910,-532 2910,-532 2910,-538 2904,-544 2898,-544\"/>\n<text text-anchor=\"start\" x=\"2805\" y=\"-528.8\" font-family=\"Helvetica,sans-Serif\" font-size=\"14.00\">trestbps ≤ 126.5</text>\n<text text-anchor=\"start\" x=\"2818\" y=\"-513.8\" font-family=\"Helvetica,sans-Serif\" font-size=\"14.00\">gini = 0.482</text>\n<text text-anchor=\"start\" x=\"2812.5\" y=\"-498.8\" font-family=\"Helvetica,sans-Serif\" font-size=\"14.00\">samples = 37</text>\n<text text-anchor=\"start\" x=\"2806.5\" y=\"-483.8\" font-family=\"Helvetica,sans-Serif\" font-size=\"14.00\">value = [15, 22]</text>\n<text text-anchor=\"start\" x=\"2805.5\" y=\"-468.8\" font-family=\"Helvetica,sans-Serif\" font-size=\"14.00\">class = Disease</text>\n</g>\n<!-- 76&#45;&gt;77 -->\n<g id=\"edge77\" class=\"edge\">\n<title>76&#45;&gt;77</title>\n<path fill=\"none\" stroke=\"black\" d=\"M2853.5,-579.91C2853.5,-571.65 2853.5,-562.86 2853.5,-554.3\"/>\n<polygon fill=\"black\" stroke=\"black\" points=\"2857,-554.02 2853.5,-544.02 2850,-554.02 2857,-554.02\"/>\n</g>\n<!-- 90 -->\n<g id=\"node91\" class=\"node\">\n<title>90</title>\n<path fill=\"#48a4e7\" stroke=\"black\" d=\"M3250.5,-544C3250.5,-544 3162.5,-544 3162.5,-544 3156.5,-544 3150.5,-538 3150.5,-532 3150.5,-532 3150.5,-473 3150.5,-473 3150.5,-467 3156.5,-461 3162.5,-461 3162.5,-461 3250.5,-461 3250.5,-461 3256.5,-461 3262.5,-467 3262.5,-473 3262.5,-473 3262.5,-532 3262.5,-532 3262.5,-538 3256.5,-544 3250.5,-544\"/>\n<text text-anchor=\"start\" x=\"3160\" y=\"-528.8\" font-family=\"Helvetica,sans-Serif\" font-size=\"14.00\">thalach ≤ 146.0</text>\n<text text-anchor=\"start\" x=\"3171\" y=\"-513.8\" font-family=\"Helvetica,sans-Serif\" font-size=\"14.00\">gini = 0.128</text>\n<text text-anchor=\"start\" x=\"3165.5\" y=\"-498.8\" font-family=\"Helvetica,sans-Serif\" font-size=\"14.00\">samples = 29</text>\n<text text-anchor=\"start\" x=\"3163.5\" y=\"-483.8\" font-family=\"Helvetica,sans-Serif\" font-size=\"14.00\">value = [2, 27]</text>\n<text text-anchor=\"start\" x=\"3158.5\" y=\"-468.8\" font-family=\"Helvetica,sans-Serif\" font-size=\"14.00\">class = Disease</text>\n</g>\n<!-- 76&#45;&gt;90 -->\n<g id=\"edge90\" class=\"edge\">\n<title>76&#45;&gt;90</title>\n<path fill=\"none\" stroke=\"black\" d=\"M2909.68,-584.12C2912.62,-582.65 2915.57,-581.27 2918.5,-580 2991.55,-548.39 3080.81,-527.14 3140.42,-515.22\"/>\n<polygon fill=\"black\" stroke=\"black\" points=\"3141.32,-518.61 3150.46,-513.25 3139.97,-511.74 3141.32,-518.61\"/>\n</g>\n<!-- 78 -->\n<g id=\"node79\" class=\"node\">\n<title>78</title>\n<path fill=\"#53aae8\" stroke=\"black\" d=\"M2827.5,-425C2827.5,-425 2739.5,-425 2739.5,-425 2733.5,-425 2727.5,-419 2727.5,-413 2727.5,-413 2727.5,-354 2727.5,-354 2727.5,-348 2733.5,-342 2739.5,-342 2739.5,-342 2827.5,-342 2827.5,-342 2833.5,-342 2839.5,-348 2839.5,-354 2839.5,-354 2839.5,-413 2839.5,-413 2839.5,-419 2833.5,-425 2827.5,-425\"/>\n<text text-anchor=\"start\" x=\"2751.5\" y=\"-409.8\" font-family=\"Helvetica,sans-Serif\" font-size=\"14.00\">age ≤ 51.0</text>\n<text text-anchor=\"start\" x=\"2748\" y=\"-394.8\" font-family=\"Helvetica,sans-Serif\" font-size=\"14.00\">gini = 0.208</text>\n<text text-anchor=\"start\" x=\"2742.5\" y=\"-379.8\" font-family=\"Helvetica,sans-Serif\" font-size=\"14.00\">samples = 17</text>\n<text text-anchor=\"start\" x=\"2740.5\" y=\"-364.8\" font-family=\"Helvetica,sans-Serif\" font-size=\"14.00\">value = [2, 15]</text>\n<text text-anchor=\"start\" x=\"2735.5\" y=\"-349.8\" font-family=\"Helvetica,sans-Serif\" font-size=\"14.00\">class = Disease</text>\n</g>\n<!-- 77&#45;&gt;78 -->\n<g id=\"edge78\" class=\"edge\">\n<title>77&#45;&gt;78</title>\n<path fill=\"none\" stroke=\"black\" d=\"M2829.21,-460.91C2823.95,-452.1 2818.32,-442.7 2812.88,-433.61\"/>\n<polygon fill=\"black\" stroke=\"black\" points=\"2815.88,-431.81 2807.74,-425.02 2809.87,-435.4 2815.88,-431.81\"/>\n</g>\n<!-- 83 -->\n<g id=\"node84\" class=\"node\">\n<title>83</title>\n<path fill=\"#f3c5a4\" stroke=\"black\" d=\"M2979,-425C2979,-425 2870,-425 2870,-425 2864,-425 2858,-419 2858,-413 2858,-413 2858,-354 2858,-354 2858,-348 2864,-342 2870,-342 2870,-342 2979,-342 2979,-342 2985,-342 2991,-348 2991,-354 2991,-354 2991,-413 2991,-413 2991,-419 2985,-425 2979,-425\"/>\n<text text-anchor=\"start\" x=\"2883.5\" y=\"-409.8\" font-family=\"Helvetica,sans-Serif\" font-size=\"14.00\">oldpeak ≤ 1.0</text>\n<text text-anchor=\"start\" x=\"2889\" y=\"-394.8\" font-family=\"Helvetica,sans-Serif\" font-size=\"14.00\">gini = 0.455</text>\n<text text-anchor=\"start\" x=\"2883.5\" y=\"-379.8\" font-family=\"Helvetica,sans-Serif\" font-size=\"14.00\">samples = 20</text>\n<text text-anchor=\"start\" x=\"2881.5\" y=\"-364.8\" font-family=\"Helvetica,sans-Serif\" font-size=\"14.00\">value = [13, 7]</text>\n<text text-anchor=\"start\" x=\"2866\" y=\"-349.8\" font-family=\"Helvetica,sans-Serif\" font-size=\"14.00\">class = No Disease</text>\n</g>\n<!-- 77&#45;&gt;83 -->\n<g id=\"edge83\" class=\"edge\">\n<title>77&#45;&gt;83</title>\n<path fill=\"none\" stroke=\"black\" d=\"M2878.13,-460.91C2883.47,-452.1 2889.18,-442.7 2894.7,-433.61\"/>\n<polygon fill=\"black\" stroke=\"black\" points=\"2897.71,-435.39 2899.91,-425.02 2891.73,-431.75 2897.71,-435.39\"/>\n</g>\n<!-- 79 -->\n<g id=\"node80\" class=\"node\">\n<title>79</title>\n<path fill=\"#ffffff\" stroke=\"black\" d=\"M2697,-306C2697,-306 2588,-306 2588,-306 2582,-306 2576,-300 2576,-294 2576,-294 2576,-235 2576,-235 2576,-229 2582,-223 2588,-223 2588,-223 2697,-223 2697,-223 2703,-223 2709,-229 2709,-235 2709,-235 2709,-294 2709,-294 2709,-300 2703,-306 2697,-306\"/>\n<text text-anchor=\"start\" x=\"2605.5\" y=\"-290.8\" font-family=\"Helvetica,sans-Serif\" font-size=\"14.00\">chol ≤ 234.5</text>\n<text text-anchor=\"start\" x=\"2614.5\" y=\"-275.8\" font-family=\"Helvetica,sans-Serif\" font-size=\"14.00\">gini = 0.5</text>\n<text text-anchor=\"start\" x=\"2605\" y=\"-260.8\" font-family=\"Helvetica,sans-Serif\" font-size=\"14.00\">samples = 4</text>\n<text text-anchor=\"start\" x=\"2603\" y=\"-245.8\" font-family=\"Helvetica,sans-Serif\" font-size=\"14.00\">value = [2, 2]</text>\n<text text-anchor=\"start\" x=\"2584\" y=\"-230.8\" font-family=\"Helvetica,sans-Serif\" font-size=\"14.00\">class = No Disease</text>\n</g>\n<!-- 78&#45;&gt;79 -->\n<g id=\"edge79\" class=\"edge\">\n<title>78&#45;&gt;79</title>\n<path fill=\"none\" stroke=\"black\" d=\"M2734.58,-341.91C2723.21,-332.47 2711,-322.34 2699.32,-312.65\"/>\n<polygon fill=\"black\" stroke=\"black\" points=\"2701.26,-309.71 2691.33,-306.02 2696.79,-315.1 2701.26,-309.71\"/>\n</g>\n<!-- 82 -->\n<g id=\"node83\" class=\"node\">\n<title>82</title>\n<path fill=\"#399de5\" stroke=\"black\" d=\"M2827.5,-298.5C2827.5,-298.5 2739.5,-298.5 2739.5,-298.5 2733.5,-298.5 2727.5,-292.5 2727.5,-286.5 2727.5,-286.5 2727.5,-242.5 2727.5,-242.5 2727.5,-236.5 2733.5,-230.5 2739.5,-230.5 2739.5,-230.5 2827.5,-230.5 2827.5,-230.5 2833.5,-230.5 2839.5,-236.5 2839.5,-242.5 2839.5,-242.5 2839.5,-286.5 2839.5,-286.5 2839.5,-292.5 2833.5,-298.5 2827.5,-298.5\"/>\n<text text-anchor=\"start\" x=\"2755.5\" y=\"-283.3\" font-family=\"Helvetica,sans-Serif\" font-size=\"14.00\">gini = 0.0</text>\n<text text-anchor=\"start\" x=\"2742.5\" y=\"-268.3\" font-family=\"Helvetica,sans-Serif\" font-size=\"14.00\">samples = 13</text>\n<text text-anchor=\"start\" x=\"2740.5\" y=\"-253.3\" font-family=\"Helvetica,sans-Serif\" font-size=\"14.00\">value = [0, 13]</text>\n<text text-anchor=\"start\" x=\"2735.5\" y=\"-238.3\" font-family=\"Helvetica,sans-Serif\" font-size=\"14.00\">class = Disease</text>\n</g>\n<!-- 78&#45;&gt;82 -->\n<g id=\"edge82\" class=\"edge\">\n<title>78&#45;&gt;82</title>\n<path fill=\"none\" stroke=\"black\" d=\"M2783.5,-341.91C2783.5,-331.2 2783.5,-319.62 2783.5,-308.78\"/>\n<polygon fill=\"black\" stroke=\"black\" points=\"2787,-308.67 2783.5,-298.67 2780,-308.67 2787,-308.67\"/>\n</g>\n<!-- 80 -->\n<g id=\"node81\" class=\"node\">\n<title>80</title>\n<path fill=\"#e58139\" stroke=\"black\" d=\"M2697,-179.5C2697,-179.5 2588,-179.5 2588,-179.5 2582,-179.5 2576,-173.5 2576,-167.5 2576,-167.5 2576,-123.5 2576,-123.5 2576,-117.5 2582,-111.5 2588,-111.5 2588,-111.5 2697,-111.5 2697,-111.5 2703,-111.5 2709,-117.5 2709,-123.5 2709,-123.5 2709,-167.5 2709,-167.5 2709,-173.5 2703,-179.5 2697,-179.5\"/>\n<text text-anchor=\"start\" x=\"2614.5\" y=\"-164.3\" font-family=\"Helvetica,sans-Serif\" font-size=\"14.00\">gini = 0.0</text>\n<text text-anchor=\"start\" x=\"2605\" y=\"-149.3\" font-family=\"Helvetica,sans-Serif\" font-size=\"14.00\">samples = 2</text>\n<text text-anchor=\"start\" x=\"2603\" y=\"-134.3\" font-family=\"Helvetica,sans-Serif\" font-size=\"14.00\">value = [2, 0]</text>\n<text text-anchor=\"start\" x=\"2584\" y=\"-119.3\" font-family=\"Helvetica,sans-Serif\" font-size=\"14.00\">class = No Disease</text>\n</g>\n<!-- 79&#45;&gt;80 -->\n<g id=\"edge80\" class=\"edge\">\n<title>79&#45;&gt;80</title>\n<path fill=\"none\" stroke=\"black\" d=\"M2642.5,-222.91C2642.5,-212.2 2642.5,-200.62 2642.5,-189.78\"/>\n<polygon fill=\"black\" stroke=\"black\" points=\"2646,-189.67 2642.5,-179.67 2639,-189.67 2646,-189.67\"/>\n</g>\n<!-- 81 -->\n<g id=\"node82\" class=\"node\">\n<title>81</title>\n<path fill=\"#399de5\" stroke=\"black\" d=\"M2827.5,-179.5C2827.5,-179.5 2739.5,-179.5 2739.5,-179.5 2733.5,-179.5 2727.5,-173.5 2727.5,-167.5 2727.5,-167.5 2727.5,-123.5 2727.5,-123.5 2727.5,-117.5 2733.5,-111.5 2739.5,-111.5 2739.5,-111.5 2827.5,-111.5 2827.5,-111.5 2833.5,-111.5 2839.5,-117.5 2839.5,-123.5 2839.5,-123.5 2839.5,-167.5 2839.5,-167.5 2839.5,-173.5 2833.5,-179.5 2827.5,-179.5\"/>\n<text text-anchor=\"start\" x=\"2755.5\" y=\"-164.3\" font-family=\"Helvetica,sans-Serif\" font-size=\"14.00\">gini = 0.0</text>\n<text text-anchor=\"start\" x=\"2746\" y=\"-149.3\" font-family=\"Helvetica,sans-Serif\" font-size=\"14.00\">samples = 2</text>\n<text text-anchor=\"start\" x=\"2744\" y=\"-134.3\" font-family=\"Helvetica,sans-Serif\" font-size=\"14.00\">value = [0, 2]</text>\n<text text-anchor=\"start\" x=\"2735.5\" y=\"-119.3\" font-family=\"Helvetica,sans-Serif\" font-size=\"14.00\">class = Disease</text>\n</g>\n<!-- 79&#45;&gt;81 -->\n<g id=\"edge81\" class=\"edge\">\n<title>79&#45;&gt;81</title>\n<path fill=\"none\" stroke=\"black\" d=\"M2691.42,-222.91C2705.78,-210.99 2721.47,-197.98 2735.75,-186.12\"/>\n<polygon fill=\"black\" stroke=\"black\" points=\"2738.07,-188.75 2743.53,-179.67 2733.6,-183.36 2738.07,-188.75\"/>\n</g>\n<!-- 84 -->\n<g id=\"node85\" class=\"node\">\n<title>84</title>\n<path fill=\"#eb9e67\" stroke=\"black\" d=\"M2979,-306C2979,-306 2870,-306 2870,-306 2864,-306 2858,-300 2858,-294 2858,-294 2858,-235 2858,-235 2858,-229 2864,-223 2870,-223 2870,-223 2979,-223 2979,-223 2985,-223 2991,-229 2991,-235 2991,-235 2991,-294 2991,-294 2991,-300 2985,-306 2979,-306\"/>\n<text text-anchor=\"start\" x=\"2887.5\" y=\"-290.8\" font-family=\"Helvetica,sans-Serif\" font-size=\"14.00\">chol ≤ 228.0</text>\n<text text-anchor=\"start\" x=\"2889\" y=\"-275.8\" font-family=\"Helvetica,sans-Serif\" font-size=\"14.00\">gini = 0.305</text>\n<text text-anchor=\"start\" x=\"2883.5\" y=\"-260.8\" font-family=\"Helvetica,sans-Serif\" font-size=\"14.00\">samples = 16</text>\n<text text-anchor=\"start\" x=\"2881.5\" y=\"-245.8\" font-family=\"Helvetica,sans-Serif\" font-size=\"14.00\">value = [13, 3]</text>\n<text text-anchor=\"start\" x=\"2866\" y=\"-230.8\" font-family=\"Helvetica,sans-Serif\" font-size=\"14.00\">class = No Disease</text>\n</g>\n<!-- 83&#45;&gt;84 -->\n<g id=\"edge84\" class=\"edge\">\n<title>83&#45;&gt;84</title>\n<path fill=\"none\" stroke=\"black\" d=\"M2924.5,-341.91C2924.5,-333.65 2924.5,-324.86 2924.5,-316.3\"/>\n<polygon fill=\"black\" stroke=\"black\" points=\"2928,-316.02 2924.5,-306.02 2921,-316.02 2928,-316.02\"/>\n</g>\n<!-- 89 -->\n<g id=\"node90\" class=\"node\">\n<title>89</title>\n<path fill=\"#399de5\" stroke=\"black\" d=\"M3109.5,-298.5C3109.5,-298.5 3021.5,-298.5 3021.5,-298.5 3015.5,-298.5 3009.5,-292.5 3009.5,-286.5 3009.5,-286.5 3009.5,-242.5 3009.5,-242.5 3009.5,-236.5 3015.5,-230.5 3021.5,-230.5 3021.5,-230.5 3109.5,-230.5 3109.5,-230.5 3115.5,-230.5 3121.5,-236.5 3121.5,-242.5 3121.5,-242.5 3121.5,-286.5 3121.5,-286.5 3121.5,-292.5 3115.5,-298.5 3109.5,-298.5\"/>\n<text text-anchor=\"start\" x=\"3037.5\" y=\"-283.3\" font-family=\"Helvetica,sans-Serif\" font-size=\"14.00\">gini = 0.0</text>\n<text text-anchor=\"start\" x=\"3028\" y=\"-268.3\" font-family=\"Helvetica,sans-Serif\" font-size=\"14.00\">samples = 4</text>\n<text text-anchor=\"start\" x=\"3026\" y=\"-253.3\" font-family=\"Helvetica,sans-Serif\" font-size=\"14.00\">value = [0, 4]</text>\n<text text-anchor=\"start\" x=\"3017.5\" y=\"-238.3\" font-family=\"Helvetica,sans-Serif\" font-size=\"14.00\">class = Disease</text>\n</g>\n<!-- 83&#45;&gt;89 -->\n<g id=\"edge89\" class=\"edge\">\n<title>83&#45;&gt;89</title>\n<path fill=\"none\" stroke=\"black\" d=\"M2973.42,-341.91C2987.78,-329.99 3003.47,-316.98 3017.75,-305.12\"/>\n<polygon fill=\"black\" stroke=\"black\" points=\"3020.07,-307.75 3025.53,-298.67 3015.6,-302.36 3020.07,-307.75\"/>\n</g>\n<!-- 85 -->\n<g id=\"node86\" class=\"node\">\n<title>85</title>\n<path fill=\"#ffffff\" stroke=\"black\" d=\"M2979,-187C2979,-187 2870,-187 2870,-187 2864,-187 2858,-181 2858,-175 2858,-175 2858,-116 2858,-116 2858,-110 2864,-104 2870,-104 2870,-104 2979,-104 2979,-104 2985,-104 2991,-110 2991,-116 2991,-116 2991,-175 2991,-175 2991,-181 2985,-187 2979,-187\"/>\n<text text-anchor=\"start\" x=\"2883.5\" y=\"-171.8\" font-family=\"Helvetica,sans-Serif\" font-size=\"14.00\">oldpeak ≤ 0.7</text>\n<text text-anchor=\"start\" x=\"2896.5\" y=\"-156.8\" font-family=\"Helvetica,sans-Serif\" font-size=\"14.00\">gini = 0.5</text>\n<text text-anchor=\"start\" x=\"2887\" y=\"-141.8\" font-family=\"Helvetica,sans-Serif\" font-size=\"14.00\">samples = 6</text>\n<text text-anchor=\"start\" x=\"2885\" y=\"-126.8\" font-family=\"Helvetica,sans-Serif\" font-size=\"14.00\">value = [3, 3]</text>\n<text text-anchor=\"start\" x=\"2866\" y=\"-111.8\" font-family=\"Helvetica,sans-Serif\" font-size=\"14.00\">class = No Disease</text>\n</g>\n<!-- 84&#45;&gt;85 -->\n<g id=\"edge85\" class=\"edge\">\n<title>84&#45;&gt;85</title>\n<path fill=\"none\" stroke=\"black\" d=\"M2924.5,-222.91C2924.5,-214.65 2924.5,-205.86 2924.5,-197.3\"/>\n<polygon fill=\"black\" stroke=\"black\" points=\"2928,-197.02 2924.5,-187.02 2921,-197.02 2928,-197.02\"/>\n</g>\n<!-- 88 -->\n<g id=\"node89\" class=\"node\">\n<title>88</title>\n<path fill=\"#e58139\" stroke=\"black\" d=\"M3130,-179.5C3130,-179.5 3021,-179.5 3021,-179.5 3015,-179.5 3009,-173.5 3009,-167.5 3009,-167.5 3009,-123.5 3009,-123.5 3009,-117.5 3015,-111.5 3021,-111.5 3021,-111.5 3130,-111.5 3130,-111.5 3136,-111.5 3142,-117.5 3142,-123.5 3142,-123.5 3142,-167.5 3142,-167.5 3142,-173.5 3136,-179.5 3130,-179.5\"/>\n<text text-anchor=\"start\" x=\"3047.5\" y=\"-164.3\" font-family=\"Helvetica,sans-Serif\" font-size=\"14.00\">gini = 0.0</text>\n<text text-anchor=\"start\" x=\"3034.5\" y=\"-149.3\" font-family=\"Helvetica,sans-Serif\" font-size=\"14.00\">samples = 10</text>\n<text text-anchor=\"start\" x=\"3032.5\" y=\"-134.3\" font-family=\"Helvetica,sans-Serif\" font-size=\"14.00\">value = [10, 0]</text>\n<text text-anchor=\"start\" x=\"3017\" y=\"-119.3\" font-family=\"Helvetica,sans-Serif\" font-size=\"14.00\">class = No Disease</text>\n</g>\n<!-- 84&#45;&gt;88 -->\n<g id=\"edge88\" class=\"edge\">\n<title>84&#45;&gt;88</title>\n<path fill=\"none\" stroke=\"black\" d=\"M2976.89,-222.91C2992.27,-210.99 3009.07,-197.98 3024.37,-186.12\"/>\n<polygon fill=\"black\" stroke=\"black\" points=\"3026.93,-188.56 3032.69,-179.67 3022.65,-183.03 3026.93,-188.56\"/>\n</g>\n<!-- 86 -->\n<g id=\"node87\" class=\"node\">\n<title>86</title>\n<path fill=\"#399de5\" stroke=\"black\" d=\"M2897.5,-68C2897.5,-68 2809.5,-68 2809.5,-68 2803.5,-68 2797.5,-62 2797.5,-56 2797.5,-56 2797.5,-12 2797.5,-12 2797.5,-6 2803.5,0 2809.5,0 2809.5,0 2897.5,0 2897.5,0 2903.5,0 2909.5,-6 2909.5,-12 2909.5,-12 2909.5,-56 2909.5,-56 2909.5,-62 2903.5,-68 2897.5,-68\"/>\n<text text-anchor=\"start\" x=\"2825.5\" y=\"-52.8\" font-family=\"Helvetica,sans-Serif\" font-size=\"14.00\">gini = 0.0</text>\n<text text-anchor=\"start\" x=\"2816\" y=\"-37.8\" font-family=\"Helvetica,sans-Serif\" font-size=\"14.00\">samples = 3</text>\n<text text-anchor=\"start\" x=\"2814\" y=\"-22.8\" font-family=\"Helvetica,sans-Serif\" font-size=\"14.00\">value = [0, 3]</text>\n<text text-anchor=\"start\" x=\"2805.5\" y=\"-7.8\" font-family=\"Helvetica,sans-Serif\" font-size=\"14.00\">class = Disease</text>\n</g>\n<!-- 85&#45;&gt;86 -->\n<g id=\"edge86\" class=\"edge\">\n<title>85&#45;&gt;86</title>\n<path fill=\"none\" stroke=\"black\" d=\"M2898.06,-103.73C2892.38,-94.97 2886.38,-85.7 2880.67,-76.91\"/>\n<polygon fill=\"black\" stroke=\"black\" points=\"2883.47,-74.79 2875.09,-68.3 2877.6,-78.59 2883.47,-74.79\"/>\n</g>\n<!-- 87 -->\n<g id=\"node88\" class=\"node\">\n<title>87</title>\n<path fill=\"#e58139\" stroke=\"black\" d=\"M3049,-68C3049,-68 2940,-68 2940,-68 2934,-68 2928,-62 2928,-56 2928,-56 2928,-12 2928,-12 2928,-6 2934,0 2940,0 2940,0 3049,0 3049,0 3055,0 3061,-6 3061,-12 3061,-12 3061,-56 3061,-56 3061,-62 3055,-68 3049,-68\"/>\n<text text-anchor=\"start\" x=\"2966.5\" y=\"-52.8\" font-family=\"Helvetica,sans-Serif\" font-size=\"14.00\">gini = 0.0</text>\n<text text-anchor=\"start\" x=\"2957\" y=\"-37.8\" font-family=\"Helvetica,sans-Serif\" font-size=\"14.00\">samples = 3</text>\n<text text-anchor=\"start\" x=\"2955\" y=\"-22.8\" font-family=\"Helvetica,sans-Serif\" font-size=\"14.00\">value = [3, 0]</text>\n<text text-anchor=\"start\" x=\"2936\" y=\"-7.8\" font-family=\"Helvetica,sans-Serif\" font-size=\"14.00\">class = No Disease</text>\n</g>\n<!-- 85&#45;&gt;87 -->\n<g id=\"edge87\" class=\"edge\">\n<title>85&#45;&gt;87</title>\n<path fill=\"none\" stroke=\"black\" d=\"M2950.57,-103.73C2956.16,-94.97 2962.09,-85.7 2967.71,-76.91\"/>\n<polygon fill=\"black\" stroke=\"black\" points=\"2970.78,-78.61 2973.21,-68.3 2964.88,-74.84 2970.78,-78.61\"/>\n</g>\n<!-- 91 -->\n<g id=\"node92\" class=\"node\">\n<title>91</title>\n<path fill=\"#bddef6\" stroke=\"black\" d=\"M3250.5,-425C3250.5,-425 3162.5,-425 3162.5,-425 3156.5,-425 3150.5,-419 3150.5,-413 3150.5,-413 3150.5,-354 3150.5,-354 3150.5,-348 3156.5,-342 3162.5,-342 3162.5,-342 3250.5,-342 3250.5,-342 3256.5,-342 3262.5,-348 3262.5,-354 3262.5,-354 3262.5,-413 3262.5,-413 3262.5,-419 3256.5,-425 3250.5,-425\"/>\n<text text-anchor=\"start\" x=\"3169.5\" y=\"-409.8\" font-family=\"Helvetica,sans-Serif\" font-size=\"14.00\">chol ≤ 287.0</text>\n<text text-anchor=\"start\" x=\"3174.5\" y=\"-394.8\" font-family=\"Helvetica,sans-Serif\" font-size=\"14.00\">gini = 0.48</text>\n<text text-anchor=\"start\" x=\"3169\" y=\"-379.8\" font-family=\"Helvetica,sans-Serif\" font-size=\"14.00\">samples = 5</text>\n<text text-anchor=\"start\" x=\"3167\" y=\"-364.8\" font-family=\"Helvetica,sans-Serif\" font-size=\"14.00\">value = [2, 3]</text>\n<text text-anchor=\"start\" x=\"3158.5\" y=\"-349.8\" font-family=\"Helvetica,sans-Serif\" font-size=\"14.00\">class = Disease</text>\n</g>\n<!-- 90&#45;&gt;91 -->\n<g id=\"edge91\" class=\"edge\">\n<title>90&#45;&gt;91</title>\n<path fill=\"none\" stroke=\"black\" d=\"M3206.5,-460.91C3206.5,-452.65 3206.5,-443.86 3206.5,-435.3\"/>\n<polygon fill=\"black\" stroke=\"black\" points=\"3210,-435.02 3206.5,-425.02 3203,-435.02 3210,-435.02\"/>\n</g>\n<!-- 94 -->\n<g id=\"node95\" class=\"node\">\n<title>94</title>\n<path fill=\"#399de5\" stroke=\"black\" d=\"M3380.5,-417.5C3380.5,-417.5 3292.5,-417.5 3292.5,-417.5 3286.5,-417.5 3280.5,-411.5 3280.5,-405.5 3280.5,-405.5 3280.5,-361.5 3280.5,-361.5 3280.5,-355.5 3286.5,-349.5 3292.5,-349.5 3292.5,-349.5 3380.5,-349.5 3380.5,-349.5 3386.5,-349.5 3392.5,-355.5 3392.5,-361.5 3392.5,-361.5 3392.5,-405.5 3392.5,-405.5 3392.5,-411.5 3386.5,-417.5 3380.5,-417.5\"/>\n<text text-anchor=\"start\" x=\"3308.5\" y=\"-402.3\" font-family=\"Helvetica,sans-Serif\" font-size=\"14.00\">gini = 0.0</text>\n<text text-anchor=\"start\" x=\"3295.5\" y=\"-387.3\" font-family=\"Helvetica,sans-Serif\" font-size=\"14.00\">samples = 24</text>\n<text text-anchor=\"start\" x=\"3293.5\" y=\"-372.3\" font-family=\"Helvetica,sans-Serif\" font-size=\"14.00\">value = [0, 24]</text>\n<text text-anchor=\"start\" x=\"3288.5\" y=\"-357.3\" font-family=\"Helvetica,sans-Serif\" font-size=\"14.00\">class = Disease</text>\n</g>\n<!-- 90&#45;&gt;94 -->\n<g id=\"edge94\" class=\"edge\">\n<title>90&#45;&gt;94</title>\n<path fill=\"none\" stroke=\"black\" d=\"M3251.6,-460.91C3264.72,-449.1 3279.04,-436.22 3292.11,-424.45\"/>\n<polygon fill=\"black\" stroke=\"black\" points=\"3294.56,-426.96 3299.65,-417.67 3289.87,-421.76 3294.56,-426.96\"/>\n</g>\n<!-- 92 -->\n<g id=\"node93\" class=\"node\">\n<title>92</title>\n<path fill=\"#e58139\" stroke=\"black\" d=\"M3261,-298.5C3261,-298.5 3152,-298.5 3152,-298.5 3146,-298.5 3140,-292.5 3140,-286.5 3140,-286.5 3140,-242.5 3140,-242.5 3140,-236.5 3146,-230.5 3152,-230.5 3152,-230.5 3261,-230.5 3261,-230.5 3267,-230.5 3273,-236.5 3273,-242.5 3273,-242.5 3273,-286.5 3273,-286.5 3273,-292.5 3267,-298.5 3261,-298.5\"/>\n<text text-anchor=\"start\" x=\"3178.5\" y=\"-283.3\" font-family=\"Helvetica,sans-Serif\" font-size=\"14.00\">gini = 0.0</text>\n<text text-anchor=\"start\" x=\"3169\" y=\"-268.3\" font-family=\"Helvetica,sans-Serif\" font-size=\"14.00\">samples = 2</text>\n<text text-anchor=\"start\" x=\"3167\" y=\"-253.3\" font-family=\"Helvetica,sans-Serif\" font-size=\"14.00\">value = [2, 0]</text>\n<text text-anchor=\"start\" x=\"3148\" y=\"-238.3\" font-family=\"Helvetica,sans-Serif\" font-size=\"14.00\">class = No Disease</text>\n</g>\n<!-- 91&#45;&gt;92 -->\n<g id=\"edge92\" class=\"edge\">\n<title>91&#45;&gt;92</title>\n<path fill=\"none\" stroke=\"black\" d=\"M3206.5,-341.91C3206.5,-331.2 3206.5,-319.62 3206.5,-308.78\"/>\n<polygon fill=\"black\" stroke=\"black\" points=\"3210,-308.67 3206.5,-298.67 3203,-308.67 3210,-308.67\"/>\n</g>\n<!-- 93 -->\n<g id=\"node94\" class=\"node\">\n<title>93</title>\n<path fill=\"#399de5\" stroke=\"black\" d=\"M3391.5,-298.5C3391.5,-298.5 3303.5,-298.5 3303.5,-298.5 3297.5,-298.5 3291.5,-292.5 3291.5,-286.5 3291.5,-286.5 3291.5,-242.5 3291.5,-242.5 3291.5,-236.5 3297.5,-230.5 3303.5,-230.5 3303.5,-230.5 3391.5,-230.5 3391.5,-230.5 3397.5,-230.5 3403.5,-236.5 3403.5,-242.5 3403.5,-242.5 3403.5,-286.5 3403.5,-286.5 3403.5,-292.5 3397.5,-298.5 3391.5,-298.5\"/>\n<text text-anchor=\"start\" x=\"3319.5\" y=\"-283.3\" font-family=\"Helvetica,sans-Serif\" font-size=\"14.00\">gini = 0.0</text>\n<text text-anchor=\"start\" x=\"3310\" y=\"-268.3\" font-family=\"Helvetica,sans-Serif\" font-size=\"14.00\">samples = 3</text>\n<text text-anchor=\"start\" x=\"3308\" y=\"-253.3\" font-family=\"Helvetica,sans-Serif\" font-size=\"14.00\">value = [0, 3]</text>\n<text text-anchor=\"start\" x=\"3299.5\" y=\"-238.3\" font-family=\"Helvetica,sans-Serif\" font-size=\"14.00\">class = Disease</text>\n</g>\n<!-- 91&#45;&gt;93 -->\n<g id=\"edge93\" class=\"edge\">\n<title>91&#45;&gt;93</title>\n<path fill=\"none\" stroke=\"black\" d=\"M3255.42,-341.91C3269.78,-329.99 3285.47,-316.98 3299.75,-305.12\"/>\n<polygon fill=\"black\" stroke=\"black\" points=\"3302.07,-307.75 3307.53,-298.67 3297.6,-302.36 3302.07,-307.75\"/>\n</g>\n<!-- 97 -->\n<g id=\"node98\" class=\"node\">\n<title>97</title>\n<path fill=\"#399de5\" stroke=\"black\" d=\"M3179.5,-655.5C3179.5,-655.5 3091.5,-655.5 3091.5,-655.5 3085.5,-655.5 3079.5,-649.5 3079.5,-643.5 3079.5,-643.5 3079.5,-599.5 3079.5,-599.5 3079.5,-593.5 3085.5,-587.5 3091.5,-587.5 3091.5,-587.5 3179.5,-587.5 3179.5,-587.5 3185.5,-587.5 3191.5,-593.5 3191.5,-599.5 3191.5,-599.5 3191.5,-643.5 3191.5,-643.5 3191.5,-649.5 3185.5,-655.5 3179.5,-655.5\"/>\n<text text-anchor=\"start\" x=\"3107.5\" y=\"-640.3\" font-family=\"Helvetica,sans-Serif\" font-size=\"14.00\">gini = 0.0</text>\n<text text-anchor=\"start\" x=\"3098\" y=\"-625.3\" font-family=\"Helvetica,sans-Serif\" font-size=\"14.00\">samples = 2</text>\n<text text-anchor=\"start\" x=\"3096\" y=\"-610.3\" font-family=\"Helvetica,sans-Serif\" font-size=\"14.00\">value = [0, 2]</text>\n<text text-anchor=\"start\" x=\"3087.5\" y=\"-595.3\" font-family=\"Helvetica,sans-Serif\" font-size=\"14.00\">class = Disease</text>\n</g>\n<!-- 96&#45;&gt;97 -->\n<g id=\"edge97\" class=\"edge\">\n<title>96&#45;&gt;97</title>\n<path fill=\"none\" stroke=\"black\" d=\"M3135.5,-698.91C3135.5,-688.2 3135.5,-676.62 3135.5,-665.78\"/>\n<polygon fill=\"black\" stroke=\"black\" points=\"3139,-665.67 3135.5,-655.67 3132,-665.67 3139,-665.67\"/>\n</g>\n<!-- 98 -->\n<g id=\"node99\" class=\"node\">\n<title>98</title>\n<path fill=\"#e58139\" stroke=\"black\" d=\"M3331,-655.5C3331,-655.5 3222,-655.5 3222,-655.5 3216,-655.5 3210,-649.5 3210,-643.5 3210,-643.5 3210,-599.5 3210,-599.5 3210,-593.5 3216,-587.5 3222,-587.5 3222,-587.5 3331,-587.5 3331,-587.5 3337,-587.5 3343,-593.5 3343,-599.5 3343,-599.5 3343,-643.5 3343,-643.5 3343,-649.5 3337,-655.5 3331,-655.5\"/>\n<text text-anchor=\"start\" x=\"3248.5\" y=\"-640.3\" font-family=\"Helvetica,sans-Serif\" font-size=\"14.00\">gini = 0.0</text>\n<text text-anchor=\"start\" x=\"3235.5\" y=\"-625.3\" font-family=\"Helvetica,sans-Serif\" font-size=\"14.00\">samples = 16</text>\n<text text-anchor=\"start\" x=\"3233.5\" y=\"-610.3\" font-family=\"Helvetica,sans-Serif\" font-size=\"14.00\">value = [16, 0]</text>\n<text text-anchor=\"start\" x=\"3218\" y=\"-595.3\" font-family=\"Helvetica,sans-Serif\" font-size=\"14.00\">class = No Disease</text>\n</g>\n<!-- 96&#45;&gt;98 -->\n<g id=\"edge98\" class=\"edge\">\n<title>96&#45;&gt;98</title>\n<path fill=\"none\" stroke=\"black\" d=\"M3184.42,-698.91C3198.78,-686.99 3214.47,-673.98 3228.75,-662.12\"/>\n<polygon fill=\"black\" stroke=\"black\" points=\"3231.07,-664.75 3236.53,-655.67 3226.6,-659.36 3231.07,-664.75\"/>\n</g>\n</g>\n</svg>\n",
            "text/plain": [
              "<graphviz.sources.Source at 0x7ed295edfb50>"
            ]
          },
          "metadata": {},
          "execution_count": 14
        }
      ]
    },
    {
      "cell_type": "code",
      "source": [
        "from sklearn.metrics import accuracy_score\n",
        "\n",
        "y_pred = dt.predict(X_test)\n",
        "print(\"Decision Tree Accuracy:\", accuracy_score(y_test, y_pred))\n"
      ],
      "metadata": {
        "colab": {
          "base_uri": "https://localhost:8080/"
        },
        "id": "ZkfcDNVoN0z2",
        "outputId": "5d425e58-9d5b-4179-8c54-911ef3a11083"
      },
      "execution_count": 15,
      "outputs": [
        {
          "output_type": "stream",
          "name": "stdout",
          "text": [
            "Decision Tree Accuracy: 0.9853658536585366\n"
          ]
        }
      ]
    },
    {
      "cell_type": "markdown",
      "source": [
        "Understanding Overfitting in Decision Trees\n",
        "Overfitting happens when the tree is too deep and learns noise in the training data.\n",
        "\n",
        "Symptoms:\n",
        "\n",
        "High training accuracy (close to 1.0).\n",
        "\n",
        "Much lower test accuracy (poor generalization).\n",
        "\n",
        "Reason: Decision Trees split until every leaf is pure unless we stop them."
      ],
      "metadata": {
        "id": "eO06yJ_7POcH"
      }
    },
    {
      "cell_type": "markdown",
      "source": [
        "**2. Checking for Overfitting\n",
        "Let’s compare a default deep tree vs. a restricted tree:**"
      ],
      "metadata": {
        "id": "j-6ZUo8RPTqx"
      }
    },
    {
      "cell_type": "markdown",
      "source": [
        "If you see Train ≫ Test, that’s overfitting."
      ],
      "metadata": {
        "id": "MhB0FhlAQoH_"
      }
    },
    {
      "cell_type": "code",
      "source": [
        "from sklearn.tree import DecisionTreeClassifier\n",
        "from sklearn.metrics import accuracy_score\n",
        "\n",
        "# Deep tree (no depth restriction)\n",
        "dt_deep = DecisionTreeClassifier(random_state=42)\n",
        "dt_deep.fit(X_train, y_train)\n",
        "\n",
        "train_acc_deep = dt_deep.score(X_train, y_train)\n",
        "test_acc_deep = dt_deep.score(X_test, y_test)\n",
        "\n",
        "print(\"Deep Tree - Train Accuracy:\", train_acc_deep)\n",
        "print(\"Deep Tree - Test Accuracy:\", test_acc_deep)"
      ],
      "metadata": {
        "colab": {
          "base_uri": "https://localhost:8080/"
        },
        "id": "4AQRneimOlRM",
        "outputId": "a1bd36e5-050b-4fc2-8967-c3e883a8ea3f"
      },
      "execution_count": 16,
      "outputs": [
        {
          "output_type": "stream",
          "name": "stdout",
          "text": [
            "Deep Tree - Train Accuracy: 1.0\n",
            "Deep Tree - Test Accuracy: 0.9853658536585366\n"
          ]
        }
      ]
    },
    {
      "cell_type": "markdown",
      "source": [],
      "metadata": {
        "id": "YvXMkyjcQSAD"
      }
    },
    {
      "cell_type": "markdown",
      "source": [
        "**Controlling Tree Depth**\n",
        "\n",
        "You can reduce overfitting by controlling:\n",
        "\n",
        "max_depth → limit tree levels\n",
        "\n",
        "min_samples_split → require more samples to split\n",
        "\n",
        "min_samples_leaf → require more samples per leaf"
      ],
      "metadata": {
        "id": "vRkSEJYpQisT"
      }
    },
    {
      "cell_type": "code",
      "source": [
        "# Limit depth\n",
        "dt_limited = DecisionTreeClassifier(max_depth=4, random_state=42)\n",
        "dt_limited.fit(X_train, y_train)\n",
        "\n",
        "train_acc_limited = dt_limited.score(X_train, y_train)\n",
        "test_acc_limited = dt_limited.score(X_test, y_test)\n",
        "\n",
        "print(\"Limited Tree - Train Accuracy:\", train_acc_limited)\n",
        "print(\"Limited Tree - Test Accuracy:\", test_acc_limited)"
      ],
      "metadata": {
        "colab": {
          "base_uri": "https://localhost:8080/"
        },
        "id": "cM3wM_QsP6Vv",
        "outputId": "6f1e75ec-9b20-4f72-ae58-47fd84e740b6"
      },
      "execution_count": 17,
      "outputs": [
        {
          "output_type": "stream",
          "name": "stdout",
          "text": [
            "Limited Tree - Train Accuracy: 0.8829268292682927\n",
            "Limited Tree - Test Accuracy: 0.8\n"
          ]
        }
      ]
    },
    {
      "cell_type": "markdown",
      "source": [
        "**Finding the Best Depth**\n",
        "\n",
        "We can test multiple depths to see which works best:"
      ],
      "metadata": {
        "id": "m3-D63LVRDiF"
      }
    },
    {
      "cell_type": "code",
      "source": [
        "best_depth = None\n",
        "best_test_acc = 0\n",
        "\n",
        "for depth in range(1, 11):\n",
        "    model = DecisionTreeClassifier(max_depth=depth, random_state=42)\n",
        "    model.fit(X_train, y_train)\n",
        "    test_acc = model.score(X_test, y_test)\n",
        "    print(f\"Depth {depth}: Train={model.score(X_train, y_train):.3f}, Test={test_acc:.3f}\")\n",
        "\n",
        "    if test_acc > best_test_acc:\n",
        "        best_test_acc = test_acc\n",
        "        best_depth = depth\n",
        "\n",
        "print(f\"\\nBest Depth: {best_depth} with Test Accuracy: {best_test_acc:.3f}\")"
      ],
      "metadata": {
        "colab": {
          "base_uri": "https://localhost:8080/"
        },
        "id": "dtQzBP-nQ9ej",
        "outputId": "aa3dca69-e192-4e58-bc03-f359f9193fe8"
      },
      "execution_count": 18,
      "outputs": [
        {
          "output_type": "stream",
          "name": "stdout",
          "text": [
            "Depth 1: Train=0.762, Test=0.751\n",
            "Depth 2: Train=0.770, Test=0.678\n",
            "Depth 3: Train=0.851, Test=0.780\n",
            "Depth 4: Train=0.883, Test=0.800\n",
            "Depth 5: Train=0.929, Test=0.844\n",
            "Depth 6: Train=0.949, Test=0.883\n",
            "Depth 7: Train=0.973, Test=0.917\n",
            "Depth 8: Train=0.990, Test=0.976\n",
            "Depth 9: Train=0.996, Test=0.980\n",
            "Depth 10: Train=1.000, Test=0.985\n",
            "\n",
            "Best Depth: 10 with Test Accuracy: 0.985\n"
          ]
        }
      ]
    },
    {
      "cell_type": "markdown",
      "source": [
        "**Why Random Forest?**\n",
        "\n",
        "\n",
        "Random Forest = Many Decision Trees trained on different random subsets of data and features.\n",
        "\n",
        "Reduces overfitting because predictions are averaged.\n",
        "\n",
        "Usually has better test accuracy than a single decision tree.\n",
        "\n"
      ],
      "metadata": {
        "id": "3YCYFcwaRbN0"
      }
    },
    {
      "cell_type": "markdown",
      "source": [
        "**2. Training a Random Forest**"
      ],
      "metadata": {
        "id": "NBEvrEUKRk2w"
      }
    },
    {
      "cell_type": "code",
      "source": [
        "from sklearn.ensemble import RandomForestClassifier\n",
        "#from sklearn.metrics import accuracy_score\n",
        "\n",
        "# Train Random Forest\n",
        "rf = RandomForestClassifier(\n",
        "    n_estimators=100,  # number of trees\n",
        "    random_state=42\n",
        ")\n",
        "rf.fit(X_train, y_train)\n",
        "\n",
        "# Predictions\n",
        "y_pred_rf = rf.predict(X_test)\n",
        "\n",
        "# Accuracy\n",
        "print(\"Random Forest Accuracy:\", accuracy_score(y_test, y_pred_rf))"
      ],
      "metadata": {
        "colab": {
          "base_uri": "https://localhost:8080/"
        },
        "id": "HZTISQNURKWK",
        "outputId": "2204e66b-e0b3-4009-e54e-65d7c4cd6000"
      },
      "execution_count": 19,
      "outputs": [
        {
          "output_type": "stream",
          "name": "stdout",
          "text": [
            "Random Forest Accuracy: 0.9853658536585366\n"
          ]
        }
      ]
    },
    {
      "cell_type": "markdown",
      "source": [
        "**3. Comparing with Decision Tree**\n",
        "\n",
        "Let’s reuse the limited-depth Decision Tree from Step 2:"
      ],
      "metadata": {
        "id": "T3IF9lpKR6N4"
      }
    },
    {
      "cell_type": "code",
      "source": [
        "# Compare Accuracies\n",
        "print(\"Decision Tree Accuracy (max_depth=4):\", test_acc_limited)\n",
        "print(\"Random Forest Accuracy:\", accuracy_score(y_test, y_pred_rf))"
      ],
      "metadata": {
        "colab": {
          "base_uri": "https://localhost:8080/"
        },
        "id": "dMT3l-GKR0P0",
        "outputId": "01259a99-f9d2-4438-b2d3-be36d787fe72"
      },
      "execution_count": 20,
      "outputs": [
        {
          "output_type": "stream",
          "name": "stdout",
          "text": [
            "Decision Tree Accuracy (max_depth=4): 0.8\n",
            "Random Forest Accuracy: 0.9853658536585366\n"
          ]
        }
      ]
    },
    {
      "cell_type": "markdown",
      "source": [
        "**You’ll often find:**\n",
        "\n",
        "Decision Tree → good train accuracy, slightly lower test accuracy.\n",
        "\n",
        "Random Forest → slightly lower train accuracy, higher test accuracy."
      ],
      "metadata": {
        "id": "QaH_FGHOSIpj"
      }
    },
    {
      "cell_type": "markdown",
      "source": [
        "4. Optional: Cross-Check Overfitting"
      ],
      "metadata": {
        "id": "_eJ9JYBOSPAh"
      }
    },
    {
      "cell_type": "code",
      "source": [
        "print(\"Random Forest Train Accuracy:\", rf.score(X_train, y_train))\n",
        "print(\"Random Forest Test Accuracy:\", rf.score(X_test, y_test))\n"
      ],
      "metadata": {
        "colab": {
          "base_uri": "https://localhost:8080/"
        },
        "id": "zEOabv9FSAtt",
        "outputId": "aea47da2-8959-4b24-b9de-16d6fd30fa42"
      },
      "execution_count": 21,
      "outputs": [
        {
          "output_type": "stream",
          "name": "stdout",
          "text": [
            "Random Forest Train Accuracy: 1.0\n",
            "Random Forest Test Accuracy: 0.9853658536585366\n"
          ]
        }
      ]
    },
    {
      "cell_type": "markdown",
      "source": [
        "**1. What are Feature Importances?**\n",
        "\n",
        "They tell us how much each feature contributed to the model’s predictions.\n",
        "\n",
        "In Decision Trees & Random Forests:\n",
        "\n",
        "The more a feature reduces impurity (Gini/Entropy), the higher its importance score.\n",
        "\n",
        "Values are normalized so they sum to 1."
      ],
      "metadata": {
        "id": "xCv820fuSnOz"
      }
    },
    {
      "cell_type": "code",
      "source": [
        "import numpy as np\n",
        "\n",
        "# Get feature importances from the trained Random Forest\n",
        "importances = rf.feature_importances_\n",
        "feature_names = X.columns\n",
        "\n",
        "# Sort by importance\n",
        "indices = np.argsort(importances)[::-1]\n",
        "\n",
        "# Print rankings\n",
        "print(\"Feature Importances:\")\n",
        "for i in range(len(feature_names)):\n",
        "    print(f\"{i+1}. {feature_names[indices[i]]} - {importances[indices[i]]:.4f}\")"
      ],
      "metadata": {
        "colab": {
          "base_uri": "https://localhost:8080/"
        },
        "id": "qDuRLKg9STRO",
        "outputId": "f5020b34-d368-4313-9a42-683df09de785"
      },
      "execution_count": 22,
      "outputs": [
        {
          "output_type": "stream",
          "name": "stdout",
          "text": [
            "Feature Importances:\n",
            "1. cp - 0.1351\n",
            "2. ca - 0.1273\n",
            "3. thalach - 0.1222\n",
            "4. oldpeak - 0.1219\n",
            "5. thal - 0.1105\n",
            "6. age - 0.0779\n",
            "7. chol - 0.0748\n",
            "8. trestbps - 0.0712\n",
            "9. exang - 0.0576\n",
            "10. slope - 0.0458\n",
            "11. sex - 0.0287\n",
            "12. restecg - 0.0186\n",
            "13. fbs - 0.0084\n"
          ]
        }
      ]
    },
    {
      "cell_type": "markdown",
      "source": [
        "**3. Visualize Feature Importances**"
      ],
      "metadata": {
        "id": "oTSH1g9vSzCU"
      }
    },
    {
      "cell_type": "code",
      "source": [
        "import matplotlib.pyplot as plt\n",
        "\n",
        "plt.figure(figsize=(8, 5))\n",
        "plt.bar(range(X.shape[1]), importances[indices], align='center')\n",
        "plt.xticks(range(X.shape[1]), [feature_names[i] for i in indices], rotation=90)\n",
        "plt.title(\"Feature Importances (Random Forest)\")\n",
        "plt.ylabel(\"Importance Score\")\n",
        "plt.tight_layout()\n",
        "plt.show()"
      ],
      "metadata": {
        "colab": {
          "base_uri": "https://localhost:8080/",
          "height": 506
        },
        "id": "S2Gi4Wp-Su8C",
        "outputId": "661c5708-daf0-47fd-f81f-890459484a19"
      },
      "execution_count": 23,
      "outputs": [
        {
          "output_type": "display_data",
          "data": {
            "text/plain": [
              "<Figure size 800x500 with 1 Axes>"
            ],
            "image/png": "[encoded data removed]"
          },
          "metadata": {}
        }
      ]
    },
    {
      "cell_type": "markdown",
      "source": [
        "**4. How to Interpret**\n",
        "\n",
        "High score → feature is more useful for classification.\n",
        "\n",
        "Example for heart dataset:\n",
        "\n",
        "  cp (chest pain type) or thalach (max heart rate) may have high importance.\n",
        "  fbs (fasting blood sugar) might have low importance."
      ],
      "metadata": {
        "id": "yzcaeo11TQ-y"
      }
    },
    {
      "cell_type": "markdown",
      "source": [
        "**5. Practical Use**\n",
        "\n",
        "Identify key predictors for the problem.\n",
        "\n",
        "Possibly drop low-importance features for simpler models.\n",
        "\n",
        "Aid in domain understanding (doctors, analysts, etc.)."
      ],
      "metadata": {
        "id": "b5PkIMhITnhm"
      }
    },
    {
      "cell_type": "markdown",
      "source": [
        "**1. Why Cross-Validation?**\n",
        "\n",
        "A single train/test split may give a lucky or unlucky accuracy.\n",
        "\n",
        "Cross-validation splits the dataset into k folds:\n",
        "\n",
        "Train on k-1 folds.\n",
        "\n",
        "*   Test on the remaining fold.\n",
        "*   Repeat k times and average results.\n",
        "\n",
        "\n",
        "\n",
        "Gives a more stable and reliable performance estimate."
      ],
      "metadata": {
        "id": "II8_dQ-DT5P0"
      }
    },
    {
      "cell_type": "markdown",
      "source": [
        "**2. Evaluate Random Forest with Cross-Validation**"
      ],
      "metadata": {
        "id": "DpFj3i4eUQRQ"
      }
    },
    {
      "cell_type": "code",
      "source": [
        "from sklearn.model_selection import cross_val_score\n",
        "#import numpy as np\n",
        "\n",
        "# 5-Fold Cross-Validation\n",
        "cv_scores = cross_val_score(rf, X, y, cv=5)\n",
        "\n",
        "print(\"Cross-validation scores:\", cv_scores)\n",
        "print(\"Mean CV Accuracy:\", np.mean(cv_scores))"
      ],
      "metadata": {
        "colab": {
          "base_uri": "https://localhost:8080/"
        },
        "id": "Mee-IBYfS62v",
        "outputId": "97f73bb4-6523-47c2-826a-28603cd81113"
      },
      "execution_count": 25,
      "outputs": [
        {
          "output_type": "stream",
          "name": "stdout",
          "text": [
            "Cross-validation scores: [1.         1.         1.         1.         0.98536585]\n",
            "Mean CV Accuracy: 0.9970731707317073\n"
          ]
        }
      ]
    },
    {
      "cell_type": "markdown",
      "source": [
        "**3. Compare with Decision Tree**"
      ],
      "metadata": {
        "id": "HCoT417oUc8p"
      }
    },
    {
      "cell_type": "code",
      "source": [
        "dt_cv_scores = cross_val_score(dt_limited, X, y, cv=5)\n",
        "print(\"Decision Tree (max_depth=4) CV Scores:\", dt_cv_scores)\n",
        "print(\"Decision Tree Mean CV Accuracy:\", np.mean(dt_cv_scores))\n",
        "\n",
        "rf_cv_scores = cross_val_score(rf, X, y, cv=5)\n",
        "print(\"Random Forest CV Scores:\", rf_cv_scores)\n",
        "print(\"Random Forest Mean CV Accuracy:\", np.mean(rf_cv_scores))"
      ],
      "metadata": {
        "colab": {
          "base_uri": "https://localhost:8080/"
        },
        "id": "kqacdo25UaQT",
        "outputId": "95c520cb-80b4-4a7f-94a0-b74f82f33bbb"
      },
      "execution_count": 26,
      "outputs": [
        {
          "output_type": "stream",
          "name": "stdout",
          "text": [
            "Decision Tree (max_depth=4) CV Scores: [0.84390244 0.83414634 0.87317073 0.80487805 0.81463415]\n",
            "Decision Tree Mean CV Accuracy: 0.8341463414634147\n",
            "Random Forest CV Scores: [1.         1.         1.         1.         0.98536585]\n",
            "Random Forest Mean CV Accuracy: 0.9970731707317073\n"
          ]
        }
      ]
    },
    {
      "cell_type": "markdown",
      "source": [
        "4. Interpreting the Results\n",
        "\n",
        "\n",
        "*   Higher mean CV accuracy → better generalization.\n",
        "\n",
        "*   Lower standard deviation → more stable predictions across folds.\n",
        "\n",
        "*   Random Forest should generally have both higher mean accuracy and stability."
      ],
      "metadata": {
        "id": "Z_olyfMiUjDa"
      }
    },
    {
      "cell_type": "markdown",
      "source": [
        "**Now we have have:**\n",
        "\n",
        "Trained & visualized a Decision Tree.\n",
        "\n",
        "Controlled overfitting with depth limits.\n",
        "\n",
        "Compared with Random Forest.\n",
        "\n",
        "Extracted feature importances.\n",
        "\n",
        "Validated models using cross-validation."
      ],
      "metadata": {
        "id": "_16IH46eU5br"
      }
    },
    {
      "cell_type": "code",
      "source": [],
      "metadata": {
        "id": "h9eW4Ib0UgOP"
      },
      "execution_count": null,
      "outputs": []
    }
  ]
}